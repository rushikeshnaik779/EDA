{
  "nbformat": 4,
  "nbformat_minor": 0,
  "metadata": {
    "colab": {
      "name": "IEE FRaud detection.ipynb",
      "provenance": [],
      "authorship_tag": "ABX9TyOlbaSFgLBKqCme1ioVU/03",
      "include_colab_link": true
    },
    "kernelspec": {
      "name": "python3",
      "display_name": "Python 3"
    }
  },
  "cells": [
    {
      "cell_type": "markdown",
      "metadata": {
        "id": "view-in-github",
        "colab_type": "text"
      },
      "source": [
        "<a href=\"https://colab.research.google.com/github/rushikeshnaik779/EDA/blob/master/IEE_FRaud_detection.ipynb\" target=\"_parent\"><img src=\"https://colab.research.google.com/assets/colab-badge.svg\" alt=\"Open In Colab\"/></a>"
      ]
    },
    {
      "cell_type": "code",
      "metadata": {
        "colab": {
          "base_uri": "https://localhost:8080/"
        },
        "id": "5K01KakO3-lE",
        "outputId": "3059d08a-8bad-491d-9402-cb18c733689f"
      },
      "source": [
        "from google.colab import drive\n",
        "drive.mount('/content/gdrive')"
      ],
      "execution_count": 35,
      "outputs": [
        {
          "output_type": "stream",
          "text": [
            "Drive already mounted at /content/gdrive; to attempt to forcibly remount, call drive.mount(\"/content/gdrive\", force_remount=True).\n"
          ],
          "name": "stdout"
        }
      ]
    },
    {
      "cell_type": "code",
      "metadata": {
        "id": "r9gROHlb4xoA"
      },
      "source": [
        "import os\n",
        "os.environ['KAGGLE_CONFIG_DIR'] = \"/content/gdrive/My Drive/Kaggle\""
      ],
      "execution_count": 36,
      "outputs": []
    },
    {
      "cell_type": "code",
      "metadata": {
        "colab": {
          "base_uri": "https://localhost:8080/"
        },
        "id": "C91EBVaD5-D6",
        "outputId": "9c2e791f-94f1-4441-bf2a-24a118815ef5"
      },
      "source": [
        "#changing the working directory\n",
        "%cd /content/gdrive/MyDrive/Kaggle\n",
        "#Check the present working directory using pwd command"
      ],
      "execution_count": 39,
      "outputs": [
        {
          "output_type": "stream",
          "text": [
            "/content/gdrive/MyDrive/Kaggle\n"
          ],
          "name": "stdout"
        }
      ]
    },
    {
      "cell_type": "code",
      "metadata": {
        "colab": {
          "base_uri": "https://localhost:8080/"
        },
        "id": "ysDbKlsv6UwA",
        "outputId": "718e31fd-c877-4249-c495-dd6119b75595"
      },
      "source": [
        "%ls\n",
        "\n"
      ],
      "execution_count": 40,
      "outputs": [
        {
          "output_type": "stream",
          "text": [
            "kaggle.json\n"
          ],
          "name": "stdout"
        }
      ]
    },
    {
      "cell_type": "code",
      "metadata": {
        "colab": {
          "base_uri": "https://localhost:8080/"
        },
        "id": "mzWAHMvv6im3",
        "outputId": "093173f8-fce1-48a2-aee4-5c0da19c9d22"
      },
      "source": [
        "!kaggle competitions download -c ieee-fraud-detection"
      ],
      "execution_count": 42,
      "outputs": [
        {
          "output_type": "stream",
          "text": [
            "Warning: Looks like you're using an outdated API Version, please consider updating (server 1.5.10 / client 1.5.4)\n",
            "Downloading train_transaction.csv.zip to /content/gdrive/My Drive/Kaggle\n",
            " 84% 49.0M/58.3M [00:01<00:00, 24.5MB/s]\n",
            "100% 58.3M/58.3M [00:01<00:00, 39.0MB/s]\n",
            "Downloading test_identity.csv.zip to /content/gdrive/My Drive/Kaggle\n",
            "  0% 0.00/3.21M [00:00<?, ?B/s]\n",
            "100% 3.21M/3.21M [00:00<00:00, 52.9MB/s]\n",
            "Downloading sample_submission.csv.zip to /content/gdrive/My Drive/Kaggle\n",
            "  0% 0.00/1.14M [00:00<?, ?B/s]\n",
            "100% 1.14M/1.14M [00:00<00:00, 37.1MB/s]\n",
            "Downloading train_identity.csv.zip to /content/gdrive/My Drive/Kaggle\n",
            "  0% 0.00/3.26M [00:00<?, ?B/s]\n",
            "100% 3.26M/3.26M [00:00<00:00, 108MB/s]\n",
            "Downloading test_transaction.csv.zip to /content/gdrive/My Drive/Kaggle\n",
            " 96% 50.0M/52.2M [00:01<00:00, 35.4MB/s]\n",
            "100% 52.2M/52.2M [00:01<00:00, 45.0MB/s]\n"
          ],
          "name": "stdout"
        }
      ]
    },
    {
      "cell_type": "code",
      "metadata": {
        "colab": {
          "base_uri": "https://localhost:8080/"
        },
        "id": "taWkrVTP9PAI",
        "outputId": "f0a6eabd-1b26-4ceb-fc2a-b294f6c52710"
      },
      "source": [
        "!unzip \\*.zip  && rm *.zip"
      ],
      "execution_count": 43,
      "outputs": [
        {
          "output_type": "stream",
          "text": [
            "Archive:  train_transaction.csv.zip\n",
            "  inflating: train_transaction.csv   \n",
            "\n",
            "Archive:  test_identity.csv.zip\n",
            "  inflating: test_identity.csv       \n",
            "\n",
            "Archive:  sample_submission.csv.zip\n",
            "  inflating: sample_submission.csv   \n",
            "\n",
            "Archive:  train_identity.csv.zip\n",
            "  inflating: train_identity.csv      \n",
            "\n",
            "Archive:  test_transaction.csv.zip\n",
            "  inflating: test_transaction.csv    \n",
            "\n",
            "5 archives were successfully processed.\n"
          ],
          "name": "stdout"
        }
      ]
    },
    {
      "cell_type": "code",
      "metadata": {
        "colab": {
          "base_uri": "https://localhost:8080/"
        },
        "id": "XiLGY0xQ9uZ2",
        "outputId": "aa436b33-3fb2-4233-d81c-b3c81e4fc58d"
      },
      "source": [
        "%ls"
      ],
      "execution_count": 44,
      "outputs": [
        {
          "output_type": "stream",
          "text": [
            "kaggle.json            test_identity.csv     train_identity.csv\n",
            "sample_submission.csv  test_transaction.csv  train_transaction.csv\n"
          ],
          "name": "stdout"
        }
      ]
    },
    {
      "cell_type": "code",
      "metadata": {
        "id": "qNTwzig3-iyk"
      },
      "source": [
        "import pandas as pd \n",
        "import numpy as np \n",
        "import seaborn as sns\n",
        "import matplotlib.pyplot as plt\n"
      ],
      "execution_count": 46,
      "outputs": []
    },
    {
      "cell_type": "code",
      "metadata": {
        "colab": {
          "base_uri": "https://localhost:8080/",
          "height": 479
        },
        "id": "8nEz_fv3-I3B",
        "outputId": "8f9f2a5c-a560-4db2-a1e0-8d6bfd6757b2"
      },
      "source": [
        "test_identity = pd.read_csv('./test_identity.csv')\n",
        "test_identity.head()"
      ],
      "execution_count": 47,
      "outputs": [
        {
          "output_type": "execute_result",
          "data": {
            "text/html": [
              "<div>\n",
              "<style scoped>\n",
              "    .dataframe tbody tr th:only-of-type {\n",
              "        vertical-align: middle;\n",
              "    }\n",
              "\n",
              "    .dataframe tbody tr th {\n",
              "        vertical-align: top;\n",
              "    }\n",
              "\n",
              "    .dataframe thead th {\n",
              "        text-align: right;\n",
              "    }\n",
              "</style>\n",
              "<table border=\"1\" class=\"dataframe\">\n",
              "  <thead>\n",
              "    <tr style=\"text-align: right;\">\n",
              "      <th></th>\n",
              "      <th>TransactionID</th>\n",
              "      <th>id-01</th>\n",
              "      <th>id-02</th>\n",
              "      <th>id-03</th>\n",
              "      <th>id-04</th>\n",
              "      <th>id-05</th>\n",
              "      <th>id-06</th>\n",
              "      <th>id-07</th>\n",
              "      <th>id-08</th>\n",
              "      <th>id-09</th>\n",
              "      <th>id-10</th>\n",
              "      <th>id-11</th>\n",
              "      <th>id-12</th>\n",
              "      <th>id-13</th>\n",
              "      <th>id-14</th>\n",
              "      <th>id-15</th>\n",
              "      <th>id-16</th>\n",
              "      <th>id-17</th>\n",
              "      <th>id-18</th>\n",
              "      <th>id-19</th>\n",
              "      <th>id-20</th>\n",
              "      <th>id-21</th>\n",
              "      <th>id-22</th>\n",
              "      <th>id-23</th>\n",
              "      <th>id-24</th>\n",
              "      <th>id-25</th>\n",
              "      <th>id-26</th>\n",
              "      <th>id-27</th>\n",
              "      <th>id-28</th>\n",
              "      <th>id-29</th>\n",
              "      <th>id-30</th>\n",
              "      <th>id-31</th>\n",
              "      <th>id-32</th>\n",
              "      <th>id-33</th>\n",
              "      <th>id-34</th>\n",
              "      <th>id-35</th>\n",
              "      <th>id-36</th>\n",
              "      <th>id-37</th>\n",
              "      <th>id-38</th>\n",
              "      <th>DeviceType</th>\n",
              "      <th>DeviceInfo</th>\n",
              "    </tr>\n",
              "  </thead>\n",
              "  <tbody>\n",
              "    <tr>\n",
              "      <th>0</th>\n",
              "      <td>3663586</td>\n",
              "      <td>-45.0</td>\n",
              "      <td>280290.0</td>\n",
              "      <td>NaN</td>\n",
              "      <td>NaN</td>\n",
              "      <td>0.0</td>\n",
              "      <td>0.0</td>\n",
              "      <td>NaN</td>\n",
              "      <td>NaN</td>\n",
              "      <td>NaN</td>\n",
              "      <td>NaN</td>\n",
              "      <td>100.0</td>\n",
              "      <td>NotFound</td>\n",
              "      <td>27.0</td>\n",
              "      <td>NaN</td>\n",
              "      <td>New</td>\n",
              "      <td>NotFound</td>\n",
              "      <td>225.0</td>\n",
              "      <td>15.0</td>\n",
              "      <td>427.0</td>\n",
              "      <td>563.0</td>\n",
              "      <td>NaN</td>\n",
              "      <td>NaN</td>\n",
              "      <td>NaN</td>\n",
              "      <td>NaN</td>\n",
              "      <td>NaN</td>\n",
              "      <td>NaN</td>\n",
              "      <td>NaN</td>\n",
              "      <td>New</td>\n",
              "      <td>NotFound</td>\n",
              "      <td>NaN</td>\n",
              "      <td>chrome 67.0 for android</td>\n",
              "      <td>NaN</td>\n",
              "      <td>NaN</td>\n",
              "      <td>NaN</td>\n",
              "      <td>F</td>\n",
              "      <td>F</td>\n",
              "      <td>T</td>\n",
              "      <td>F</td>\n",
              "      <td>mobile</td>\n",
              "      <td>MYA-L13 Build/HUAWEIMYA-L13</td>\n",
              "    </tr>\n",
              "    <tr>\n",
              "      <th>1</th>\n",
              "      <td>3663588</td>\n",
              "      <td>0.0</td>\n",
              "      <td>3579.0</td>\n",
              "      <td>0.0</td>\n",
              "      <td>0.0</td>\n",
              "      <td>0.0</td>\n",
              "      <td>0.0</td>\n",
              "      <td>NaN</td>\n",
              "      <td>NaN</td>\n",
              "      <td>0.0</td>\n",
              "      <td>0.0</td>\n",
              "      <td>100.0</td>\n",
              "      <td>Found</td>\n",
              "      <td>NaN</td>\n",
              "      <td>-300.0</td>\n",
              "      <td>Found</td>\n",
              "      <td>Found</td>\n",
              "      <td>166.0</td>\n",
              "      <td>NaN</td>\n",
              "      <td>542.0</td>\n",
              "      <td>368.0</td>\n",
              "      <td>NaN</td>\n",
              "      <td>NaN</td>\n",
              "      <td>NaN</td>\n",
              "      <td>NaN</td>\n",
              "      <td>NaN</td>\n",
              "      <td>NaN</td>\n",
              "      <td>NaN</td>\n",
              "      <td>Found</td>\n",
              "      <td>Found</td>\n",
              "      <td>Android 6.0.1</td>\n",
              "      <td>chrome 67.0 for android</td>\n",
              "      <td>24.0</td>\n",
              "      <td>1280x720</td>\n",
              "      <td>match_status:2</td>\n",
              "      <td>T</td>\n",
              "      <td>F</td>\n",
              "      <td>T</td>\n",
              "      <td>T</td>\n",
              "      <td>mobile</td>\n",
              "      <td>LGLS676 Build/MXB48T</td>\n",
              "    </tr>\n",
              "    <tr>\n",
              "      <th>2</th>\n",
              "      <td>3663597</td>\n",
              "      <td>-5.0</td>\n",
              "      <td>185210.0</td>\n",
              "      <td>NaN</td>\n",
              "      <td>NaN</td>\n",
              "      <td>1.0</td>\n",
              "      <td>0.0</td>\n",
              "      <td>NaN</td>\n",
              "      <td>NaN</td>\n",
              "      <td>NaN</td>\n",
              "      <td>NaN</td>\n",
              "      <td>100.0</td>\n",
              "      <td>NotFound</td>\n",
              "      <td>52.0</td>\n",
              "      <td>-360.0</td>\n",
              "      <td>New</td>\n",
              "      <td>NotFound</td>\n",
              "      <td>225.0</td>\n",
              "      <td>NaN</td>\n",
              "      <td>271.0</td>\n",
              "      <td>507.0</td>\n",
              "      <td>NaN</td>\n",
              "      <td>NaN</td>\n",
              "      <td>NaN</td>\n",
              "      <td>NaN</td>\n",
              "      <td>NaN</td>\n",
              "      <td>NaN</td>\n",
              "      <td>NaN</td>\n",
              "      <td>New</td>\n",
              "      <td>NotFound</td>\n",
              "      <td>NaN</td>\n",
              "      <td>ie 11.0 for tablet</td>\n",
              "      <td>NaN</td>\n",
              "      <td>NaN</td>\n",
              "      <td>NaN</td>\n",
              "      <td>F</td>\n",
              "      <td>T</td>\n",
              "      <td>T</td>\n",
              "      <td>F</td>\n",
              "      <td>desktop</td>\n",
              "      <td>Trident/7.0</td>\n",
              "    </tr>\n",
              "    <tr>\n",
              "      <th>3</th>\n",
              "      <td>3663601</td>\n",
              "      <td>-45.0</td>\n",
              "      <td>252944.0</td>\n",
              "      <td>0.0</td>\n",
              "      <td>0.0</td>\n",
              "      <td>0.0</td>\n",
              "      <td>0.0</td>\n",
              "      <td>NaN</td>\n",
              "      <td>NaN</td>\n",
              "      <td>0.0</td>\n",
              "      <td>0.0</td>\n",
              "      <td>100.0</td>\n",
              "      <td>NotFound</td>\n",
              "      <td>27.0</td>\n",
              "      <td>NaN</td>\n",
              "      <td>Found</td>\n",
              "      <td>Found</td>\n",
              "      <td>225.0</td>\n",
              "      <td>15.0</td>\n",
              "      <td>427.0</td>\n",
              "      <td>563.0</td>\n",
              "      <td>NaN</td>\n",
              "      <td>NaN</td>\n",
              "      <td>NaN</td>\n",
              "      <td>NaN</td>\n",
              "      <td>NaN</td>\n",
              "      <td>NaN</td>\n",
              "      <td>NaN</td>\n",
              "      <td>Found</td>\n",
              "      <td>Found</td>\n",
              "      <td>NaN</td>\n",
              "      <td>chrome 67.0 for android</td>\n",
              "      <td>NaN</td>\n",
              "      <td>NaN</td>\n",
              "      <td>NaN</td>\n",
              "      <td>F</td>\n",
              "      <td>F</td>\n",
              "      <td>T</td>\n",
              "      <td>F</td>\n",
              "      <td>mobile</td>\n",
              "      <td>MYA-L13 Build/HUAWEIMYA-L13</td>\n",
              "    </tr>\n",
              "    <tr>\n",
              "      <th>4</th>\n",
              "      <td>3663602</td>\n",
              "      <td>-95.0</td>\n",
              "      <td>328680.0</td>\n",
              "      <td>NaN</td>\n",
              "      <td>NaN</td>\n",
              "      <td>7.0</td>\n",
              "      <td>-33.0</td>\n",
              "      <td>NaN</td>\n",
              "      <td>NaN</td>\n",
              "      <td>NaN</td>\n",
              "      <td>NaN</td>\n",
              "      <td>100.0</td>\n",
              "      <td>NotFound</td>\n",
              "      <td>27.0</td>\n",
              "      <td>NaN</td>\n",
              "      <td>New</td>\n",
              "      <td>NotFound</td>\n",
              "      <td>225.0</td>\n",
              "      <td>15.0</td>\n",
              "      <td>567.0</td>\n",
              "      <td>507.0</td>\n",
              "      <td>NaN</td>\n",
              "      <td>NaN</td>\n",
              "      <td>NaN</td>\n",
              "      <td>NaN</td>\n",
              "      <td>NaN</td>\n",
              "      <td>NaN</td>\n",
              "      <td>NaN</td>\n",
              "      <td>New</td>\n",
              "      <td>NotFound</td>\n",
              "      <td>NaN</td>\n",
              "      <td>chrome 67.0 for android</td>\n",
              "      <td>NaN</td>\n",
              "      <td>NaN</td>\n",
              "      <td>NaN</td>\n",
              "      <td>F</td>\n",
              "      <td>F</td>\n",
              "      <td>T</td>\n",
              "      <td>F</td>\n",
              "      <td>mobile</td>\n",
              "      <td>SM-G9650 Build/R16NW</td>\n",
              "    </tr>\n",
              "  </tbody>\n",
              "</table>\n",
              "</div>"
            ],
            "text/plain": [
              "   TransactionID  id-01     id-02  ...  id-38  DeviceType                   DeviceInfo\n",
              "0        3663586  -45.0  280290.0  ...      F      mobile  MYA-L13 Build/HUAWEIMYA-L13\n",
              "1        3663588    0.0    3579.0  ...      T      mobile         LGLS676 Build/MXB48T\n",
              "2        3663597   -5.0  185210.0  ...      F     desktop                  Trident/7.0\n",
              "3        3663601  -45.0  252944.0  ...      F      mobile  MYA-L13 Build/HUAWEIMYA-L13\n",
              "4        3663602  -95.0  328680.0  ...      F      mobile         SM-G9650 Build/R16NW\n",
              "\n",
              "[5 rows x 41 columns]"
            ]
          },
          "metadata": {
            "tags": []
          },
          "execution_count": 47
        }
      ]
    },
    {
      "cell_type": "code",
      "metadata": {
        "colab": {
          "base_uri": "https://localhost:8080/"
        },
        "id": "3cRJNnIb-gxq",
        "outputId": "a976775d-ef9d-477e-dea2-5919f179c5ae"
      },
      "source": [
        "test_identity.info()"
      ],
      "execution_count": 48,
      "outputs": [
        {
          "output_type": "stream",
          "text": [
            "<class 'pandas.core.frame.DataFrame'>\n",
            "RangeIndex: 141907 entries, 0 to 141906\n",
            "Data columns (total 41 columns):\n",
            " #   Column         Non-Null Count   Dtype  \n",
            "---  ------         --------------   -----  \n",
            " 0   TransactionID  141907 non-null  int64  \n",
            " 1   id-01          141907 non-null  float64\n",
            " 2   id-02          136976 non-null  float64\n",
            " 3   id-03          66481 non-null   float64\n",
            " 4   id-04          66481 non-null   float64\n",
            " 5   id-05          134750 non-null  float64\n",
            " 6   id-06          134750 non-null  float64\n",
            " 7   id-07          5059 non-null    float64\n",
            " 8   id-08          5059 non-null    float64\n",
            " 9   id-09          74338 non-null   float64\n",
            " 10  id-10          74338 non-null   float64\n",
            " 11  id-11          136778 non-null  float64\n",
            " 12  id-12          141907 non-null  object \n",
            " 13  id-13          130286 non-null  float64\n",
            " 14  id-14          71357 non-null   float64\n",
            " 15  id-15          136977 non-null  object \n",
            " 16  id-16          125747 non-null  object \n",
            " 17  id-17          135966 non-null  float64\n",
            " 18  id-18          50875 non-null   float64\n",
            " 19  id-19          135906 non-null  float64\n",
            " 20  id-20          135633 non-null  float64\n",
            " 21  id-21          5059 non-null    float64\n",
            " 22  id-22          5062 non-null    float64\n",
            " 23  id-23          5062 non-null    object \n",
            " 24  id-24          4740 non-null    float64\n",
            " 25  id-25          5039 non-null    float64\n",
            " 26  id-26          5047 non-null    float64\n",
            " 27  id-27          5062 non-null    object \n",
            " 28  id-28          136778 non-null  object \n",
            " 29  id-29          136778 non-null  object \n",
            " 30  id-30          70659 non-null   object \n",
            " 31  id-31          136625 non-null  object \n",
            " 32  id-32          70671 non-null   float64\n",
            " 33  id-33          70671 non-null   object \n",
            " 34  id-34          72175 non-null   object \n",
            " 35  id-35          136977 non-null  object \n",
            " 36  id-36          136977 non-null  object \n",
            " 37  id-37          136977 non-null  object \n",
            " 38  id-38          136977 non-null  object \n",
            " 39  DeviceType     136931 non-null  object \n",
            " 40  DeviceInfo     115057 non-null  object \n",
            "dtypes: float64(23), int64(1), object(17)\n",
            "memory usage: 44.4+ MB\n"
          ],
          "name": "stdout"
        }
      ]
    },
    {
      "cell_type": "code",
      "metadata": {
        "colab": {
          "base_uri": "https://localhost:8080/"
        },
        "id": "IOuZ-sfiEY-g",
        "outputId": "727cb26b-d7fc-4fde-fd12-4a3a413d55f8"
      },
      "source": [
        "test_identity.isnull().sum()"
      ],
      "execution_count": 49,
      "outputs": [
        {
          "output_type": "execute_result",
          "data": {
            "text/plain": [
              "TransactionID         0\n",
              "id-01                 0\n",
              "id-02              4931\n",
              "id-03             75426\n",
              "id-04             75426\n",
              "id-05              7157\n",
              "id-06              7157\n",
              "id-07            136848\n",
              "id-08            136848\n",
              "id-09             67569\n",
              "id-10             67569\n",
              "id-11              5129\n",
              "id-12                 0\n",
              "id-13             11621\n",
              "id-14             70550\n",
              "id-15              4930\n",
              "id-16             16160\n",
              "id-17              5941\n",
              "id-18             91032\n",
              "id-19              6001\n",
              "id-20              6274\n",
              "id-21            136848\n",
              "id-22            136845\n",
              "id-23            136845\n",
              "id-24            137167\n",
              "id-25            136868\n",
              "id-26            136860\n",
              "id-27            136845\n",
              "id-28              5129\n",
              "id-29              5129\n",
              "id-30             71248\n",
              "id-31              5282\n",
              "id-32             71236\n",
              "id-33             71236\n",
              "id-34             69732\n",
              "id-35              4930\n",
              "id-36              4930\n",
              "id-37              4930\n",
              "id-38              4930\n",
              "DeviceType         4976\n",
              "DeviceInfo        26850\n",
              "dtype: int64"
            ]
          },
          "metadata": {
            "tags": []
          },
          "execution_count": 49
        }
      ]
    },
    {
      "cell_type": "code",
      "metadata": {
        "id": "7Z-_43o2EjcF"
      },
      "source": [
        ""
      ],
      "execution_count": null,
      "outputs": []
    }
  ]
}