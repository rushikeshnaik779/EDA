{
  "nbformat": 4,
  "nbformat_minor": 0,
  "metadata": {
    "colab": {
      "name": "pytorch_basics.ipynb",
      "provenance": [],
      "collapsed_sections": [],
      "authorship_tag": "ABX9TyPGYEVlRBs/hBewNy/oabJl",
      "include_colab_link": true
    },
    "kernelspec": {
      "name": "python3",
      "display_name": "Python 3"
    },
    "accelerator": "GPU"
  },
  "cells": [
    {
      "cell_type": "markdown",
      "metadata": {
        "id": "view-in-github",
        "colab_type": "text"
      },
      "source": [
        "<a href=\"https://colab.research.google.com/github/rushikeshnaik779/EDA/blob/master/pytorch_for_nlp/pytorch_basics.ipynb\" target=\"_parent\"><img src=\"https://colab.research.google.com/assets/colab-badge.svg\" alt=\"Open In Colab\"/></a>"
      ]
    },
    {
      "cell_type": "code",
      "metadata": {
        "colab": {
          "base_uri": "https://localhost:8080/",
          "height": 282
        },
        "id": "IW46GUdjFKtR",
        "outputId": "59a44153-ad6f-4f14-c70b-6f52579ac9d1"
      },
      "source": [
        "from sklearn.feature_extraction.text import CountVectorizer\n",
        "import seaborn as sns\n",
        "corpus = ['Time flies flies like an arrow.',\n",
        "'Fruit flies like a banana.']\n",
        "one_hot_vectorizer = CountVectorizer(binary=True)\n",
        "one_hot = one_hot_vectorizer.fit_transform(corpus).toarray()\n",
        "sns.heatmap(one_hot, annot=True,\n",
        "    cbar=False, \n",
        "    yticklabels=['Sentence 2'])"
      ],
      "execution_count": 1,
      "outputs": [
        {
          "output_type": "execute_result",
          "data": {
            "text/plain": [
              "<matplotlib.axes._subplots.AxesSubplot at 0x7f0f86ff8bd0>"
            ]
          },
          "metadata": {
            "tags": []
          },
          "execution_count": 1
        },
        {
          "output_type": "display_data",
          "data": {
            "image/png": "[encoded data removed]",
            "text/plain": [
              "<Figure size 432x288 with 1 Axes>"
            ]
          },
          "metadata": {
            "tags": [],
            "needs_background": "light"
          }
        }
      ]
    },
    {
      "cell_type": "code",
      "metadata": {
        "colab": {
          "base_uri": "https://localhost:8080/",
          "height": 282
        },
        "id": "ilas893iFQZC",
        "outputId": "f89323bf-4da8-4c2c-e633-e88d181e18a1"
      },
      "source": [
        "from sklearn.feature_extraction.text import TfidfVectorizer\n",
        "import seaborn as sns\n",
        "tfidf_vectorizer = TfidfVectorizer()\n",
        "tfidf = tfidf_vectorizer.fit_transform(corpus).toarray()\n",
        "sns.heatmap(tfidf, annot=True, cbar=False,\n",
        "    yticklabels= ['Sentence 1', 'Sentence 2'])"
      ],
      "execution_count": 2,
      "outputs": [
        {
          "output_type": "execute_result",
          "data": {
            "text/plain": [
              "<matplotlib.axes._subplots.AxesSubplot at 0x7f0f7db0a2d0>"
            ]
          },
          "metadata": {
            "tags": []
          },
          "execution_count": 2
        },
        {
          "output_type": "display_data",
          "data": {
            "image/png": "[encoded data removed]",
            "text/plain": [
              "<Figure size 432x288 with 1 Axes>"
            ]
          },
          "metadata": {
            "tags": [],
            "needs_background": "light"
          }
        }
      ]
    },
    {
      "cell_type": "code",
      "metadata": {
        "id": "mQxGRbLVGIoQ"
      },
      "source": [
        "# Pytorch Basics "
      ],
      "execution_count": 3,
      "outputs": []
    },
    {
      "cell_type": "code",
      "metadata": {
        "id": "MfOzDy-5HqgZ"
      },
      "source": [
        "def describe(x):\n",
        "    print(\"Type: {}\".format(x.type()))\n",
        "    print(\"Shape/size : {}\".format(x.shape))\n",
        "    print(\"Values :\\n{}\".format(x))"
      ],
      "execution_count": 4,
      "outputs": []
    },
    {
      "cell_type": "code",
      "metadata": {
        "colab": {
          "base_uri": "https://localhost:8080/"
        },
        "id": "JbXfxo2pIdt7",
        "outputId": "fd5aefe0-7a51-4bd1-fa9a-e18852e6a3ed"
      },
      "source": [
        "import torch \n",
        "describe(torch.Tensor(2, 3))"
      ],
      "execution_count": 5,
      "outputs": [
        {
          "output_type": "stream",
          "text": [
            "Type: torch.FloatTensor\n",
            "Shape/size : torch.Size([2, 3])\n",
            "Values :\n",
            "tensor([[-6.0453e+02,  3.0744e-41,  3.7835e-44],\n",
            "        [ 0.0000e+00,         nan,  3.0744e-41]])\n"
          ],
          "name": "stdout"
        }
      ]
    },
    {
      "cell_type": "code",
      "metadata": {
        "colab": {
          "base_uri": "https://localhost:8080/"
        },
        "id": "bXc3-wZKIk3U",
        "outputId": "af54b4ec-c2b1-4bc1-f4cd-174f2703ee9d"
      },
      "source": [
        "describe(torch.rand(2, 3))\n",
        "print(\"\\n\\n\")\n",
        "describe(torch.randn(2, 3))"
      ],
      "execution_count": 6,
      "outputs": [
        {
          "output_type": "stream",
          "text": [
            "Type: torch.FloatTensor\n",
            "Shape/size : torch.Size([2, 3])\n",
            "Values :\n",
            "tensor([[0.9496, 0.8859, 0.9584],\n",
            "        [0.1622, 0.0752, 0.4279]])\n",
            "\n",
            "\n",
            "\n",
            "Type: torch.FloatTensor\n",
            "Shape/size : torch.Size([2, 3])\n",
            "Values :\n",
            "tensor([[ 1.2179,  0.7560, -1.4985],\n",
            "        [-0.3210,  1.9973, -0.3891]])\n"
          ],
          "name": "stdout"
        }
      ]
    },
    {
      "cell_type": "code",
      "metadata": {
        "colab": {
          "base_uri": "https://localhost:8080/"
        },
        "id": "pLHBehlpJC9z",
        "outputId": "603fa4c3-8677-4134-9366-0c0ed21e2fcc"
      },
      "source": [
        "describe(torch.zeros(2, 3))\n",
        "x = torch.ones(2, 3)\n",
        "describe(x)\n",
        "x.fill_(5)\n",
        "describe(x)"
      ],
      "execution_count": 7,
      "outputs": [
        {
          "output_type": "stream",
          "text": [
            "Type: torch.FloatTensor\n",
            "Shape/size : torch.Size([2, 3])\n",
            "Values :\n",
            "tensor([[0., 0., 0.],\n",
            "        [0., 0., 0.]])\n",
            "Type: torch.FloatTensor\n",
            "Shape/size : torch.Size([2, 3])\n",
            "Values :\n",
            "tensor([[1., 1., 1.],\n",
            "        [1., 1., 1.]])\n",
            "Type: torch.FloatTensor\n",
            "Shape/size : torch.Size([2, 3])\n",
            "Values :\n",
            "tensor([[5., 5., 5.],\n",
            "        [5., 5., 5.]])\n"
          ],
          "name": "stdout"
        }
      ]
    },
    {
      "cell_type": "code",
      "metadata": {
        "colab": {
          "base_uri": "https://localhost:8080/"
        },
        "id": "SgpBEx1mJVaa",
        "outputId": "5a7fb88d-5234-4fbc-978e-0abdc5954aac"
      },
      "source": [
        "# creating tensor using pythonic list \n",
        "\n",
        "x = torch.Tensor([[2,3,4,5],\n",
        "                  [7,8,9,9]])\n",
        "describe(x)"
      ],
      "execution_count": 8,
      "outputs": [
        {
          "output_type": "stream",
          "text": [
            "Type: torch.FloatTensor\n",
            "Shape/size : torch.Size([2, 4])\n",
            "Values :\n",
            "tensor([[2., 3., 4., 5.],\n",
            "        [7., 8., 9., 9.]])\n"
          ],
          "name": "stdout"
        }
      ]
    },
    {
      "cell_type": "code",
      "metadata": {
        "colab": {
          "base_uri": "https://localhost:8080/"
        },
        "id": "5v3dGNocJvxF",
        "outputId": "e0e3a149-72b1-41bb-a615-f3c18a3aef1a"
      },
      "source": [
        "x = torch.randn(2, 3)\n",
        "describe(x)"
      ],
      "execution_count": 9,
      "outputs": [
        {
          "output_type": "stream",
          "text": [
            "Type: torch.FloatTensor\n",
            "Shape/size : torch.Size([2, 3])\n",
            "Values :\n",
            "tensor([[ 0.3271,  0.3976,  0.3051],\n",
            "        [-0.2842, -1.4225,  0.7543]])\n"
          ],
          "name": "stdout"
        }
      ]
    },
    {
      "cell_type": "code",
      "metadata": {
        "colab": {
          "base_uri": "https://localhost:8080/"
        },
        "id": "1tbHNNfYLsUY",
        "outputId": "71d32865-07a7-4891-bf1e-bc76464c3c64"
      },
      "source": [
        "describe(torch.add(x, x*2))"
      ],
      "execution_count": 10,
      "outputs": [
        {
          "output_type": "stream",
          "text": [
            "Type: torch.FloatTensor\n",
            "Shape/size : torch.Size([2, 3])\n",
            "Values :\n",
            "tensor([[ 0.9813,  1.1929,  0.9154],\n",
            "        [-0.8525, -4.2674,  2.2629]])\n"
          ],
          "name": "stdout"
        }
      ]
    },
    {
      "cell_type": "code",
      "metadata": {
        "colab": {
          "base_uri": "https://localhost:8080/"
        },
        "id": "k3MhTvVDLwx7",
        "outputId": "89a91a1d-4c88-4cb0-f776-76d540f5f16e"
      },
      "source": [
        "describe(x + x)"
      ],
      "execution_count": 11,
      "outputs": [
        {
          "output_type": "stream",
          "text": [
            "Type: torch.FloatTensor\n",
            "Shape/size : torch.Size([2, 3])\n",
            "Values :\n",
            "tensor([[ 0.6542,  0.7953,  0.6103],\n",
            "        [-0.5683, -2.8450,  1.5086]])\n"
          ],
          "name": "stdout"
        }
      ]
    },
    {
      "cell_type": "code",
      "metadata": {
        "colab": {
          "base_uri": "https://localhost:8080/"
        },
        "id": "_d4-cXF1MCNs",
        "outputId": "dcb95627-0832-4529-b7b4-cfdf90d12364"
      },
      "source": [
        "x = torch.arange(6)\n",
        "describe(x)"
      ],
      "execution_count": 12,
      "outputs": [
        {
          "output_type": "stream",
          "text": [
            "Type: torch.LongTensor\n",
            "Shape/size : torch.Size([6])\n",
            "Values :\n",
            "tensor([0, 1, 2, 3, 4, 5])\n"
          ],
          "name": "stdout"
        }
      ]
    },
    {
      "cell_type": "code",
      "metadata": {
        "colab": {
          "base_uri": "https://localhost:8080/"
        },
        "id": "zhw_NElTMmdi",
        "outputId": "f4ff8049-d21c-4712-c67d-8704785e77f8"
      },
      "source": [
        "x = x.view(2, 3)\n",
        "describe(x)"
      ],
      "execution_count": 13,
      "outputs": [
        {
          "output_type": "stream",
          "text": [
            "Type: torch.LongTensor\n",
            "Shape/size : torch.Size([2, 3])\n",
            "Values :\n",
            "tensor([[0, 1, 2],\n",
            "        [3, 4, 5]])\n"
          ],
          "name": "stdout"
        }
      ]
    },
    {
      "cell_type": "code",
      "metadata": {
        "colab": {
          "base_uri": "https://localhost:8080/"
        },
        "id": "Jv6P2EU-MuU8",
        "outputId": "2cf76ead-2c1e-4e80-824a-30d0a61905da"
      },
      "source": [
        "describe(torch.sum(x, dim=0))"
      ],
      "execution_count": 14,
      "outputs": [
        {
          "output_type": "stream",
          "text": [
            "Type: torch.LongTensor\n",
            "Shape/size : torch.Size([3])\n",
            "Values :\n",
            "tensor([3, 5, 7])\n"
          ],
          "name": "stdout"
        }
      ]
    },
    {
      "cell_type": "code",
      "metadata": {
        "colab": {
          "base_uri": "https://localhost:8080/"
        },
        "id": "CVhIuIukMxMl",
        "outputId": "bcf21c64-e48f-49b7-a8b5-ce54212c4aca"
      },
      "source": [
        "describe(torch.sum(x, dim=1))"
      ],
      "execution_count": 15,
      "outputs": [
        {
          "output_type": "stream",
          "text": [
            "Type: torch.LongTensor\n",
            "Shape/size : torch.Size([2])\n",
            "Values :\n",
            "tensor([ 3, 12])\n"
          ],
          "name": "stdout"
        }
      ]
    },
    {
      "cell_type": "code",
      "metadata": {
        "colab": {
          "base_uri": "https://localhost:8080/"
        },
        "id": "xUuTi8LfM2m1",
        "outputId": "6c396c39-1e18-4737-ea4b-9f57dcd79aca"
      },
      "source": [
        "x "
      ],
      "execution_count": 16,
      "outputs": [
        {
          "output_type": "execute_result",
          "data": {
            "text/plain": [
              "tensor([[0, 1, 2],\n",
              "        [3, 4, 5]])"
            ]
          },
          "metadata": {
            "tags": []
          },
          "execution_count": 16
        }
      ]
    },
    {
      "cell_type": "code",
      "metadata": {
        "colab": {
          "base_uri": "https://localhost:8080/"
        },
        "id": "svyg5fOfCQRo",
        "outputId": "10d395d9-eec0-46b0-99fc-51fe6c607201"
      },
      "source": [
        "describe(torch.cat([x, x], dim=0))"
      ],
      "execution_count": 17,
      "outputs": [
        {
          "output_type": "stream",
          "text": [
            "Type: torch.LongTensor\n",
            "Shape/size : torch.Size([4, 3])\n",
            "Values :\n",
            "tensor([[0, 1, 2],\n",
            "        [3, 4, 5],\n",
            "        [0, 1, 2],\n",
            "        [3, 4, 5]])\n"
          ],
          "name": "stdout"
        }
      ]
    },
    {
      "cell_type": "code",
      "metadata": {
        "colab": {
          "base_uri": "https://localhost:8080/"
        },
        "id": "y1SkqhALCRWV",
        "outputId": "37a2ea38-6688-43fe-dbed-8869a0072e8e"
      },
      "source": [
        "describe(torch.cat([x, x], dim=1))"
      ],
      "execution_count": 18,
      "outputs": [
        {
          "output_type": "stream",
          "text": [
            "Type: torch.LongTensor\n",
            "Shape/size : torch.Size([2, 6])\n",
            "Values :\n",
            "tensor([[0, 1, 2, 0, 1, 2],\n",
            "        [3, 4, 5, 3, 4, 5]])\n"
          ],
          "name": "stdout"
        }
      ]
    },
    {
      "cell_type": "code",
      "metadata": {
        "colab": {
          "base_uri": "https://localhost:8080/"
        },
        "id": "QlGCQ1cCCT4L",
        "outputId": "6b7efbda-371b-482b-94cc-d49f5cfc06c6"
      },
      "source": [
        "describe(torch.stack([x, x]))"
      ],
      "execution_count": 19,
      "outputs": [
        {
          "output_type": "stream",
          "text": [
            "Type: torch.LongTensor\n",
            "Shape/size : torch.Size([2, 2, 3])\n",
            "Values :\n",
            "tensor([[[0, 1, 2],\n",
            "         [3, 4, 5]],\n",
            "\n",
            "        [[0, 1, 2],\n",
            "         [3, 4, 5]]])\n"
          ],
          "name": "stdout"
        }
      ]
    },
    {
      "cell_type": "markdown",
      "metadata": {
        "id": "o4eOgXQTCidC"
      },
      "source": [
        "PyTorch also implements highly efficient linear algebra operations on tensors, such as multiplication, inverse, and trace,"
      ]
    },
    {
      "cell_type": "code",
      "metadata": {
        "colab": {
          "base_uri": "https://localhost:8080/"
        },
        "id": "jHpOvYMCCZm6",
        "outputId": "a6e5972e-6a15-41df-e5b1-f8aea83f665c"
      },
      "source": [
        "x1 = torch.arange(6).view(2, 3)\n",
        "x1 = x1.float()\n",
        "describe(x1)"
      ],
      "execution_count": 20,
      "outputs": [
        {
          "output_type": "stream",
          "text": [
            "Type: torch.FloatTensor\n",
            "Shape/size : torch.Size([2, 3])\n",
            "Values :\n",
            "tensor([[0., 1., 2.],\n",
            "        [3., 4., 5.]])\n"
          ],
          "name": "stdout"
        }
      ]
    },
    {
      "cell_type": "code",
      "metadata": {
        "colab": {
          "base_uri": "https://localhost:8080/"
        },
        "id": "l6myTPsdCsDu",
        "outputId": "ec736b6e-982c-42a2-ed89-541a95621ed0"
      },
      "source": [
        "x2 = torch.ones(3, 2) \n",
        "x2[:, 1] += 1 \n",
        "describe(x2)"
      ],
      "execution_count": 21,
      "outputs": [
        {
          "output_type": "stream",
          "text": [
            "Type: torch.FloatTensor\n",
            "Shape/size : torch.Size([3, 2])\n",
            "Values :\n",
            "tensor([[1., 2.],\n",
            "        [1., 2.],\n",
            "        [1., 2.]])\n"
          ],
          "name": "stdout"
        }
      ]
    },
    {
      "cell_type": "code",
      "metadata": {
        "colab": {
          "base_uri": "https://localhost:8080/"
        },
        "id": "VgkI8o4HC16D",
        "outputId": "fb81d795-957d-44da-b99d-12f2f8ee7562"
      },
      "source": [
        "# multiplication \n",
        "describe(torch.mm(x1, x2))"
      ],
      "execution_count": 22,
      "outputs": [
        {
          "output_type": "stream",
          "text": [
            "Type: torch.FloatTensor\n",
            "Shape/size : torch.Size([2, 2])\n",
            "Values :\n",
            "tensor([[ 3.,  6.],\n",
            "        [12., 24.]])\n"
          ],
          "name": "stdout"
        }
      ]
    },
    {
      "cell_type": "code",
      "metadata": {
        "colab": {
          "base_uri": "https://localhost:8080/"
        },
        "id": "sOnGaQU7DBP9",
        "outputId": "4c0db0ea-5ad1-4bb6-e93c-f8d0eea89ad9"
      },
      "source": [
        "x = torch.ones(2, 2, requires_grad=True)\n",
        "describe(x)\n",
        "print(x.grad is None)"
      ],
      "execution_count": 23,
      "outputs": [
        {
          "output_type": "stream",
          "text": [
            "Type: torch.FloatTensor\n",
            "Shape/size : torch.Size([2, 2])\n",
            "Values :\n",
            "tensor([[1., 1.],\n",
            "        [1., 1.]], requires_grad=True)\n",
            "True\n"
          ],
          "name": "stdout"
        }
      ]
    },
    {
      "cell_type": "code",
      "metadata": {
        "colab": {
          "base_uri": "https://localhost:8080/"
        },
        "id": "6unp94onD0sJ",
        "outputId": "680dde78-3a6e-423f-85c9-7d8dfe0d1485"
      },
      "source": [
        "y = (x + 2) * (x + 5) + 3\n",
        "describe(y)\n",
        "print( y.grad is None)"
      ],
      "execution_count": 24,
      "outputs": [
        {
          "output_type": "stream",
          "text": [
            "Type: torch.FloatTensor\n",
            "Shape/size : torch.Size([2, 2])\n",
            "Values :\n",
            "tensor([[21., 21.],\n",
            "        [21., 21.]], grad_fn=<AddBackward0>)\n",
            "True\n"
          ],
          "name": "stdout"
        },
        {
          "output_type": "stream",
          "text": [
            "/usr/local/lib/python3.7/dist-packages/ipykernel_launcher.py:3: UserWarning: The .grad attribute of a Tensor that is not a leaf Tensor is being accessed. Its .grad attribute won't be populated during autograd.backward(). If you indeed want the gradient for a non-leaf Tensor, use .retain_grad() on the non-leaf Tensor. If you access the non-leaf Tensor by mistake, make sure you access the leaf Tensor instead. See github.com/pytorch/pytorch/pull/30531 for more informations.\n",
            "  This is separate from the ipykernel package so we can avoid doing imports until\n"
          ],
          "name": "stderr"
        }
      ]
    },
    {
      "cell_type": "code",
      "metadata": {
        "colab": {
          "base_uri": "https://localhost:8080/"
        },
        "id": "p9CFzCUzEHtu",
        "outputId": "0b757fcc-4914-4f2b-d5f9-133bf4d45739"
      },
      "source": [
        "z = y.mean()\n",
        "describe(z)\n",
        "z.backward()\n",
        "print(z.grad is None)"
      ],
      "execution_count": 25,
      "outputs": [
        {
          "output_type": "stream",
          "text": [
            "Type: torch.FloatTensor\n",
            "Shape/size : torch.Size([])\n",
            "Values :\n",
            "21.0\n",
            "True\n"
          ],
          "name": "stdout"
        },
        {
          "output_type": "stream",
          "text": [
            "/usr/local/lib/python3.7/dist-packages/ipykernel_launcher.py:4: UserWarning: The .grad attribute of a Tensor that is not a leaf Tensor is being accessed. Its .grad attribute won't be populated during autograd.backward(). If you indeed want the gradient for a non-leaf Tensor, use .retain_grad() on the non-leaf Tensor. If you access the non-leaf Tensor by mistake, make sure you access the leaf Tensor instead. See github.com/pytorch/pytorch/pull/30531 for more informations.\n",
            "  after removing the cwd from sys.path.\n"
          ],
          "name": "stderr"
        }
      ]
    },
    {
      "cell_type": "code",
      "metadata": {
        "colab": {
          "base_uri": "https://localhost:8080/"
        },
        "id": "csi3YZHyEZ_E",
        "outputId": "7d0fbfb9-fa5e-4b84-f28b-d59aca5b6237"
      },
      "source": [
        "print(torch.cuda.is_available())"
      ],
      "execution_count": 26,
      "outputs": [
        {
          "output_type": "stream",
          "text": [
            "True\n"
          ],
          "name": "stdout"
        }
      ]
    },
    {
      "cell_type": "markdown",
      "metadata": {
        "id": "nnnm3jyrFNxP"
      },
      "source": [
        ""
      ]
    },
    {
      "cell_type": "code",
      "metadata": {
        "colab": {
          "base_uri": "https://localhost:8080/"
        },
        "id": "5hToDM1IF0y-",
        "outputId": "bd93bc97-a29a-4985-cf26-7df00b53b877"
      },
      "source": [
        "# a Preferred way : device agnostic tensor instantiation \n",
        "device = torch.device(\"cuda\" if torch.cuda.is_available() else \"CPU\")\n",
        "print(device)"
      ],
      "execution_count": 28,
      "outputs": [
        {
          "output_type": "stream",
          "text": [
            "cuda\n"
          ],
          "name": "stdout"
        }
      ]
    },
    {
      "cell_type": "code",
      "metadata": {
        "colab": {
          "base_uri": "https://localhost:8080/"
        },
        "id": "Z4VvFPwEGI-N",
        "outputId": "d10fc5e2-94e5-4f00-9e62-1ba7bc061666"
      },
      "source": [
        "x = torch.rand(3, 3).to(device)\n",
        "describe(x)"
      ],
      "execution_count": 29,
      "outputs": [
        {
          "output_type": "stream",
          "text": [
            "Type: torch.cuda.FloatTensor\n",
            "Shape/size : torch.Size([3, 3])\n",
            "Values :\n",
            "tensor([[0.9178, 0.9174, 0.9984],\n",
            "        [0.1578, 0.6073, 0.2992],\n",
            "        [0.3579, 0.9456, 0.7623]], device='cuda:0')\n"
          ],
          "name": "stdout"
        }
      ]
    },
    {
      "cell_type": "markdown",
      "metadata": {
        "id": "BpfFkahrHOT5"
      },
      "source": [
        "To operate on CUDA and non­CUDA objects, we need to ensure that they are on the same device. If we don’t, the computations will break, as shown in xample 1­17. This situation arises when computing monitoring metrics that aren’t part of the computational graph, for instance. When operating on two tensor objects, make sure they’re both on the same device."
      ]
    },
    {
      "cell_type": "code",
      "metadata": {
        "colab": {
          "base_uri": "https://localhost:8080/",
          "height": 181
        },
        "id": "2uP6HkU3GZib",
        "outputId": "5bf33b92-b49a-4292-c257-51de609ad997"
      },
      "source": [
        "y = torch.rand(3,3)\n",
        "print(x + y)"
      ],
      "execution_count": 30,
      "outputs": [
        {
          "output_type": "error",
          "ename": "RuntimeError",
          "evalue": "ignored",
          "traceback": [
            "\u001b[0;31m---------------------------------------------------------------------------\u001b[0m",
            "\u001b[0;31mRuntimeError\u001b[0m                              Traceback (most recent call last)",
            "\u001b[0;32m<ipython-input-30-ea9b0663ed1a>\u001b[0m in \u001b[0;36m<module>\u001b[0;34m()\u001b[0m\n\u001b[1;32m      1\u001b[0m \u001b[0my\u001b[0m \u001b[0;34m=\u001b[0m \u001b[0mtorch\u001b[0m\u001b[0;34m.\u001b[0m\u001b[0mrand\u001b[0m\u001b[0;34m(\u001b[0m\u001b[0;36m3\u001b[0m\u001b[0;34m,\u001b[0m\u001b[0;36m3\u001b[0m\u001b[0;34m)\u001b[0m\u001b[0;34m\u001b[0m\u001b[0;34m\u001b[0m\u001b[0m\n\u001b[0;32m----> 2\u001b[0;31m \u001b[0mprint\u001b[0m\u001b[0;34m(\u001b[0m\u001b[0mx\u001b[0m \u001b[0;34m+\u001b[0m \u001b[0my\u001b[0m\u001b[0;34m)\u001b[0m\u001b[0;34m\u001b[0m\u001b[0;34m\u001b[0m\u001b[0m\n\u001b[0m",
            "\u001b[0;31mRuntimeError\u001b[0m: Expected all tensors to be on the same device, but found at least two devices, cuda:0 and cpu!"
          ]
        }
      ]
    },
    {
      "cell_type": "code",
      "metadata": {
        "colab": {
          "base_uri": "https://localhost:8080/"
        },
        "id": "I6PytcfEGx0K",
        "outputId": "31dd752e-a278-4473-8ae6-fd659d830e93"
      },
      "source": [
        "cpu_device = torch.device(\"cpu\") \n",
        "y = y.to(cpu_device)\n",
        "x = x.to(cpu_device)\n",
        "x+y"
      ],
      "execution_count": 32,
      "outputs": [
        {
          "output_type": "execute_result",
          "data": {
            "text/plain": [
              "tensor([[1.8827, 1.3173, 1.0031],\n",
              "        [0.2670, 0.6996, 0.8176],\n",
              "        [1.3073, 1.0107, 0.9655]])"
            ]
          },
          "metadata": {
            "tags": []
          },
          "execution_count": 32
        }
      ]
    },
    {
      "cell_type": "code",
      "metadata": {
        "id": "c_AtKcfFG3hr"
      },
      "source": [
        ""
      ],
      "execution_count": null,
      "outputs": []
    }
  ]
}