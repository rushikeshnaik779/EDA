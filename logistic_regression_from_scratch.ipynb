{
  "nbformat": 4,
  "nbformat_minor": 0,
  "metadata": {
    "colab": {
      "name": "logistic_regression_from_scratch.ipynb",
      "provenance": [],
      "authorship_tag": "ABX9TyO2uTC9l6evYdxM0ccVcOA3",
      "include_colab_link": true
    },
    "kernelspec": {
      "name": "python3",
      "display_name": "Python 3"
    }
  },
  "cells": [
    {
      "cell_type": "markdown",
      "metadata": {
        "id": "view-in-github",
        "colab_type": "text"
      },
      "source": [
        "<a href=\"https://colab.research.google.com/github/rushikeshnaik779/EDA/blob/master/logistic_regression_from_scratch.ipynb\" target=\"_parent\"><img src=\"https://colab.research.google.com/assets/colab-badge.svg\" alt=\"Open In Colab\"/></a>"
      ]
    },
    {
      "cell_type": "code",
      "metadata": {
        "colab": {
          "resources": {
            "http://localhost:8080/nbextensions/google.colab/files.js": {
              "data": "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",
              "ok": true,
              "headers": [
                [
                  "content-type",
                  "application/javascript"
                ]
              ],
              "status": 200,
              "status_text": ""
            }
          },
          "base_uri": "https://localhost:8080/",
          "height": 72
        },
        "id": "Mvpv95uWkI1g",
        "outputId": "4e13db3b-efa7-40b0-cd19-298650b6ff42"
      },
      "source": [
        "from google.colab import files\n",
        "uploaded = files.upload()"
      ],
      "execution_count": 6,
      "outputs": [
        {
          "output_type": "display_data",
          "data": {
            "text/html": [
              "\n",
              "     <input type=\"file\" id=\"files-7beecfd5-5130-429a-8a73-0a5c667208fa\" name=\"files[]\" multiple disabled\n",
              "        style=\"border:none\" />\n",
              "     <output id=\"result-7beecfd5-5130-429a-8a73-0a5c667208fa\">\n",
              "      Upload widget is only available when the cell has been executed in the\n",
              "      current browser session. Please rerun this cell to enable.\n",
              "      </output>\n",
              "      <script src=\"/nbextensions/google.colab/files.js\"></script> "
            ],
            "text/plain": [
              "<IPython.core.display.HTML object>"
            ]
          },
          "metadata": {
            "tags": []
          }
        },
        {
          "output_type": "stream",
          "text": [
            "Saving data.csv to data.csv\n"
          ],
          "name": "stdout"
        }
      ]
    },
    {
      "cell_type": "code",
      "metadata": {
        "id": "BTgeKkfCoSnQ"
      },
      "source": [
        "import io\n",
        "import pandas as pd  \n"
      ],
      "execution_count": 7,
      "outputs": []
    },
    {
      "cell_type": "code",
      "metadata": {
        "colab": {
          "base_uri": "https://localhost:8080/",
          "height": 204
        },
        "id": "JhN4mj3Ho9zZ",
        "outputId": "3bf68de1-b3dd-4868-a819-bc3675a9a05a"
      },
      "source": [
        "data = pd.read_csv(io.BytesIO(uploaded['data.csv']))\n",
        "data.head()"
      ],
      "execution_count": 8,
      "outputs": [
        {
          "output_type": "execute_result",
          "data": {
            "text/html": [
              "<div>\n",
              "<style scoped>\n",
              "    .dataframe tbody tr th:only-of-type {\n",
              "        vertical-align: middle;\n",
              "    }\n",
              "\n",
              "    .dataframe tbody tr th {\n",
              "        vertical-align: top;\n",
              "    }\n",
              "\n",
              "    .dataframe thead th {\n",
              "        text-align: right;\n",
              "    }\n",
              "</style>\n",
              "<table border=\"1\" class=\"dataframe\">\n",
              "  <thead>\n",
              "    <tr style=\"text-align: right;\">\n",
              "      <th></th>\n",
              "      <th>grade1</th>\n",
              "      <th>grade2</th>\n",
              "      <th>label;;;;</th>\n",
              "    </tr>\n",
              "  </thead>\n",
              "  <tbody>\n",
              "    <tr>\n",
              "      <th>0</th>\n",
              "      <td>34.623660</td>\n",
              "      <td>78.024693</td>\n",
              "      <td>0;;;;</td>\n",
              "    </tr>\n",
              "    <tr>\n",
              "      <th>1</th>\n",
              "      <td>30.286711</td>\n",
              "      <td>43.894998</td>\n",
              "      <td>0;;;;</td>\n",
              "    </tr>\n",
              "    <tr>\n",
              "      <th>2</th>\n",
              "      <td>35.847409</td>\n",
              "      <td>72.902198</td>\n",
              "      <td>0;;;;</td>\n",
              "    </tr>\n",
              "    <tr>\n",
              "      <th>3</th>\n",
              "      <td>60.182599</td>\n",
              "      <td>86.308552</td>\n",
              "      <td>1;;;;</td>\n",
              "    </tr>\n",
              "    <tr>\n",
              "      <th>4</th>\n",
              "      <td>79.032736</td>\n",
              "      <td>75.344376</td>\n",
              "      <td>1;;;;</td>\n",
              "    </tr>\n",
              "  </tbody>\n",
              "</table>\n",
              "</div>"
            ],
            "text/plain": [
              "      grade1     grade2 label;;;;\n",
              "0  34.623660  78.024693     0;;;;\n",
              "1  30.286711  43.894998     0;;;;\n",
              "2  35.847409  72.902198     0;;;;\n",
              "3  60.182599  86.308552     1;;;;\n",
              "4  79.032736  75.344376     1;;;;"
            ]
          },
          "metadata": {
            "tags": []
          },
          "execution_count": 8
        }
      ]
    },
    {
      "cell_type": "code",
      "metadata": {
        "id": "qTi5Zt79pFfr"
      },
      "source": [
        "# logistic regression has sigmoid function \n",
        "# the sigmoid function adjusts the cost function hypotheses to adjust the algorithm \n",
        "# proportionally for worse estimations \n",
        "import numpy as np\n",
        "def sigmoid(z):\n",
        "    sigmoid_value_of_z = float(1.0/float((1.0 + np.exp(-1.0 * z))))\n",
        "    return sigmoid_value_of_z"
      ],
      "execution_count": 10,
      "outputs": []
    },
    {
      "cell_type": "code",
      "metadata": {
        "id": "9f3f6-ulqYGh"
      },
      "source": [
        "# Hypothesis \n",
        "# is the linear combination of all the known factors x[i] and their current estimated coefficients theta[i]\n",
        "# This Hypothesis will be used to calculate each instance of the cost function \n",
        "\n",
        "\n",
        "\n",
        "def hypothesis(theta, x):\n",
        "    z = 0 \n",
        "    for i in range(len(theta)):\n",
        "        z += x[i]* theta[i]\n",
        "\n",
        "    return sigmoid(z)"
      ],
      "execution_count": 13,
      "outputs": []
    },
    {
      "cell_type": "code",
      "metadata": {
        "id": "ODQSLQ3lrM4e"
      },
      "source": [
        "def cost_function(X, Y, theta, m):\n",
        "    sumOffErrors = 0\n",
        "    for i in range(m):\n",
        "        xi = X[i]\n",
        "        hi = hypothesis(theta, xi)\n",
        "        if Y[i] == 1: \n",
        "            error = Y[i] * np.log(1-hi)\n",
        "        elif Y[i] == 0:\n",
        "            error = (1-Y[i])* np.log(1 - hi)\n",
        "        sumOffErrors += error\n",
        "\n",
        "    const = -1.0/m\n",
        "    J = const * sumOffErrors\n",
        "    print('Cost is ', J)\n",
        "    return J"
      ],
      "execution_count": 14,
      "outputs": []
    },
    {
      "cell_type": "code",
      "metadata": {
        "id": "XvSenkaHtZeG"
      },
      "source": [
        "def Cost_Function_Derivative(X, Y, theta, j, m, alpha):\n",
        "    sum_errors = 0 \n",
        "    for i in range(m):\n",
        "        xi = X[i]\n",
        "        xij = xi[j]\n",
        "        hi = hypothesis(theta, X[i])\n",
        "        error = (hi - Y[i])*xij\n",
        "        sum_errors += error \n",
        "\n",
        "    m = len(Y)\n",
        "    constant = float(alpha)/float(m)\n",
        "    J = constant * sum_errors\n",
        "    return J"
      ],
      "execution_count": 17,
      "outputs": []
    },
    {
      "cell_type": "code",
      "metadata": {
        "id": "ffRUcWd5v2AN"
      },
      "source": [
        "def Gradient_Descent(X, Y, theta, m, alpha):\n",
        "    new_theta = []\n",
        "    constant = alpha/m\n",
        "\n",
        "    for j in range(len(theta)):\n",
        "        derivative = Cost_Function_Derivative(X, Y, theta, j, m, alpha)\n",
        "        new_theta_value = theta[j] - derivative\n",
        "        new_theta.append(new_theta_value)\n",
        "\n",
        "    return new_theta"
      ],
      "execution_count": 18,
      "outputs": []
    },
    {
      "cell_type": "code",
      "metadata": {
        "id": "I6DsZLDexUU9"
      },
      "source": [
        "import matplotlib.pyplot as plt\n",
        "cost_ = []\n",
        "\n",
        "def Logistic_Regression(X, Y, alpha, theta, num_iters):\n",
        "    m = len(Y)\n",
        "    for x in range(num_iters):\n",
        "        new_theta = Gradient_Descent(X, Y, theta, m, alpha)\n",
        "        theta = new_theta \n",
        "        if x % 100 == 0:\n",
        "            print('Theta', theta)\n",
        "            print('Cost is ', cost_function(X, Y, theta, m))\n",
        "            cost_.append(cost_function(X, Y, theta, m))\n",
        "    return score__(theta)\n",
        "            "
      ],
      "execution_count": 66,
      "outputs": []
    },
    {
      "cell_type": "code",
      "metadata": {
        "id": "WIvdFc5hzUPP"
      },
      "source": [
        "def score__(theta):\n",
        "    score = 0\n",
        "    winner = \"\"\n",
        "\n",
        "    length = len(X_test)\n",
        "    for i in range(length):\n",
        "        prediction = round(hypothesis(X_test[i], theta))\n",
        "        answer = Y_test[i]\n",
        "        if prediction == answer:\n",
        "            score += 1\n",
        "\n",
        "    print('Score', float(score)/float(length))"
      ],
      "execution_count": 67,
      "outputs": []
    },
    {
      "cell_type": "code",
      "metadata": {
        "id": "nQ4Sh7zQ-hTc"
      },
      "source": [
        "initial_theta = [0, 0]\n",
        "alpha = 0.001\n",
        "iterations = 1000"
      ],
      "execution_count": 68,
      "outputs": []
    },
    {
      "cell_type": "code",
      "metadata": {
        "colab": {
          "base_uri": "https://localhost:8080/",
          "height": 204
        },
        "id": "bMOYqrAI-0C2",
        "outputId": "edd77821-137e-411a-9789-5e6f10158d1e"
      },
      "source": [
        "data.head()"
      ],
      "execution_count": 69,
      "outputs": [
        {
          "output_type": "execute_result",
          "data": {
            "text/html": [
              "<div>\n",
              "<style scoped>\n",
              "    .dataframe tbody tr th:only-of-type {\n",
              "        vertical-align: middle;\n",
              "    }\n",
              "\n",
              "    .dataframe tbody tr th {\n",
              "        vertical-align: top;\n",
              "    }\n",
              "\n",
              "    .dataframe thead th {\n",
              "        text-align: right;\n",
              "    }\n",
              "</style>\n",
              "<table border=\"1\" class=\"dataframe\">\n",
              "  <thead>\n",
              "    <tr style=\"text-align: right;\">\n",
              "      <th></th>\n",
              "      <th>grade1</th>\n",
              "      <th>grade2</th>\n",
              "      <th>label</th>\n",
              "    </tr>\n",
              "  </thead>\n",
              "  <tbody>\n",
              "    <tr>\n",
              "      <th>0</th>\n",
              "      <td>34.623660</td>\n",
              "      <td>78.024693</td>\n",
              "      <td>0;;;;</td>\n",
              "    </tr>\n",
              "    <tr>\n",
              "      <th>1</th>\n",
              "      <td>30.286711</td>\n",
              "      <td>43.894998</td>\n",
              "      <td>0;;;;</td>\n",
              "    </tr>\n",
              "    <tr>\n",
              "      <th>2</th>\n",
              "      <td>35.847409</td>\n",
              "      <td>72.902198</td>\n",
              "      <td>0;;;;</td>\n",
              "    </tr>\n",
              "    <tr>\n",
              "      <th>3</th>\n",
              "      <td>60.182599</td>\n",
              "      <td>86.308552</td>\n",
              "      <td>1;;;;</td>\n",
              "    </tr>\n",
              "    <tr>\n",
              "      <th>4</th>\n",
              "      <td>79.032736</td>\n",
              "      <td>75.344376</td>\n",
              "      <td>1;;;;</td>\n",
              "    </tr>\n",
              "  </tbody>\n",
              "</table>\n",
              "</div>"
            ],
            "text/plain": [
              "      grade1     grade2  label\n",
              "0  34.623660  78.024693  0;;;;\n",
              "1  30.286711  43.894998  0;;;;\n",
              "2  35.847409  72.902198  0;;;;\n",
              "3  60.182599  86.308552  1;;;;\n",
              "4  79.032736  75.344376  1;;;;"
            ]
          },
          "metadata": {
            "tags": []
          },
          "execution_count": 69
        }
      ]
    },
    {
      "cell_type": "code",
      "metadata": {
        "id": "OxnpwWAR-6Af"
      },
      "source": [
        "data.columns= ['grade1', 'grade2', 'label']"
      ],
      "execution_count": 70,
      "outputs": []
    },
    {
      "cell_type": "code",
      "metadata": {
        "id": "l3u6pq4V_Aei"
      },
      "source": [
        "X = data[['grade1', 'grade2']]\n",
        "X = np.array(X)\n",
        "Y = data['label'].map(lambda x : float(x.strip(';')))\n",
        "Y = np.array(Y)"
      ],
      "execution_count": 71,
      "outputs": []
    },
    {
      "cell_type": "code",
      "metadata": {
        "id": "UXu_SiH7_ou3"
      },
      "source": [
        "from sklearn.model_selection import train_test_split\n",
        "X_train, X_test, Y_train, Y_test = train_test_split(X, Y, test_size=0.33)"
      ],
      "execution_count": 72,
      "outputs": []
    },
    {
      "cell_type": "code",
      "metadata": {
        "colab": {
          "base_uri": "https://localhost:8080/"
        },
        "id": "_bS94nu2_8gB",
        "outputId": "2663d74c-ad96-4ee7-e5be-66e1c86d1dcb"
      },
      "source": [
        "Logistic_Regression(X_train, Y_train, 0.001, initial_theta, 10000)"
      ],
      "execution_count": 73,
      "outputs": [
        {
          "output_type": "stream",
          "text": [
            "Theta [0.015723083082192165, 0.013159949708927431]\n",
            "Cost is  2.077090765364139\n",
            "Cost is  2.077090765364139\n",
            "Cost is  2.077090765364139\n",
            "Theta [0.022622481998911013, -0.008695524933587143]\n",
            "Cost is  1.2856739314766858\n",
            "Cost is  1.2856739314766858\n",
            "Cost is  1.2856739314766858\n",
            "Theta [0.022627871498299312, -0.008700518108350895]\n",
            "Cost is  1.2857053594353662\n",
            "Cost is  1.2857053594353662\n",
            "Cost is  1.2857053594353662\n",
            "Theta [0.02262787364802634, -0.008700520099970315]\n",
            "Cost is  1.2857053719730847\n",
            "Cost is  1.2857053719730847\n",
            "Cost is  1.2857053719730847\n",
            "Theta [0.02262787364888384, -0.008700520100764744]\n",
            "Cost is  1.2857053719780864\n",
            "Cost is  1.2857053719780864\n",
            "Cost is  1.2857053719780864\n",
            "Theta [0.022627873648884158, -0.008700520100765042]\n",
            "Cost is  1.2857053719780875\n",
            "Cost is  1.2857053719780875\n",
            "Cost is  1.2857053719780875\n",
            "Theta [0.022627873648884158, -0.008700520100765042]\n",
            "Cost is  1.2857053719780875\n",
            "Cost is  1.2857053719780875\n",
            "Cost is  1.2857053719780875\n",
            "Theta [0.022627873648884158, -0.008700520100765042]\n",
            "Cost is  1.2857053719780875\n",
            "Cost is  1.2857053719780875\n",
            "Cost is  1.2857053719780875\n",
            "Theta [0.022627873648884158, -0.008700520100765042]\n",
            "Cost is  1.2857053719780875\n",
            "Cost is  1.2857053719780875\n",
            "Cost is  1.2857053719780875\n",
            "Theta [0.022627873648884158, -0.008700520100765042]\n",
            "Cost is  1.2857053719780875\n",
            "Cost is  1.2857053719780875\n",
            "Cost is  1.2857053719780875\n",
            "Theta [0.022627873648884158, -0.008700520100765042]\n",
            "Cost is  1.2857053719780875\n",
            "Cost is  1.2857053719780875\n",
            "Cost is  1.2857053719780875\n",
            "Theta [0.022627873648884158, -0.008700520100765042]\n",
            "Cost is  1.2857053719780875\n",
            "Cost is  1.2857053719780875\n",
            "Cost is  1.2857053719780875\n",
            "Theta [0.022627873648884158, -0.008700520100765042]\n",
            "Cost is  1.2857053719780875\n",
            "Cost is  1.2857053719780875\n",
            "Cost is  1.2857053719780875\n",
            "Theta [0.022627873648884158, -0.008700520100765042]\n",
            "Cost is  1.2857053719780875\n",
            "Cost is  1.2857053719780875\n",
            "Cost is  1.2857053719780875\n",
            "Theta [0.022627873648884158, -0.008700520100765042]\n",
            "Cost is  1.2857053719780875\n",
            "Cost is  1.2857053719780875\n",
            "Cost is  1.2857053719780875\n",
            "Theta [0.022627873648884158, -0.008700520100765042]\n",
            "Cost is  1.2857053719780875\n",
            "Cost is  1.2857053719780875\n",
            "Cost is  1.2857053719780875\n",
            "Theta [0.022627873648884158, -0.008700520100765042]\n",
            "Cost is  1.2857053719780875\n",
            "Cost is  1.2857053719780875\n",
            "Cost is  1.2857053719780875\n",
            "Theta [0.022627873648884158, -0.008700520100765042]\n",
            "Cost is  1.2857053719780875\n",
            "Cost is  1.2857053719780875\n",
            "Cost is  1.2857053719780875\n",
            "Theta [0.022627873648884158, -0.008700520100765042]\n",
            "Cost is  1.2857053719780875\n",
            "Cost is  1.2857053719780875\n",
            "Cost is  1.2857053719780875\n",
            "Theta [0.022627873648884158, -0.008700520100765042]\n",
            "Cost is  1.2857053719780875\n",
            "Cost is  1.2857053719780875\n",
            "Cost is  1.2857053719780875\n",
            "Theta [0.022627873648884158, -0.008700520100765042]\n",
            "Cost is  1.2857053719780875\n",
            "Cost is  1.2857053719780875\n",
            "Cost is  1.2857053719780875\n",
            "Theta [0.022627873648884158, -0.008700520100765042]\n",
            "Cost is  1.2857053719780875\n",
            "Cost is  1.2857053719780875\n",
            "Cost is  1.2857053719780875\n",
            "Theta [0.022627873648884158, -0.008700520100765042]\n",
            "Cost is  1.2857053719780875\n",
            "Cost is  1.2857053719780875\n",
            "Cost is  1.2857053719780875\n",
            "Theta [0.022627873648884158, -0.008700520100765042]\n",
            "Cost is  1.2857053719780875\n",
            "Cost is  1.2857053719780875\n",
            "Cost is  1.2857053719780875\n",
            "Theta [0.022627873648884158, -0.008700520100765042]\n",
            "Cost is  1.2857053719780875\n",
            "Cost is  1.2857053719780875\n",
            "Cost is  1.2857053719780875\n",
            "Theta [0.022627873648884158, -0.008700520100765042]\n",
            "Cost is  1.2857053719780875\n",
            "Cost is  1.2857053719780875\n",
            "Cost is  1.2857053719780875\n",
            "Theta [0.022627873648884158, -0.008700520100765042]\n",
            "Cost is  1.2857053719780875\n",
            "Cost is  1.2857053719780875\n",
            "Cost is  1.2857053719780875\n",
            "Theta [0.022627873648884158, -0.008700520100765042]\n",
            "Cost is  1.2857053719780875\n",
            "Cost is  1.2857053719780875\n",
            "Cost is  1.2857053719780875\n",
            "Theta [0.022627873648884158, -0.008700520100765042]\n",
            "Cost is  1.2857053719780875\n",
            "Cost is  1.2857053719780875\n",
            "Cost is  1.2857053719780875\n",
            "Theta [0.022627873648884158, -0.008700520100765042]\n",
            "Cost is  1.2857053719780875\n",
            "Cost is  1.2857053719780875\n",
            "Cost is  1.2857053719780875\n",
            "Theta [0.022627873648884158, -0.008700520100765042]\n",
            "Cost is  1.2857053719780875\n",
            "Cost is  1.2857053719780875\n",
            "Cost is  1.2857053719780875\n",
            "Theta [0.022627873648884158, -0.008700520100765042]\n",
            "Cost is  1.2857053719780875\n",
            "Cost is  1.2857053719780875\n",
            "Cost is  1.2857053719780875\n",
            "Theta [0.022627873648884158, -0.008700520100765042]\n",
            "Cost is  1.2857053719780875\n",
            "Cost is  1.2857053719780875\n",
            "Cost is  1.2857053719780875\n",
            "Theta [0.022627873648884158, -0.008700520100765042]\n",
            "Cost is  1.2857053719780875\n",
            "Cost is  1.2857053719780875\n",
            "Cost is  1.2857053719780875\n",
            "Theta [0.022627873648884158, -0.008700520100765042]\n",
            "Cost is  1.2857053719780875\n",
            "Cost is  1.2857053719780875\n",
            "Cost is  1.2857053719780875\n",
            "Theta [0.022627873648884158, -0.008700520100765042]\n",
            "Cost is  1.2857053719780875\n",
            "Cost is  1.2857053719780875\n",
            "Cost is  1.2857053719780875\n",
            "Theta [0.022627873648884158, -0.008700520100765042]\n",
            "Cost is  1.2857053719780875\n",
            "Cost is  1.2857053719780875\n",
            "Cost is  1.2857053719780875\n",
            "Theta [0.022627873648884158, -0.008700520100765042]\n",
            "Cost is  1.2857053719780875\n",
            "Cost is  1.2857053719780875\n",
            "Cost is  1.2857053719780875\n",
            "Theta [0.022627873648884158, -0.008700520100765042]\n",
            "Cost is  1.2857053719780875\n",
            "Cost is  1.2857053719780875\n",
            "Cost is  1.2857053719780875\n",
            "Theta [0.022627873648884158, -0.008700520100765042]\n",
            "Cost is  1.2857053719780875\n",
            "Cost is  1.2857053719780875\n",
            "Cost is  1.2857053719780875\n",
            "Theta [0.022627873648884158, -0.008700520100765042]\n",
            "Cost is  1.2857053719780875\n",
            "Cost is  1.2857053719780875\n",
            "Cost is  1.2857053719780875\n",
            "Theta [0.022627873648884158, -0.008700520100765042]\n",
            "Cost is  1.2857053719780875\n",
            "Cost is  1.2857053719780875\n",
            "Cost is  1.2857053719780875\n",
            "Theta [0.022627873648884158, -0.008700520100765042]\n",
            "Cost is  1.2857053719780875\n",
            "Cost is  1.2857053719780875\n",
            "Cost is  1.2857053719780875\n",
            "Theta [0.022627873648884158, -0.008700520100765042]\n",
            "Cost is  1.2857053719780875\n",
            "Cost is  1.2857053719780875\n",
            "Cost is  1.2857053719780875\n",
            "Theta [0.022627873648884158, -0.008700520100765042]\n",
            "Cost is  1.2857053719780875\n",
            "Cost is  1.2857053719780875\n",
            "Cost is  1.2857053719780875\n",
            "Theta [0.022627873648884158, -0.008700520100765042]\n",
            "Cost is  1.2857053719780875\n",
            "Cost is  1.2857053719780875\n",
            "Cost is  1.2857053719780875\n",
            "Theta [0.022627873648884158, -0.008700520100765042]\n",
            "Cost is  1.2857053719780875\n",
            "Cost is  1.2857053719780875\n",
            "Cost is  1.2857053719780875\n",
            "Theta [0.022627873648884158, -0.008700520100765042]\n",
            "Cost is  1.2857053719780875\n",
            "Cost is  1.2857053719780875\n",
            "Cost is  1.2857053719780875\n",
            "Theta [0.022627873648884158, -0.008700520100765042]\n",
            "Cost is  1.2857053719780875\n",
            "Cost is  1.2857053719780875\n",
            "Cost is  1.2857053719780875\n",
            "Theta [0.022627873648884158, -0.008700520100765042]\n",
            "Cost is  1.2857053719780875\n",
            "Cost is  1.2857053719780875\n",
            "Cost is  1.2857053719780875\n",
            "Theta [0.022627873648884158, -0.008700520100765042]\n",
            "Cost is  1.2857053719780875\n",
            "Cost is  1.2857053719780875\n",
            "Cost is  1.2857053719780875\n",
            "Theta [0.022627873648884158, -0.008700520100765042]\n",
            "Cost is  1.2857053719780875\n",
            "Cost is  1.2857053719780875\n",
            "Cost is  1.2857053719780875\n",
            "Theta [0.022627873648884158, -0.008700520100765042]\n",
            "Cost is  1.2857053719780875\n",
            "Cost is  1.2857053719780875\n",
            "Cost is  1.2857053719780875\n",
            "Theta [0.022627873648884158, -0.008700520100765042]\n",
            "Cost is  1.2857053719780875\n",
            "Cost is  1.2857053719780875\n",
            "Cost is  1.2857053719780875\n",
            "Theta [0.022627873648884158, -0.008700520100765042]\n",
            "Cost is  1.2857053719780875\n",
            "Cost is  1.2857053719780875\n",
            "Cost is  1.2857053719780875\n",
            "Theta [0.022627873648884158, -0.008700520100765042]\n",
            "Cost is  1.2857053719780875\n",
            "Cost is  1.2857053719780875\n",
            "Cost is  1.2857053719780875\n",
            "Theta [0.022627873648884158, -0.008700520100765042]\n",
            "Cost is  1.2857053719780875\n",
            "Cost is  1.2857053719780875\n",
            "Cost is  1.2857053719780875\n",
            "Theta [0.022627873648884158, -0.008700520100765042]\n",
            "Cost is  1.2857053719780875\n",
            "Cost is  1.2857053719780875\n",
            "Cost is  1.2857053719780875\n",
            "Theta [0.022627873648884158, -0.008700520100765042]\n",
            "Cost is  1.2857053719780875\n",
            "Cost is  1.2857053719780875\n",
            "Cost is  1.2857053719780875\n",
            "Theta [0.022627873648884158, -0.008700520100765042]\n",
            "Cost is  1.2857053719780875\n",
            "Cost is  1.2857053719780875\n",
            "Cost is  1.2857053719780875\n",
            "Theta [0.022627873648884158, -0.008700520100765042]\n",
            "Cost is  1.2857053719780875\n",
            "Cost is  1.2857053719780875\n",
            "Cost is  1.2857053719780875\n",
            "Theta [0.022627873648884158, -0.008700520100765042]\n",
            "Cost is  1.2857053719780875\n",
            "Cost is  1.2857053719780875\n",
            "Cost is  1.2857053719780875\n",
            "Theta [0.022627873648884158, -0.008700520100765042]\n",
            "Cost is  1.2857053719780875\n",
            "Cost is  1.2857053719780875\n",
            "Cost is  1.2857053719780875\n",
            "Theta [0.022627873648884158, -0.008700520100765042]\n",
            "Cost is  1.2857053719780875\n",
            "Cost is  1.2857053719780875\n",
            "Cost is  1.2857053719780875\n",
            "Theta [0.022627873648884158, -0.008700520100765042]\n",
            "Cost is  1.2857053719780875\n",
            "Cost is  1.2857053719780875\n",
            "Cost is  1.2857053719780875\n",
            "Theta [0.022627873648884158, -0.008700520100765042]\n",
            "Cost is  1.2857053719780875\n",
            "Cost is  1.2857053719780875\n",
            "Cost is  1.2857053719780875\n",
            "Theta [0.022627873648884158, -0.008700520100765042]\n",
            "Cost is  1.2857053719780875\n",
            "Cost is  1.2857053719780875\n",
            "Cost is  1.2857053719780875\n",
            "Theta [0.022627873648884158, -0.008700520100765042]\n",
            "Cost is  1.2857053719780875\n",
            "Cost is  1.2857053719780875\n",
            "Cost is  1.2857053719780875\n",
            "Theta [0.022627873648884158, -0.008700520100765042]\n",
            "Cost is  1.2857053719780875\n",
            "Cost is  1.2857053719780875\n",
            "Cost is  1.2857053719780875\n",
            "Theta [0.022627873648884158, -0.008700520100765042]\n",
            "Cost is  1.2857053719780875\n",
            "Cost is  1.2857053719780875\n",
            "Cost is  1.2857053719780875\n",
            "Theta [0.022627873648884158, -0.008700520100765042]\n",
            "Cost is  1.2857053719780875\n",
            "Cost is  1.2857053719780875\n",
            "Cost is  1.2857053719780875\n",
            "Theta [0.022627873648884158, -0.008700520100765042]\n",
            "Cost is  1.2857053719780875\n",
            "Cost is  1.2857053719780875\n",
            "Cost is  1.2857053719780875\n",
            "Theta [0.022627873648884158, -0.008700520100765042]\n",
            "Cost is  1.2857053719780875\n",
            "Cost is  1.2857053719780875\n",
            "Cost is  1.2857053719780875\n",
            "Theta [0.022627873648884158, -0.008700520100765042]\n",
            "Cost is  1.2857053719780875\n",
            "Cost is  1.2857053719780875\n",
            "Cost is  1.2857053719780875\n",
            "Theta [0.022627873648884158, -0.008700520100765042]\n",
            "Cost is  1.2857053719780875\n",
            "Cost is  1.2857053719780875\n",
            "Cost is  1.2857053719780875\n",
            "Theta [0.022627873648884158, -0.008700520100765042]\n",
            "Cost is  1.2857053719780875\n",
            "Cost is  1.2857053719780875\n",
            "Cost is  1.2857053719780875\n",
            "Theta [0.022627873648884158, -0.008700520100765042]\n",
            "Cost is  1.2857053719780875\n",
            "Cost is  1.2857053719780875\n",
            "Cost is  1.2857053719780875\n",
            "Theta [0.022627873648884158, -0.008700520100765042]\n",
            "Cost is  1.2857053719780875\n",
            "Cost is  1.2857053719780875\n",
            "Cost is  1.2857053719780875\n",
            "Theta [0.022627873648884158, -0.008700520100765042]\n",
            "Cost is  1.2857053719780875\n",
            "Cost is  1.2857053719780875\n",
            "Cost is  1.2857053719780875\n",
            "Theta [0.022627873648884158, -0.008700520100765042]\n",
            "Cost is  1.2857053719780875\n",
            "Cost is  1.2857053719780875\n",
            "Cost is  1.2857053719780875\n",
            "Theta [0.022627873648884158, -0.008700520100765042]\n",
            "Cost is  1.2857053719780875\n",
            "Cost is  1.2857053719780875\n",
            "Cost is  1.2857053719780875\n",
            "Theta [0.022627873648884158, -0.008700520100765042]\n",
            "Cost is  1.2857053719780875\n",
            "Cost is  1.2857053719780875\n",
            "Cost is  1.2857053719780875\n",
            "Theta [0.022627873648884158, -0.008700520100765042]\n",
            "Cost is  1.2857053719780875\n",
            "Cost is  1.2857053719780875\n",
            "Cost is  1.2857053719780875\n",
            "Theta [0.022627873648884158, -0.008700520100765042]\n",
            "Cost is  1.2857053719780875\n",
            "Cost is  1.2857053719780875\n",
            "Cost is  1.2857053719780875\n",
            "Theta [0.022627873648884158, -0.008700520100765042]\n",
            "Cost is  1.2857053719780875\n",
            "Cost is  1.2857053719780875\n",
            "Cost is  1.2857053719780875\n",
            "Theta [0.022627873648884158, -0.008700520100765042]\n",
            "Cost is  1.2857053719780875\n",
            "Cost is  1.2857053719780875\n",
            "Cost is  1.2857053719780875\n",
            "Theta [0.022627873648884158, -0.008700520100765042]\n",
            "Cost is  1.2857053719780875\n",
            "Cost is  1.2857053719780875\n",
            "Cost is  1.2857053719780875\n",
            "Theta [0.022627873648884158, -0.008700520100765042]\n",
            "Cost is  1.2857053719780875\n",
            "Cost is  1.2857053719780875\n",
            "Cost is  1.2857053719780875\n",
            "Theta [0.022627873648884158, -0.008700520100765042]\n",
            "Cost is  1.2857053719780875\n",
            "Cost is  1.2857053719780875\n",
            "Cost is  1.2857053719780875\n",
            "Theta [0.022627873648884158, -0.008700520100765042]\n",
            "Cost is  1.2857053719780875\n",
            "Cost is  1.2857053719780875\n",
            "Cost is  1.2857053719780875\n",
            "Theta [0.022627873648884158, -0.008700520100765042]\n",
            "Cost is  1.2857053719780875\n",
            "Cost is  1.2857053719780875\n",
            "Cost is  1.2857053719780875\n",
            "Theta [0.022627873648884158, -0.008700520100765042]\n",
            "Cost is  1.2857053719780875\n",
            "Cost is  1.2857053719780875\n",
            "Cost is  1.2857053719780875\n",
            "Theta [0.022627873648884158, -0.008700520100765042]\n",
            "Cost is  1.2857053719780875\n",
            "Cost is  1.2857053719780875\n",
            "Cost is  1.2857053719780875\n",
            "Theta [0.022627873648884158, -0.008700520100765042]\n",
            "Cost is  1.2857053719780875\n",
            "Cost is  1.2857053719780875\n",
            "Cost is  1.2857053719780875\n",
            "Theta [0.022627873648884158, -0.008700520100765042]\n",
            "Cost is  1.2857053719780875\n",
            "Cost is  1.2857053719780875\n",
            "Cost is  1.2857053719780875\n",
            "Theta [0.022627873648884158, -0.008700520100765042]\n",
            "Cost is  1.2857053719780875\n",
            "Cost is  1.2857053719780875\n",
            "Cost is  1.2857053719780875\n",
            "Theta [0.022627873648884158, -0.008700520100765042]\n",
            "Cost is  1.2857053719780875\n",
            "Cost is  1.2857053719780875\n",
            "Cost is  1.2857053719780875\n",
            "Theta [0.022627873648884158, -0.008700520100765042]\n",
            "Cost is  1.2857053719780875\n",
            "Cost is  1.2857053719780875\n",
            "Cost is  1.2857053719780875\n",
            "Theta [0.022627873648884158, -0.008700520100765042]\n",
            "Cost is  1.2857053719780875\n",
            "Cost is  1.2857053719780875\n",
            "Cost is  1.2857053719780875\n",
            "Theta [0.022627873648884158, -0.008700520100765042]\n",
            "Cost is  1.2857053719780875\n",
            "Cost is  1.2857053719780875\n",
            "Cost is  1.2857053719780875\n",
            "Score 0.5151515151515151\n"
          ],
          "name": "stdout"
        }
      ]
    },
    {
      "cell_type": "code",
      "metadata": {
        "id": "dNpmxzWxALEM"
      },
      "source": [
        ""
      ],
      "execution_count": 73,
      "outputs": []
    },
    {
      "cell_type": "code",
      "metadata": {
        "colab": {
          "base_uri": "https://localhost:8080/",
          "height": 282
        },
        "id": "59LcWyjRBjYw",
        "outputId": "7d86f0a0-455a-42d1-8605-419c67008737"
      },
      "source": [
        "plt.plot(cost_)"
      ],
      "execution_count": 77,
      "outputs": [
        {
          "output_type": "execute_result",
          "data": {
            "text/plain": [
              "[<matplotlib.lines.Line2D at 0x7fcf50314ac8>]"
            ]
          },
          "metadata": {
            "tags": []
          },
          "execution_count": 77
        },
        {
          "output_type": "display_data",
          "data": {
            "image/png": "[encoded data removed]",
            "text/plain": [
              "<Figure size 432x288 with 1 Axes>"
            ]
          },
          "metadata": {
            "tags": [],
            "needs_background": "light"
          }
        }
      ]
    },
    {
      "cell_type": "code",
      "metadata": {
        "id": "RZEysNlJB-Kj"
      },
      "source": [
        ""
      ],
      "execution_count": null,
      "outputs": []
    }
  ]
}