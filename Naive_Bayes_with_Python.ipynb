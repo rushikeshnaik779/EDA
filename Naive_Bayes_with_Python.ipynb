{
  "nbformat": 4,
  "nbformat_minor": 0,
  "metadata": {
    "colab": {
      "name": "Naive Bayes with Python.ipynb",
      "provenance": [],
      "authorship_tag": "ABX9TyPhbtchm27j/pI5529Jbi09",
      "include_colab_link": true
    },
    "kernelspec": {
      "name": "python3",
      "display_name": "Python 3"
    }
  },
  "cells": [
    {
      "cell_type": "markdown",
      "metadata": {
        "id": "view-in-github",
        "colab_type": "text"
      },
      "source": [
        "<a href=\"https://colab.research.google.com/github/rushikeshnaik779/EDA/blob/master/Naive_Bayes_with_Python.ipynb\" target=\"_parent\"><img src=\"https://colab.research.google.com/assets/colab-badge.svg\" alt=\"Open In Colab\"/></a>"
      ]
    },
    {
      "cell_type": "markdown",
      "metadata": {
        "id": "ZeqLGgIRgPu6"
      },
      "source": [
        "# Naive Bayes \n",
        "p(A|B) = p(B|A) * p(A)/p(B)"
      ]
    },
    {
      "cell_type": "markdown",
      "metadata": {
        "id": "gv7Xe53Pgd6B"
      },
      "source": [
        "* Assumptions : \n",
        "    1. Our data is normally distributed\n",
        "    2. We Expect our data columns to be conditionally independent of each other."
      ]
    },
    {
      "cell_type": "code",
      "metadata": {
        "id": "s1CJlxDdgGmx"
      },
      "source": [
        "# Preparing the Dataset \n",
        "\n",
        "# load iris dataset \n",
        "from sklearn.datasets import load_iris \n",
        "import pandas as pd\n",
        "import numpy as np\n",
        "data = load_iris()\n",
        "from scipy.stats import norm\n",
        "\n",
        "\n",
        "X, y, column_names = data['data'], data['target'], data['feature_names']\n",
        "X = pd.DataFrame(X, columns = column_names)"
      ],
      "execution_count": 13,
      "outputs": []
    },
    {
      "cell_type": "code",
      "metadata": {
        "id": "4fwlRN8ahD0F"
      },
      "source": [
        "# split the data \n",
        "\n",
        "from sklearn.model_selection import train_test_split\n",
        "X_train, X_test, y_train, y_test = train_test_split(X, y, random_state=44)"
      ],
      "execution_count": 14,
      "outputs": []
    },
    {
      "cell_type": "code",
      "metadata": {
        "id": "ByYO0q1YhUK9"
      },
      "source": [
        "means = X_train.groupby(y_train).apply(np.mean)\n",
        "stds = X_train.groupby(y_train).apply(np.std)"
      ],
      "execution_count": 15,
      "outputs": []
    },
    {
      "cell_type": "code",
      "metadata": {
        "id": "LcDOa1jphuIH"
      },
      "source": [
        "# class prior probabilities \n",
        "\n",
        "probs = X_train.groupby(y_train).apply(lambda x: len(X))/ X_train.shape[0]"
      ],
      "execution_count": 16,
      "outputs": []
    },
    {
      "cell_type": "code",
      "metadata": {
        "colab": {
          "base_uri": "https://localhost:8080/"
        },
        "id": "RxQ_ojNwiqXq",
        "outputId": "858c77fb-3c3e-4b2a-fd92-f5f3890ac7ce"
      },
      "source": [
        "print(means)\n",
        "print(stds)\n",
        "print(probs)"
      ],
      "execution_count": 17,
      "outputs": [
        {
          "output_type": "stream",
          "text": [
            "   sepal length (cm)  sepal width (cm)  petal length (cm)  petal width (cm)\n",
            "0           5.016216          3.443243           1.456757          0.256757\n",
            "1           5.900000          2.747368           4.281579          1.342105\n",
            "2           6.624324          3.013514           5.529730          2.045946\n",
            "   sepal length (cm)  sepal width (cm)  petal length (cm)  petal width (cm)\n",
            "0           0.376695          0.359083           0.191072          0.102774\n",
            "1           0.487745          0.336965           0.448891          0.209801\n",
            "2           0.566356          0.334633           0.499657          0.269729\n",
            "0    1.339286\n",
            "1    1.339286\n",
            "2    1.339286\n",
            "dtype: float64\n"
          ],
          "name": "stdout"
        }
      ]
    },
    {
      "cell_type": "code",
      "metadata": {
        "id": "5eIe8XaEiujo"
      },
      "source": [
        "y_pred = []\n",
        "\n",
        "for elem in range(X_test.shape[0]):\n",
        "    p = {}\n",
        "\n",
        "    # for each possible class \n",
        "\n",
        "    for cl in np.unique(y_train):\n",
        "        p[cl] = probs.iloc[cl]\n",
        "\n",
        "        for index, param in enumerate(X_test.iloc[elem]):\n",
        "\n",
        "            p[cl]*= norm.pdf(param, means.iloc[cl, index], stds.iloc[cl, index])\n",
        "    \n",
        "    y_pred.append(pd.Series(p).values.argmax())"
      ],
      "execution_count": 18,
      "outputs": []
    },
    {
      "cell_type": "code",
      "metadata": {
        "colab": {
          "base_uri": "https://localhost:8080/"
        },
        "id": "InIt7JDaj9CY",
        "outputId": "e0b52d99-dc9b-4b46-a591-0f2ed93a5bce"
      },
      "source": [
        "from sklearn.metrics import accuracy_score\n",
        "accuracy_score(y_test, y_pred)"
      ],
      "execution_count": 19,
      "outputs": [
        {
          "output_type": "execute_result",
          "data": {
            "text/plain": [
              "0.9210526315789473"
            ]
          },
          "metadata": {
            "tags": []
          },
          "execution_count": 19
        }
      ]
    },
    {
      "cell_type": "code",
      "metadata": {
        "colab": {
          "base_uri": "https://localhost:8080/"
        },
        "id": "8EEAZUAkzS09",
        "outputId": "90e7c8d6-a77c-46c9-f95c-5e1436245a1d"
      },
      "source": [
        "from sklearn.naive_bayes import GaussianNB\n",
        "model = GaussianNB()\n",
        "model.fit(X_train, y_train)\n",
        "print(accuracy_score(y_test, model.predict(X_test)))"
      ],
      "execution_count": 20,
      "outputs": [
        {
          "output_type": "stream",
          "text": [
            "0.9210526315789473\n"
          ],
          "name": "stdout"
        }
      ]
    },
    {
      "cell_type": "code",
      "metadata": {
        "id": "RyhELxg5zsxD"
      },
      "source": [
        ""
      ],
      "execution_count": null,
      "outputs": []
    }
  ]
}