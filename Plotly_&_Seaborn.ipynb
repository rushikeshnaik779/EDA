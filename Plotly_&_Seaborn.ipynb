{
  "nbformat": 4,
  "nbformat_minor": 0,
  "metadata": {
    "colab": {
      "name": "Plotly & Seaborn.ipynb",
      "provenance": [],
      "authorship_tag": "ABX9TyN/AWZJnZ/T6DaWm+J8t9Mx",
      "include_colab_link": true
    },
    "kernelspec": {
      "name": "python3",
      "display_name": "Python 3"
    }
  },
  "cells": [
    {
      "cell_type": "markdown",
      "metadata": {
        "id": "view-in-github",
        "colab_type": "text"
      },
      "source": [
        "<a href=\"https://colab.research.google.com/github/rushikeshnaik779/EDA/blob/master/Plotly_%26_Seaborn.ipynb\" target=\"_parent\"><img src=\"https://colab.research.google.com/assets/colab-badge.svg\" alt=\"Open In Colab\"/></a>"
      ]
    },
    {
      "cell_type": "code",
      "metadata": {
        "id": "NDgwreoVhDpq"
      },
      "source": [
        "import numpy as np \n",
        "import pandas as pd \n",
        "\n",
        "# basic Visualization tools \n",
        "import matplotlib.pyplot as plt\n",
        "import warnings \n",
        "warnings.filterwarnings('ignore')\n",
        "\n",
        "plt.rcParams['figure.dpi']= 300\n"
      ],
      "execution_count": 1,
      "outputs": []
    },
    {
      "cell_type": "code",
      "metadata": {
        "colab": {
          "resources": {
            "http://localhost:8080/nbextensions/google.colab/files.js": {
              "data": "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",
              "ok": true,
              "headers": [
                [
                  "content-type",
                  "application/javascript"
                ]
              ],
              "status": 200,
              "status_text": ""
            }
          },
          "base_uri": "https://localhost:8080/",
          "height": 72
        },
        "id": "OS9Zkq6PjAyT",
        "outputId": "0b10b021-bafb-421e-8cad-3f9bab393064"
      },
      "source": [
        "from google.colab import files \n",
        "\n",
        "uploaded = files.upload()"
      ],
      "execution_count": 2,
      "outputs": [
        {
          "output_type": "display_data",
          "data": {
            "text/html": [
              "\n",
              "     <input type=\"file\" id=\"files-0f2e62f3-c469-40bd-a27b-b2c16913d7f4\" name=\"files[]\" multiple disabled\n",
              "        style=\"border:none\" />\n",
              "     <output id=\"result-0f2e62f3-c469-40bd-a27b-b2c16913d7f4\">\n",
              "      Upload widget is only available when the cell has been executed in the\n",
              "      current browser session. Please rerun this cell to enable.\n",
              "      </output>\n",
              "      <script src=\"/nbextensions/google.colab/files.js\"></script> "
            ],
            "text/plain": [
              "<IPython.core.display.HTML object>"
            ]
          },
          "metadata": {
            "tags": []
          }
        },
        {
          "output_type": "stream",
          "text": [
            "Saving StudentsPerformance.csv to StudentsPerformance.csv\n"
          ],
          "name": "stdout"
        }
      ]
    },
    {
      "cell_type": "code",
      "metadata": {
        "id": "WttkrfzZjKcr"
      },
      "source": [
        "import io\n",
        "data = pd.read_csv(io.BytesIO(uploaded['StudentsPerformance.csv']))"
      ],
      "execution_count": 3,
      "outputs": []
    },
    {
      "cell_type": "code",
      "metadata": {
        "colab": {
          "base_uri": "https://localhost:8080/",
          "height": 204
        },
        "id": "hgJ5XWpTjd_L",
        "outputId": "59ae3e2e-62d8-40e3-d833-e7355b7111bd"
      },
      "source": [
        "data.head()"
      ],
      "execution_count": 4,
      "outputs": [
        {
          "output_type": "execute_result",
          "data": {
            "text/html": [
              "<div>\n",
              "<style scoped>\n",
              "    .dataframe tbody tr th:only-of-type {\n",
              "        vertical-align: middle;\n",
              "    }\n",
              "\n",
              "    .dataframe tbody tr th {\n",
              "        vertical-align: top;\n",
              "    }\n",
              "\n",
              "    .dataframe thead th {\n",
              "        text-align: right;\n",
              "    }\n",
              "</style>\n",
              "<table border=\"1\" class=\"dataframe\">\n",
              "  <thead>\n",
              "    <tr style=\"text-align: right;\">\n",
              "      <th></th>\n",
              "      <th>gender</th>\n",
              "      <th>race/ethnicity</th>\n",
              "      <th>parental level of education</th>\n",
              "      <th>lunch</th>\n",
              "      <th>test preparation course</th>\n",
              "      <th>math score</th>\n",
              "      <th>reading score</th>\n",
              "      <th>writing score</th>\n",
              "    </tr>\n",
              "  </thead>\n",
              "  <tbody>\n",
              "    <tr>\n",
              "      <th>0</th>\n",
              "      <td>female</td>\n",
              "      <td>group B</td>\n",
              "      <td>bachelor's degree</td>\n",
              "      <td>standard</td>\n",
              "      <td>none</td>\n",
              "      <td>72</td>\n",
              "      <td>72</td>\n",
              "      <td>74</td>\n",
              "    </tr>\n",
              "    <tr>\n",
              "      <th>1</th>\n",
              "      <td>female</td>\n",
              "      <td>group C</td>\n",
              "      <td>some college</td>\n",
              "      <td>standard</td>\n",
              "      <td>completed</td>\n",
              "      <td>69</td>\n",
              "      <td>90</td>\n",
              "      <td>88</td>\n",
              "    </tr>\n",
              "    <tr>\n",
              "      <th>2</th>\n",
              "      <td>female</td>\n",
              "      <td>group B</td>\n",
              "      <td>master's degree</td>\n",
              "      <td>standard</td>\n",
              "      <td>none</td>\n",
              "      <td>90</td>\n",
              "      <td>95</td>\n",
              "      <td>93</td>\n",
              "    </tr>\n",
              "    <tr>\n",
              "      <th>3</th>\n",
              "      <td>male</td>\n",
              "      <td>group A</td>\n",
              "      <td>associate's degree</td>\n",
              "      <td>free/reduced</td>\n",
              "      <td>none</td>\n",
              "      <td>47</td>\n",
              "      <td>57</td>\n",
              "      <td>44</td>\n",
              "    </tr>\n",
              "    <tr>\n",
              "      <th>4</th>\n",
              "      <td>male</td>\n",
              "      <td>group C</td>\n",
              "      <td>some college</td>\n",
              "      <td>standard</td>\n",
              "      <td>none</td>\n",
              "      <td>76</td>\n",
              "      <td>78</td>\n",
              "      <td>75</td>\n",
              "    </tr>\n",
              "  </tbody>\n",
              "</table>\n",
              "</div>"
            ],
            "text/plain": [
              "   gender race/ethnicity  ... reading score writing score\n",
              "0  female        group B  ...            72            74\n",
              "1  female        group C  ...            90            88\n",
              "2  female        group B  ...            95            93\n",
              "3    male        group A  ...            57            44\n",
              "4    male        group C  ...            78            75\n",
              "\n",
              "[5 rows x 8 columns]"
            ]
          },
          "metadata": {
            "tags": []
          },
          "execution_count": 4
        }
      ]
    },
    {
      "cell_type": "code",
      "metadata": {
        "colab": {
          "base_uri": "https://localhost:8080/"
        },
        "id": "IVxmC0E-jf5z",
        "outputId": "64b3f5f2-257b-4215-c0d4-c4aec73cc28e"
      },
      "source": [
        "!pip install seaborn\n",
        "import seaborn as sns\n",
        "sns.set_style(\"whitegrid\")"
      ],
      "execution_count": 6,
      "outputs": [
        {
          "output_type": "stream",
          "text": [
            "Requirement already satisfied: seaborn in /usr/local/lib/python3.6/dist-packages (0.11.0)\n",
            "Requirement already satisfied: numpy>=1.15 in /usr/local/lib/python3.6/dist-packages (from seaborn) (1.19.4)\n",
            "Requirement already satisfied: matplotlib>=2.2 in /usr/local/lib/python3.6/dist-packages (from seaborn) (3.2.2)\n",
            "Requirement already satisfied: scipy>=1.0 in /usr/local/lib/python3.6/dist-packages (from seaborn) (1.4.1)\n",
            "Requirement already satisfied: pandas>=0.23 in /usr/local/lib/python3.6/dist-packages (from seaborn) (1.1.5)\n",
            "Requirement already satisfied: kiwisolver>=1.0.1 in /usr/local/lib/python3.6/dist-packages (from matplotlib>=2.2->seaborn) (1.3.1)\n",
            "Requirement already satisfied: pyparsing!=2.0.4,!=2.1.2,!=2.1.6,>=2.0.1 in /usr/local/lib/python3.6/dist-packages (from matplotlib>=2.2->seaborn) (2.4.7)\n",
            "Requirement already satisfied: python-dateutil>=2.1 in /usr/local/lib/python3.6/dist-packages (from matplotlib>=2.2->seaborn) (2.8.1)\n",
            "Requirement already satisfied: cycler>=0.10 in /usr/local/lib/python3.6/dist-packages (from matplotlib>=2.2->seaborn) (0.10.0)\n",
            "Requirement already satisfied: pytz>=2017.2 in /usr/local/lib/python3.6/dist-packages (from pandas>=0.23->seaborn) (2018.9)\n",
            "Requirement already satisfied: six>=1.5 in /usr/local/lib/python3.6/dist-packages (from python-dateutil>=2.1->matplotlib>=2.2->seaborn) (1.15.0)\n"
          ],
          "name": "stdout"
        }
      ]
    },
    {
      "cell_type": "code",
      "metadata": {
        "colab": {
          "base_uri": "https://localhost:8080/",
          "height": 694
        },
        "id": "l2gR32mnjshh",
        "outputId": "bf3fc28b-9508-42cf-9f0f-e79e06a0054a"
      },
      "source": [
        "# checking NULL Data \n",
        "\n",
        "import missingno as msno \n",
        "msno.matrix(data)"
      ],
      "execution_count": 7,
      "outputs": [
        {
          "output_type": "execute_result",
          "data": {
            "text/plain": [
              "<matplotlib.axes._subplots.AxesSubplot at 0x7f7fb01a1470>"
            ]
          },
          "metadata": {
            "tags": []
          },
          "execution_count": 7
        },
        {
          "output_type": "display_data",
          "data": {
            "image/png": "[encoded data removed]",
            "text/plain": [
              "<Figure size 1800x720 with 2 Axes>"
            ]
          },
          "metadata": {
            "tags": []
          }
        }
      ]
    },
    {
      "cell_type": "code",
      "metadata": {
        "colab": {
          "base_uri": "https://localhost:8080/",
          "height": 204
        },
        "id": "fUnNJ81akiRc",
        "outputId": "4bb8b182-f30d-4628-eff3-40ce4f007c1e"
      },
      "source": [
        "# table view \n",
        "# Default notebook \n",
        "data.head()"
      ],
      "execution_count": 8,
      "outputs": [
        {
          "output_type": "execute_result",
          "data": {
            "text/html": [
              "<div>\n",
              "<style scoped>\n",
              "    .dataframe tbody tr th:only-of-type {\n",
              "        vertical-align: middle;\n",
              "    }\n",
              "\n",
              "    .dataframe tbody tr th {\n",
              "        vertical-align: top;\n",
              "    }\n",
              "\n",
              "    .dataframe thead th {\n",
              "        text-align: right;\n",
              "    }\n",
              "</style>\n",
              "<table border=\"1\" class=\"dataframe\">\n",
              "  <thead>\n",
              "    <tr style=\"text-align: right;\">\n",
              "      <th></th>\n",
              "      <th>gender</th>\n",
              "      <th>race/ethnicity</th>\n",
              "      <th>parental level of education</th>\n",
              "      <th>lunch</th>\n",
              "      <th>test preparation course</th>\n",
              "      <th>math score</th>\n",
              "      <th>reading score</th>\n",
              "      <th>writing score</th>\n",
              "    </tr>\n",
              "  </thead>\n",
              "  <tbody>\n",
              "    <tr>\n",
              "      <th>0</th>\n",
              "      <td>female</td>\n",
              "      <td>group B</td>\n",
              "      <td>bachelor's degree</td>\n",
              "      <td>standard</td>\n",
              "      <td>none</td>\n",
              "      <td>72</td>\n",
              "      <td>72</td>\n",
              "      <td>74</td>\n",
              "    </tr>\n",
              "    <tr>\n",
              "      <th>1</th>\n",
              "      <td>female</td>\n",
              "      <td>group C</td>\n",
              "      <td>some college</td>\n",
              "      <td>standard</td>\n",
              "      <td>completed</td>\n",
              "      <td>69</td>\n",
              "      <td>90</td>\n",
              "      <td>88</td>\n",
              "    </tr>\n",
              "    <tr>\n",
              "      <th>2</th>\n",
              "      <td>female</td>\n",
              "      <td>group B</td>\n",
              "      <td>master's degree</td>\n",
              "      <td>standard</td>\n",
              "      <td>none</td>\n",
              "      <td>90</td>\n",
              "      <td>95</td>\n",
              "      <td>93</td>\n",
              "    </tr>\n",
              "    <tr>\n",
              "      <th>3</th>\n",
              "      <td>male</td>\n",
              "      <td>group A</td>\n",
              "      <td>associate's degree</td>\n",
              "      <td>free/reduced</td>\n",
              "      <td>none</td>\n",
              "      <td>47</td>\n",
              "      <td>57</td>\n",
              "      <td>44</td>\n",
              "    </tr>\n",
              "    <tr>\n",
              "      <th>4</th>\n",
              "      <td>male</td>\n",
              "      <td>group C</td>\n",
              "      <td>some college</td>\n",
              "      <td>standard</td>\n",
              "      <td>none</td>\n",
              "      <td>76</td>\n",
              "      <td>78</td>\n",
              "      <td>75</td>\n",
              "    </tr>\n",
              "  </tbody>\n",
              "</table>\n",
              "</div>"
            ],
            "text/plain": [
              "   gender race/ethnicity  ... reading score writing score\n",
              "0  female        group B  ...            72            74\n",
              "1  female        group C  ...            90            88\n",
              "2  female        group B  ...            95            93\n",
              "3    male        group A  ...            57            44\n",
              "4    male        group C  ...            78            75\n",
              "\n",
              "[5 rows x 8 columns]"
            ]
          },
          "metadata": {
            "tags": []
          },
          "execution_count": 8
        }
      ]
    },
    {
      "cell_type": "code",
      "metadata": {
        "colab": {
          "base_uri": "https://localhost:8080/",
          "height": 419
        },
        "id": "oRa1IzIlksOf",
        "outputId": "60d8aaac-9ed0-4825-bed6-7c714bc2d508"
      },
      "source": [
        "display(data)"
      ],
      "execution_count": 9,
      "outputs": [
        {
          "output_type": "display_data",
          "data": {
            "text/html": [
              "<div>\n",
              "<style scoped>\n",
              "    .dataframe tbody tr th:only-of-type {\n",
              "        vertical-align: middle;\n",
              "    }\n",
              "\n",
              "    .dataframe tbody tr th {\n",
              "        vertical-align: top;\n",
              "    }\n",
              "\n",
              "    .dataframe thead th {\n",
              "        text-align: right;\n",
              "    }\n",
              "</style>\n",
              "<table border=\"1\" class=\"dataframe\">\n",
              "  <thead>\n",
              "    <tr style=\"text-align: right;\">\n",
              "      <th></th>\n",
              "      <th>gender</th>\n",
              "      <th>race/ethnicity</th>\n",
              "      <th>parental level of education</th>\n",
              "      <th>lunch</th>\n",
              "      <th>test preparation course</th>\n",
              "      <th>math score</th>\n",
              "      <th>reading score</th>\n",
              "      <th>writing score</th>\n",
              "    </tr>\n",
              "  </thead>\n",
              "  <tbody>\n",
              "    <tr>\n",
              "      <th>0</th>\n",
              "      <td>female</td>\n",
              "      <td>group B</td>\n",
              "      <td>bachelor's degree</td>\n",
              "      <td>standard</td>\n",
              "      <td>none</td>\n",
              "      <td>72</td>\n",
              "      <td>72</td>\n",
              "      <td>74</td>\n",
              "    </tr>\n",
              "    <tr>\n",
              "      <th>1</th>\n",
              "      <td>female</td>\n",
              "      <td>group C</td>\n",
              "      <td>some college</td>\n",
              "      <td>standard</td>\n",
              "      <td>completed</td>\n",
              "      <td>69</td>\n",
              "      <td>90</td>\n",
              "      <td>88</td>\n",
              "    </tr>\n",
              "    <tr>\n",
              "      <th>2</th>\n",
              "      <td>female</td>\n",
              "      <td>group B</td>\n",
              "      <td>master's degree</td>\n",
              "      <td>standard</td>\n",
              "      <td>none</td>\n",
              "      <td>90</td>\n",
              "      <td>95</td>\n",
              "      <td>93</td>\n",
              "    </tr>\n",
              "    <tr>\n",
              "      <th>3</th>\n",
              "      <td>male</td>\n",
              "      <td>group A</td>\n",
              "      <td>associate's degree</td>\n",
              "      <td>free/reduced</td>\n",
              "      <td>none</td>\n",
              "      <td>47</td>\n",
              "      <td>57</td>\n",
              "      <td>44</td>\n",
              "    </tr>\n",
              "    <tr>\n",
              "      <th>4</th>\n",
              "      <td>male</td>\n",
              "      <td>group C</td>\n",
              "      <td>some college</td>\n",
              "      <td>standard</td>\n",
              "      <td>none</td>\n",
              "      <td>76</td>\n",
              "      <td>78</td>\n",
              "      <td>75</td>\n",
              "    </tr>\n",
              "    <tr>\n",
              "      <th>...</th>\n",
              "      <td>...</td>\n",
              "      <td>...</td>\n",
              "      <td>...</td>\n",
              "      <td>...</td>\n",
              "      <td>...</td>\n",
              "      <td>...</td>\n",
              "      <td>...</td>\n",
              "      <td>...</td>\n",
              "    </tr>\n",
              "    <tr>\n",
              "      <th>995</th>\n",
              "      <td>female</td>\n",
              "      <td>group E</td>\n",
              "      <td>master's degree</td>\n",
              "      <td>standard</td>\n",
              "      <td>completed</td>\n",
              "      <td>88</td>\n",
              "      <td>99</td>\n",
              "      <td>95</td>\n",
              "    </tr>\n",
              "    <tr>\n",
              "      <th>996</th>\n",
              "      <td>male</td>\n",
              "      <td>group C</td>\n",
              "      <td>high school</td>\n",
              "      <td>free/reduced</td>\n",
              "      <td>none</td>\n",
              "      <td>62</td>\n",
              "      <td>55</td>\n",
              "      <td>55</td>\n",
              "    </tr>\n",
              "    <tr>\n",
              "      <th>997</th>\n",
              "      <td>female</td>\n",
              "      <td>group C</td>\n",
              "      <td>high school</td>\n",
              "      <td>free/reduced</td>\n",
              "      <td>completed</td>\n",
              "      <td>59</td>\n",
              "      <td>71</td>\n",
              "      <td>65</td>\n",
              "    </tr>\n",
              "    <tr>\n",
              "      <th>998</th>\n",
              "      <td>female</td>\n",
              "      <td>group D</td>\n",
              "      <td>some college</td>\n",
              "      <td>standard</td>\n",
              "      <td>completed</td>\n",
              "      <td>68</td>\n",
              "      <td>78</td>\n",
              "      <td>77</td>\n",
              "    </tr>\n",
              "    <tr>\n",
              "      <th>999</th>\n",
              "      <td>female</td>\n",
              "      <td>group D</td>\n",
              "      <td>some college</td>\n",
              "      <td>free/reduced</td>\n",
              "      <td>none</td>\n",
              "      <td>77</td>\n",
              "      <td>86</td>\n",
              "      <td>86</td>\n",
              "    </tr>\n",
              "  </tbody>\n",
              "</table>\n",
              "<p>1000 rows × 8 columns</p>\n",
              "</div>"
            ],
            "text/plain": [
              "     gender race/ethnicity  ... reading score writing score\n",
              "0    female        group B  ...            72            74\n",
              "1    female        group C  ...            90            88\n",
              "2    female        group B  ...            95            93\n",
              "3      male        group A  ...            57            44\n",
              "4      male        group C  ...            78            75\n",
              "..      ...            ...  ...           ...           ...\n",
              "995  female        group E  ...            99            95\n",
              "996    male        group C  ...            55            55\n",
              "997  female        group C  ...            71            65\n",
              "998  female        group D  ...            78            77\n",
              "999  female        group D  ...            86            86\n",
              "\n",
              "[1000 rows x 8 columns]"
            ]
          },
          "metadata": {
            "tags": []
          }
        }
      ]
    },
    {
      "cell_type": "code",
      "metadata": {
        "colab": {
          "base_uri": "https://localhost:8080/",
          "height": 542
        },
        "id": "rb-jFOsDk1aQ",
        "outputId": "8ba77cbe-51f6-406a-d00e-08b5f7ac01c5"
      },
      "source": [
        "# Plotly go.Table \n",
        "import plotly.graph_objects as go \n",
        "\n",
        "fig = go.Figure()\n",
        "\n",
        "fig.add_trace(\n",
        "    go.Table(header=dict(values = data.columns), \n",
        "             cells = dict(values = data.head(3).T))\n",
        ")\n",
        "\n",
        "fig.show()"
      ],
      "execution_count": 10,
      "outputs": [
        {
          "output_type": "display_data",
          "data": {
            "text/html": [
              "<html>\n",
              "<head><meta charset=\"utf-8\" /></head>\n",
              "<body>\n",
              "    <div>\n",
              "            <script src=\"https://cdnjs.cloudflare.com/ajax/libs/mathjax/2.7.5/MathJax.js?config=TeX-AMS-MML_SVG\"></script><script type=\"text/javascript\">if (window.MathJax) {MathJax.Hub.Config({SVG: {font: \"STIX-Web\"}});}</script>\n",
              "                <script type=\"text/javascript\">window.PlotlyConfig = {MathJaxConfig: 'local'};</script>\n",
              "        <script src=\"https://cdn.plot.ly/plotly-latest.min.js\"></script>    \n",
              "            <div id=\"37962512-9cd5-44fb-b8eb-8c614e1e7a09\" class=\"plotly-graph-div\" style=\"height:525px; width:100%;\"></div>\n",
              "            <script type=\"text/javascript\">\n",
              "                \n",
              "                    window.PLOTLYENV=window.PLOTLYENV || {};\n",
              "                    \n",
              "                if (document.getElementById(\"37962512-9cd5-44fb-b8eb-8c614e1e7a09\")) {\n",
              "                    Plotly.newPlot(\n",
              "                        '37962512-9cd5-44fb-b8eb-8c614e1e7a09',\n",
              "                        [{\"cells\": {\"values\": [[\"female\", \"female\", \"female\"], [\"group B\", \"group C\", \"group B\"], [\"bachelor's degree\", \"some college\", \"master's degree\"], [\"standard\", \"standard\", \"standard\"], [\"none\", \"completed\", \"none\"], [72, 69, 90], [72, 90, 95], [74, 88, 93]]}, \"header\": {\"values\": [\"gender\", \"race/ethnicity\", \"parental level of education\", \"lunch\", \"test preparation course\", \"math score\", \"reading score\", \"writing score\"]}, \"type\": \"table\"}],\n",
              "                        {\"template\": {\"data\": {\"bar\": [{\"error_x\": {\"color\": \"#2a3f5f\"}, \"error_y\": {\"color\": \"#2a3f5f\"}, \"marker\": {\"line\": {\"color\": \"#E5ECF6\", \"width\": 0.5}}, \"type\": \"bar\"}], \"barpolar\": [{\"marker\": {\"line\": {\"color\": \"#E5ECF6\", \"width\": 0.5}}, \"type\": \"barpolar\"}], \"carpet\": [{\"aaxis\": {\"endlinecolor\": \"#2a3f5f\", \"gridcolor\": \"white\", \"linecolor\": \"white\", \"minorgridcolor\": \"white\", \"startlinecolor\": \"#2a3f5f\"}, \"baxis\": {\"endlinecolor\": \"#2a3f5f\", \"gridcolor\": \"white\", \"linecolor\": \"white\", \"minorgridcolor\": \"white\", \"startlinecolor\": \"#2a3f5f\"}, \"type\": \"carpet\"}], \"choropleth\": [{\"colorbar\": {\"outlinewidth\": 0, \"ticks\": \"\"}, \"type\": \"choropleth\"}], \"contour\": [{\"colorbar\": {\"outlinewidth\": 0, \"ticks\": \"\"}, \"colorscale\": [[0.0, \"#0d0887\"], [0.1111111111111111, \"#46039f\"], [0.2222222222222222, \"#7201a8\"], [0.3333333333333333, \"#9c179e\"], [0.4444444444444444, \"#bd3786\"], [0.5555555555555556, \"#d8576b\"], [0.6666666666666666, \"#ed7953\"], [0.7777777777777778, \"#fb9f3a\"], [0.8888888888888888, \"#fdca26\"], [1.0, \"#f0f921\"]], \"type\": \"contour\"}], \"contourcarpet\": [{\"colorbar\": {\"outlinewidth\": 0, \"ticks\": \"\"}, \"type\": \"contourcarpet\"}], \"heatmap\": [{\"colorbar\": {\"outlinewidth\": 0, \"ticks\": \"\"}, \"colorscale\": [[0.0, \"#0d0887\"], [0.1111111111111111, \"#46039f\"], [0.2222222222222222, \"#7201a8\"], [0.3333333333333333, \"#9c179e\"], [0.4444444444444444, \"#bd3786\"], [0.5555555555555556, \"#d8576b\"], [0.6666666666666666, \"#ed7953\"], [0.7777777777777778, \"#fb9f3a\"], [0.8888888888888888, \"#fdca26\"], [1.0, \"#f0f921\"]], \"type\": \"heatmap\"}], \"heatmapgl\": [{\"colorbar\": {\"outlinewidth\": 0, \"ticks\": \"\"}, \"colorscale\": [[0.0, \"#0d0887\"], [0.1111111111111111, \"#46039f\"], [0.2222222222222222, \"#7201a8\"], [0.3333333333333333, \"#9c179e\"], [0.4444444444444444, \"#bd3786\"], [0.5555555555555556, \"#d8576b\"], [0.6666666666666666, \"#ed7953\"], [0.7777777777777778, \"#fb9f3a\"], [0.8888888888888888, \"#fdca26\"], [1.0, \"#f0f921\"]], \"type\": \"heatmapgl\"}], \"histogram\": [{\"marker\": {\"colorbar\": {\"outlinewidth\": 0, \"ticks\": \"\"}}, \"type\": \"histogram\"}], \"histogram2d\": [{\"colorbar\": {\"outlinewidth\": 0, \"ticks\": \"\"}, \"colorscale\": [[0.0, \"#0d0887\"], [0.1111111111111111, \"#46039f\"], [0.2222222222222222, \"#7201a8\"], [0.3333333333333333, \"#9c179e\"], [0.4444444444444444, \"#bd3786\"], [0.5555555555555556, \"#d8576b\"], [0.6666666666666666, \"#ed7953\"], [0.7777777777777778, \"#fb9f3a\"], [0.8888888888888888, \"#fdca26\"], [1.0, \"#f0f921\"]], \"type\": \"histogram2d\"}], \"histogram2dcontour\": [{\"colorbar\": {\"outlinewidth\": 0, \"ticks\": \"\"}, \"colorscale\": [[0.0, \"#0d0887\"], [0.1111111111111111, \"#46039f\"], [0.2222222222222222, \"#7201a8\"], [0.3333333333333333, \"#9c179e\"], [0.4444444444444444, \"#bd3786\"], [0.5555555555555556, \"#d8576b\"], [0.6666666666666666, \"#ed7953\"], [0.7777777777777778, \"#fb9f3a\"], [0.8888888888888888, \"#fdca26\"], [1.0, \"#f0f921\"]], \"type\": \"histogram2dcontour\"}], \"mesh3d\": [{\"colorbar\": {\"outlinewidth\": 0, \"ticks\": \"\"}, \"type\": \"mesh3d\"}], \"parcoords\": [{\"line\": {\"colorbar\": {\"outlinewidth\": 0, \"ticks\": \"\"}}, \"type\": \"parcoords\"}], \"pie\": [{\"automargin\": true, \"type\": \"pie\"}], \"scatter\": [{\"marker\": {\"colorbar\": {\"outlinewidth\": 0, \"ticks\": \"\"}}, \"type\": \"scatter\"}], \"scatter3d\": [{\"line\": {\"colorbar\": {\"outlinewidth\": 0, \"ticks\": \"\"}}, \"marker\": {\"colorbar\": {\"outlinewidth\": 0, \"ticks\": \"\"}}, \"type\": \"scatter3d\"}], \"scattercarpet\": [{\"marker\": {\"colorbar\": {\"outlinewidth\": 0, \"ticks\": \"\"}}, \"type\": \"scattercarpet\"}], \"scattergeo\": [{\"marker\": {\"colorbar\": {\"outlinewidth\": 0, \"ticks\": \"\"}}, \"type\": \"scattergeo\"}], \"scattergl\": [{\"marker\": {\"colorbar\": {\"outlinewidth\": 0, \"ticks\": \"\"}}, \"type\": \"scattergl\"}], \"scattermapbox\": [{\"marker\": {\"colorbar\": {\"outlinewidth\": 0, \"ticks\": \"\"}}, \"type\": \"scattermapbox\"}], \"scatterpolar\": [{\"marker\": {\"colorbar\": {\"outlinewidth\": 0, \"ticks\": \"\"}}, \"type\": \"scatterpolar\"}], \"scatterpolargl\": [{\"marker\": {\"colorbar\": {\"outlinewidth\": 0, \"ticks\": \"\"}}, \"type\": \"scatterpolargl\"}], \"scatterternary\": [{\"marker\": {\"colorbar\": {\"outlinewidth\": 0, \"ticks\": \"\"}}, \"type\": \"scatterternary\"}], \"surface\": [{\"colorbar\": {\"outlinewidth\": 0, \"ticks\": \"\"}, \"colorscale\": [[0.0, \"#0d0887\"], [0.1111111111111111, \"#46039f\"], [0.2222222222222222, \"#7201a8\"], [0.3333333333333333, \"#9c179e\"], [0.4444444444444444, \"#bd3786\"], [0.5555555555555556, \"#d8576b\"], [0.6666666666666666, \"#ed7953\"], [0.7777777777777778, \"#fb9f3a\"], [0.8888888888888888, \"#fdca26\"], [1.0, \"#f0f921\"]], \"type\": \"surface\"}], \"table\": [{\"cells\": {\"fill\": {\"color\": \"#EBF0F8\"}, \"line\": {\"color\": \"white\"}}, \"header\": {\"fill\": {\"color\": \"#C8D4E3\"}, \"line\": {\"color\": \"white\"}}, \"type\": \"table\"}]}, \"layout\": {\"annotationdefaults\": {\"arrowcolor\": \"#2a3f5f\", \"arrowhead\": 0, \"arrowwidth\": 1}, \"coloraxis\": {\"colorbar\": {\"outlinewidth\": 0, \"ticks\": \"\"}}, \"colorscale\": {\"diverging\": [[0, \"#8e0152\"], [0.1, \"#c51b7d\"], [0.2, \"#de77ae\"], [0.3, \"#f1b6da\"], [0.4, \"#fde0ef\"], [0.5, \"#f7f7f7\"], [0.6, \"#e6f5d0\"], [0.7, \"#b8e186\"], [0.8, \"#7fbc41\"], [0.9, \"#4d9221\"], [1, \"#276419\"]], \"sequential\": [[0.0, \"#0d0887\"], [0.1111111111111111, \"#46039f\"], [0.2222222222222222, \"#7201a8\"], [0.3333333333333333, \"#9c179e\"], [0.4444444444444444, \"#bd3786\"], [0.5555555555555556, \"#d8576b\"], [0.6666666666666666, \"#ed7953\"], [0.7777777777777778, \"#fb9f3a\"], [0.8888888888888888, \"#fdca26\"], [1.0, \"#f0f921\"]], \"sequentialminus\": [[0.0, \"#0d0887\"], [0.1111111111111111, \"#46039f\"], [0.2222222222222222, \"#7201a8\"], [0.3333333333333333, \"#9c179e\"], [0.4444444444444444, \"#bd3786\"], [0.5555555555555556, \"#d8576b\"], [0.6666666666666666, \"#ed7953\"], [0.7777777777777778, \"#fb9f3a\"], [0.8888888888888888, \"#fdca26\"], [1.0, \"#f0f921\"]]}, \"colorway\": [\"#636efa\", \"#EF553B\", \"#00cc96\", \"#ab63fa\", \"#FFA15A\", \"#19d3f3\", \"#FF6692\", \"#B6E880\", \"#FF97FF\", \"#FECB52\"], \"font\": {\"color\": \"#2a3f5f\"}, \"geo\": {\"bgcolor\": \"white\", \"lakecolor\": \"white\", \"landcolor\": \"#E5ECF6\", \"showlakes\": true, \"showland\": true, \"subunitcolor\": \"white\"}, \"hoverlabel\": {\"align\": \"left\"}, \"hovermode\": \"closest\", \"mapbox\": {\"style\": \"light\"}, \"paper_bgcolor\": \"white\", \"plot_bgcolor\": \"#E5ECF6\", \"polar\": {\"angularaxis\": {\"gridcolor\": \"white\", \"linecolor\": \"white\", \"ticks\": \"\"}, \"bgcolor\": \"#E5ECF6\", \"radialaxis\": {\"gridcolor\": \"white\", \"linecolor\": \"white\", \"ticks\": \"\"}}, \"scene\": {\"xaxis\": {\"backgroundcolor\": \"#E5ECF6\", \"gridcolor\": \"white\", \"gridwidth\": 2, \"linecolor\": \"white\", \"showbackground\": true, \"ticks\": \"\", \"zerolinecolor\": \"white\"}, \"yaxis\": {\"backgroundcolor\": \"#E5ECF6\", \"gridcolor\": \"white\", \"gridwidth\": 2, \"linecolor\": \"white\", \"showbackground\": true, \"ticks\": \"\", \"zerolinecolor\": \"white\"}, \"zaxis\": {\"backgroundcolor\": \"#E5ECF6\", \"gridcolor\": \"white\", \"gridwidth\": 2, \"linecolor\": \"white\", \"showbackground\": true, \"ticks\": \"\", \"zerolinecolor\": \"white\"}}, \"shapedefaults\": {\"line\": {\"color\": \"#2a3f5f\"}}, \"ternary\": {\"aaxis\": {\"gridcolor\": \"white\", \"linecolor\": \"white\", \"ticks\": \"\"}, \"baxis\": {\"gridcolor\": \"white\", \"linecolor\": \"white\", \"ticks\": \"\"}, \"bgcolor\": \"#E5ECF6\", \"caxis\": {\"gridcolor\": \"white\", \"linecolor\": \"white\", \"ticks\": \"\"}}, \"title\": {\"x\": 0.05}, \"xaxis\": {\"automargin\": true, \"gridcolor\": \"white\", \"linecolor\": \"white\", \"ticks\": \"\", \"title\": {\"standoff\": 15}, \"zerolinecolor\": \"white\", \"zerolinewidth\": 2}, \"yaxis\": {\"automargin\": true, \"gridcolor\": \"white\", \"linecolor\": \"white\", \"ticks\": \"\", \"title\": {\"standoff\": 15}, \"zerolinecolor\": \"white\", \"zerolinewidth\": 2}}}},\n",
              "                        {\"responsive\": true}\n",
              "                    ).then(function(){\n",
              "                            \n",
              "var gd = document.getElementById('37962512-9cd5-44fb-b8eb-8c614e1e7a09');\n",
              "var x = new MutationObserver(function (mutations, observer) {{\n",
              "        var display = window.getComputedStyle(gd).display;\n",
              "        if (!display || display === 'none') {{\n",
              "            console.log([gd, 'removed!']);\n",
              "            Plotly.purge(gd);\n",
              "            observer.disconnect();\n",
              "        }}\n",
              "}});\n",
              "\n",
              "// Listen for the removal of the full notebook cells\n",
              "var notebookContainer = gd.closest('#notebook-container');\n",
              "if (notebookContainer) {{\n",
              "    x.observe(notebookContainer, {childList: true});\n",
              "}}\n",
              "\n",
              "// Listen for the clearing of the current output cell\n",
              "var outputEl = gd.closest('.output');\n",
              "if (outputEl) {{\n",
              "    x.observe(outputEl, {childList: true});\n",
              "}}\n",
              "\n",
              "                        })\n",
              "                };\n",
              "                \n",
              "            </script>\n",
              "        </div>\n",
              "</body>\n",
              "</html>"
            ]
          },
          "metadata": {
            "tags": []
          }
        }
      ]
    },
    {
      "cell_type": "code",
      "metadata": {
        "colab": {
          "base_uri": "https://localhost:8080/",
          "height": 400
        },
        "id": "MAcjnP4FlYzc",
        "outputId": "b5ca3b3b-0c8f-42c4-beb4-3fe2f4c13fa6"
      },
      "source": [
        "# Count plot \n",
        "## Seaborn : countplot, barplot + value_counts()\n",
        "\n",
        "# TIPS\n",
        "# - if you want to make it vertical, replace x by y. \n",
        "# - use alpha parameter to set opacity for more readable plot \n",
        "# - use hue to find features' trend \n",
        "# - use plt.xticks or plt.yticks to rotation xaxis label\n",
        "\n",
        "\n",
        "\n",
        "\n",
        "\n",
        "fig, ax  = plt.subplots(2, 1, figsize=(16, 6))\n",
        "# type 1 : use hue parameter \n",
        "sns.countplot(x='math score', data=data, hue='gender', palette='Set1',\n",
        "              alpha=0.7, ax=ax[0])\n",
        "plt.legend()\n",
        "\n",
        "# type 2 : user value_counts + bar plot\n",
        "\n",
        "sns.barplot(x=data['math score'].value_counts().index,\n",
        "            y=data['math score'].value_counts(), ax=ax[1])\n",
        "plt.xticks(rotation='vertical')\n",
        "\n",
        "plt.show()\n"
      ],
      "execution_count": 16,
      "outputs": [
        {
          "output_type": "stream",
          "text": [
            "No handles with labels found to put in legend.\n"
          ],
          "name": "stderr"
        },
        {
          "output_type": "display_data",
          "data": {
            "image/png": "[encoded data removed]",
            "text/plain": [
              "<Figure size 1152x432 with 2 Axes>"
            ]
          },
          "metadata": {
            "tags": []
          }
        }
      ]
    },
    {
      "cell_type": "code",
      "metadata": {
        "id": "DbgOHSfVodJY"
      },
      "source": [
        "# plotly: px.Histogram , go.Histogram"
      ],
      "execution_count": 17,
      "outputs": []
    },
    {
      "cell_type": "code",
      "metadata": {
        "id": "gStnfF-Jqbym"
      },
      "source": [
        "# plotly doesn't have coutplot but with simple trick, we can make countplot\n",
        "# (or You can use value_counts + bar trick again)\n",
        "\n",
        "# plotly.express and plotly.graph_objects have histogram plot \n",
        "# we can set x & y parameter same feature (it means y is number of x )\n",
        "# And set color like hue.\n",
        "# you can change barmode as group \n",
        "\n",
        "\n"
      ],
      "execution_count": 18,
      "outputs": []
    },
    {
      "cell_type": "code",
      "metadata": {
        "colab": {
          "base_uri": "https://localhost:8080/",
          "height": 1000
        },
        "id": "gXhgcNkhrF2-",
        "outputId": "d081f2ae-c2c1-4fac-893f-b2c401443712"
      },
      "source": [
        "import plotly.express as px\n",
        "\n",
        "# type 1 stacked graph (default)\n",
        "fig = px.histogram(data, x='math score', y='math score', color ='gender')\n",
        "fig.show()\n",
        "\n",
        "# type 2 group \n",
        "fig = px.histogram(data, x='math score', y='math score', color='gender')\n",
        "fig.update_layout(barmode='group')\n",
        "fig.show()"
      ],
      "execution_count": 20,
      "outputs": [
        {
          "output_type": "display_data",
          "data": {
            "text/html": [
              "<html>\n",
              "<head><meta charset=\"utf-8\" /></head>\n",
              "<body>\n",
              "    <div>\n",
              "            <script src=\"https://cdnjs.cloudflare.com/ajax/libs/mathjax/2.7.5/MathJax.js?config=TeX-AMS-MML_SVG\"></script><script type=\"text/javascript\">if (window.MathJax) {MathJax.Hub.Config({SVG: {font: \"STIX-Web\"}});}</script>\n",
              "                <script type=\"text/javascript\">window.PlotlyConfig = {MathJaxConfig: 'local'};</script>\n",
              "        <script src=\"https://cdn.plot.ly/plotly-latest.min.js\"></script>    \n",
              "            <div id=\"6e06f72d-ac56-4b8e-894a-fd2e99d847ff\" class=\"plotly-graph-div\" style=\"height:525px; width:100%;\"></div>\n",
              "            <script type=\"text/javascript\">\n",
              "                \n",
              "                    window.PLOTLYENV=window.PLOTLYENV || {};\n",
              "                    \n",
              "                if (document.getElementById(\"6e06f72d-ac56-4b8e-894a-fd2e99d847ff\")) {\n",
              "                    Plotly.newPlot(\n",
              "                        '6e06f72d-ac56-4b8e-894a-fd2e99d847ff',\n",
              "                        [{\"alignmentgroup\": \"True\", \"bingroup\": \"x\", \"hoverlabel\": {\"namelength\": 0}, \"hovertemplate\": \"gender=female<br>math score=%{x}<br>count of math score=%{y}\", \"legendgroup\": \"gender=female\", \"marker\": {\"color\": \"#636efa\"}, \"name\": \"gender=female\", \"offsetgroup\": \"gender=female\", \"orientation\": \"v\", \"showlegend\": true, \"type\": \"histogram\", \"x\": [72, 69, 90, 71, 88, 38, 65, 50, 69, 18, 54, 65, 69, 67, 62, 69, 63, 56, 74, 50, 75, 58, 53, 50, 55, 66, 57, 71, 33, 82, 0, 69, 59, 60, 39, 58, 41, 61, 62, 47, 73, 76, 71, 58, 73, 65, 79, 63, 58, 65, 85, 58, 87, 52, 70, 77, 51, 99, 75, 78, 51, 55, 79, 88, 87, 51, 75, 59, 76, 59, 42, 22, 68, 59, 70, 66, 61, 75, 81, 96, 58, 68, 67, 79, 63, 43, 81, 46, 71, 52, 97, 46, 50, 65, 77, 66, 62, 69, 45, 78, 67, 65, 57, 74, 58, 42, 83, 34, 56, 55, 52, 45, 72, 88, 67, 64, 80, 56, 58, 65, 71, 60, 62, 64, 70, 65, 64, 44, 99, 63, 69, 88, 71, 47, 65, 85, 59, 65, 73, 70, 37, 67, 65, 67, 74, 53, 49, 73, 68, 59, 77, 56, 67, 75, 71, 43, 41, 82, 41, 83, 61, 24, 35, 61, 69, 72, 77, 52, 63, 46, 59, 61, 42, 80, 58, 52, 27, 44, 73, 45, 82, 59, 80, 85, 71, 80, 38, 38, 67, 64, 57, 62, 77, 65, 50, 85, 59, 49, 88, 54, 63, 82, 52, 70, 51, 82, 57, 47, 59, 62, 61, 47, 67, 78, 59, 73, 67, 64, 100, 65, 53, 79, 100, 71, 77, 84, 26, 77, 83, 63, 68, 59, 90, 71, 55, 52, 49, 60, 65, 64, 83, 81, 54, 54, 59, 66, 74, 94, 95, 40, 82, 86, 54, 77, 76, 74, 66, 66, 67, 91, 36, 29, 62, 68, 47, 79, 66, 51, 81, 82, 64, 92, 62, 40, 32, 55, 53, 74, 63, 63, 92, 61, 53, 50, 74, 81, 48, 53, 81, 77, 63, 73, 69, 65, 55, 44, 54, 48, 74, 92, 56, 69, 65, 54, 29, 76, 85, 40, 61, 58, 58, 65, 82, 60, 37, 35, 61, 44, 66, 75, 67, 80, 76, 74, 72, 74, 65, 59, 64, 50, 69, 68, 85, 65, 73, 62, 43, 55, 65, 50, 63, 77, 66, 69, 65, 69, 50, 73, 70, 67, 29, 94, 49, 73, 66, 77, 49, 79, 75, 59, 57, 79, 57, 63, 59, 42, 80, 98, 60, 76, 96, 76, 62, 74, 65, 73, 68, 87, 53, 53, 37, 81, 59, 50, 77, 84, 52, 53, 48, 62, 74, 58, 68, 52, 62, 49, 66, 35, 72, 46, 77, 76, 52, 32, 72, 19, 52, 48, 60, 42, 57, 70, 52, 87, 82, 73, 64, 41, 54, 72, 45, 60, 77, 85, 78, 71, 48, 56, 65, 69, 61, 74, 77, 60, 75, 66, 39, 23, 40, 59, 61, 87, 97, 65, 53, 81, 71, 70, 43, 59, 64, 71, 64, 51, 62, 93, 69, 86, 85, 50, 59, 32, 63, 65, 73, 34, 93, 67, 79, 67, 69, 52, 47, 46, 68, 44, 57, 35, 54, 65, 48, 57, 78, 58, 54, 49, 57, 75, 74, 62, 92, 45, 56, 48, 100, 65, 62, 68, 75, 89, 53, 49, 54, 64, 91, 8, 78, 74, 40, 44, 67, 65, 55, 62, 88, 59, 68, 77], \"xaxis\": \"x\", \"y\": [72, 69, 90, 71, 88, 38, 65, 50, 69, 18, 54, 65, 69, 67, 62, 69, 63, 56, 74, 50, 75, 58, 53, 50, 55, 66, 57, 71, 33, 82, 0, 69, 59, 60, 39, 58, 41, 61, 62, 47, 73, 76, 71, 58, 73, 65, 79, 63, 58, 65, 85, 58, 87, 52, 70, 77, 51, 99, 75, 78, 51, 55, 79, 88, 87, 51, 75, 59, 76, 59, 42, 22, 68, 59, 70, 66, 61, 75, 81, 96, 58, 68, 67, 79, 63, 43, 81, 46, 71, 52, 97, 46, 50, 65, 77, 66, 62, 69, 45, 78, 67, 65, 57, 74, 58, 42, 83, 34, 56, 55, 52, 45, 72, 88, 67, 64, 80, 56, 58, 65, 71, 60, 62, 64, 70, 65, 64, 44, 99, 63, 69, 88, 71, 47, 65, 85, 59, 65, 73, 70, 37, 67, 65, 67, 74, 53, 49, 73, 68, 59, 77, 56, 67, 75, 71, 43, 41, 82, 41, 83, 61, 24, 35, 61, 69, 72, 77, 52, 63, 46, 59, 61, 42, 80, 58, 52, 27, 44, 73, 45, 82, 59, 80, 85, 71, 80, 38, 38, 67, 64, 57, 62, 77, 65, 50, 85, 59, 49, 88, 54, 63, 82, 52, 70, 51, 82, 57, 47, 59, 62, 61, 47, 67, 78, 59, 73, 67, 64, 100, 65, 53, 79, 100, 71, 77, 84, 26, 77, 83, 63, 68, 59, 90, 71, 55, 52, 49, 60, 65, 64, 83, 81, 54, 54, 59, 66, 74, 94, 95, 40, 82, 86, 54, 77, 76, 74, 66, 66, 67, 91, 36, 29, 62, 68, 47, 79, 66, 51, 81, 82, 64, 92, 62, 40, 32, 55, 53, 74, 63, 63, 92, 61, 53, 50, 74, 81, 48, 53, 81, 77, 63, 73, 69, 65, 55, 44, 54, 48, 74, 92, 56, 69, 65, 54, 29, 76, 85, 40, 61, 58, 58, 65, 82, 60, 37, 35, 61, 44, 66, 75, 67, 80, 76, 74, 72, 74, 65, 59, 64, 50, 69, 68, 85, 65, 73, 62, 43, 55, 65, 50, 63, 77, 66, 69, 65, 69, 50, 73, 70, 67, 29, 94, 49, 73, 66, 77, 49, 79, 75, 59, 57, 79, 57, 63, 59, 42, 80, 98, 60, 76, 96, 76, 62, 74, 65, 73, 68, 87, 53, 53, 37, 81, 59, 50, 77, 84, 52, 53, 48, 62, 74, 58, 68, 52, 62, 49, 66, 35, 72, 46, 77, 76, 52, 32, 72, 19, 52, 48, 60, 42, 57, 70, 52, 87, 82, 73, 64, 41, 54, 72, 45, 60, 77, 85, 78, 71, 48, 56, 65, 69, 61, 74, 77, 60, 75, 66, 39, 23, 40, 59, 61, 87, 97, 65, 53, 81, 71, 70, 43, 59, 64, 71, 64, 51, 62, 93, 69, 86, 85, 50, 59, 32, 63, 65, 73, 34, 93, 67, 79, 67, 69, 52, 47, 46, 68, 44, 57, 35, 54, 65, 48, 57, 78, 58, 54, 49, 57, 75, 74, 62, 92, 45, 56, 48, 100, 65, 62, 68, 75, 89, 53, 49, 54, 64, 91, 8, 78, 74, 40, 44, 67, 65, 55, 62, 88, 59, 68, 77], \"yaxis\": \"y\"}, {\"alignmentgroup\": \"True\", \"bingroup\": \"x\", \"hoverlabel\": {\"namelength\": 0}, \"hovertemplate\": \"gender=male<br>math score=%{x}<br>count of math score=%{y}\", \"legendgroup\": \"gender=male\", \"marker\": {\"color\": \"#EF553B\"}, \"name\": \"gender=male\", \"offsetgroup\": \"gender=male\", \"orientation\": \"v\", \"showlegend\": true, \"type\": \"histogram\", \"x\": [47, 76, 40, 64, 58, 40, 78, 88, 46, 66, 44, 74, 73, 69, 70, 40, 97, 81, 57, 55, 59, 65, 82, 53, 77, 53, 88, 52, 58, 79, 39, 62, 67, 45, 61, 63, 61, 49, 44, 30, 80, 49, 50, 72, 42, 27, 71, 43, 78, 65, 79, 68, 60, 98, 66, 62, 54, 84, 91, 63, 83, 72, 65, 82, 89, 53, 87, 74, 58, 51, 70, 71, 57, 88, 88, 73, 100, 62, 77, 54, 62, 60, 66, 82, 49, 52, 53, 72, 94, 62, 45, 65, 80, 62, 48, 76, 77, 61, 59, 55, 69, 59, 74, 82, 81, 80, 35, 60, 87, 84, 66, 61, 87, 86, 57, 68, 76, 46, 92, 83, 80, 63, 54, 84, 73, 59, 75, 85, 89, 68, 47, 80, 54, 78, 79, 76, 59, 69, 58, 88, 83, 73, 53, 45, 81, 97, 88, 77, 76, 86, 63, 78, 67, 46, 71, 40, 90, 81, 56, 80, 69, 99, 51, 66, 67, 71, 83, 63, 61, 28, 82, 71, 47, 62, 90, 76, 49, 58, 67, 79, 62, 75, 87, 66, 63, 59, 85, 59, 49, 69, 61, 84, 74, 46, 66, 87, 79, 73, 73, 76, 57, 48, 74, 60, 53, 65, 87, 84, 71, 63, 84, 71, 74, 68, 57, 41, 86, 69, 65, 68, 64, 61, 73, 50, 75, 75, 70, 89, 79, 69, 86, 47, 81, 65, 37, 53, 72, 53, 54, 75, 72, 91, 76, 80, 76, 73, 68, 59, 70, 61, 64, 79, 68, 76, 63, 68, 55, 79, 76, 64, 62, 71, 69, 54, 53, 68, 56, 62, 73, 51, 85, 97, 75, 79, 78, 72, 79, 79, 87, 77, 53, 61, 73, 96, 48, 48, 63, 68, 71, 91, 40, 61, 58, 71, 68, 30, 53, 60, 84, 75, 69, 94, 88, 95, 65, 62, 58, 100, 100, 69, 61, 49, 67, 79, 84, 71, 86, 41, 70, 51, 77, 69, 90, 74, 73, 80, 73, 81, 52, 81, 63, 60, 62, 62, 85, 77, 53, 93, 66, 87, 62, 46, 66, 89, 93, 81, 73, 91, 55, 50, 47, 81, 68, 53, 55, 55, 67, 92, 81, 61, 80, 55, 72, 69, 69, 87, 71, 68, 79, 58, 55, 70, 69, 78, 60, 76, 58, 52, 75, 66, 94, 91, 68, 66, 89, 70, 69, 67, 76, 75, 90, 59, 51, 45, 87, 94, 61, 49, 62, 68, 64, 58, 73, 58, 64, 74, 90, 91, 64, 80, 71, 82, 62, 75, 52, 87, 39, 97, 82, 59, 61, 78, 49, 59, 82, 90, 80, 81, 57, 63, 55, 54, 44, 88, 36, 67, 85, 88, 57, 70, 50, 100, 91, 69, 72, 74, 74, 64, 46, 67, 62, 61, 70, 98, 70, 67, 85, 77, 72, 81, 61, 82, 49, 94, 58, 72, 84, 75, 72, 66, 63, 78, 60, 62, 55, 81, 79, 57, 81, 86, 63, 62], \"xaxis\": \"x\", \"y\": [47, 76, 40, 64, 58, 40, 78, 88, 46, 66, 44, 74, 73, 69, 70, 40, 97, 81, 57, 55, 59, 65, 82, 53, 77, 53, 88, 52, 58, 79, 39, 62, 67, 45, 61, 63, 61, 49, 44, 30, 80, 49, 50, 72, 42, 27, 71, 43, 78, 65, 79, 68, 60, 98, 66, 62, 54, 84, 91, 63, 83, 72, 65, 82, 89, 53, 87, 74, 58, 51, 70, 71, 57, 88, 88, 73, 100, 62, 77, 54, 62, 60, 66, 82, 49, 52, 53, 72, 94, 62, 45, 65, 80, 62, 48, 76, 77, 61, 59, 55, 69, 59, 74, 82, 81, 80, 35, 60, 87, 84, 66, 61, 87, 86, 57, 68, 76, 46, 92, 83, 80, 63, 54, 84, 73, 59, 75, 85, 89, 68, 47, 80, 54, 78, 79, 76, 59, 69, 58, 88, 83, 73, 53, 45, 81, 97, 88, 77, 76, 86, 63, 78, 67, 46, 71, 40, 90, 81, 56, 80, 69, 99, 51, 66, 67, 71, 83, 63, 61, 28, 82, 71, 47, 62, 90, 76, 49, 58, 67, 79, 62, 75, 87, 66, 63, 59, 85, 59, 49, 69, 61, 84, 74, 46, 66, 87, 79, 73, 73, 76, 57, 48, 74, 60, 53, 65, 87, 84, 71, 63, 84, 71, 74, 68, 57, 41, 86, 69, 65, 68, 64, 61, 73, 50, 75, 75, 70, 89, 79, 69, 86, 47, 81, 65, 37, 53, 72, 53, 54, 75, 72, 91, 76, 80, 76, 73, 68, 59, 70, 61, 64, 79, 68, 76, 63, 68, 55, 79, 76, 64, 62, 71, 69, 54, 53, 68, 56, 62, 73, 51, 85, 97, 75, 79, 78, 72, 79, 79, 87, 77, 53, 61, 73, 96, 48, 48, 63, 68, 71, 91, 40, 61, 58, 71, 68, 30, 53, 60, 84, 75, 69, 94, 88, 95, 65, 62, 58, 100, 100, 69, 61, 49, 67, 79, 84, 71, 86, 41, 70, 51, 77, 69, 90, 74, 73, 80, 73, 81, 52, 81, 63, 60, 62, 62, 85, 77, 53, 93, 66, 87, 62, 46, 66, 89, 93, 81, 73, 91, 55, 50, 47, 81, 68, 53, 55, 55, 67, 92, 81, 61, 80, 55, 72, 69, 69, 87, 71, 68, 79, 58, 55, 70, 69, 78, 60, 76, 58, 52, 75, 66, 94, 91, 68, 66, 89, 70, 69, 67, 76, 75, 90, 59, 51, 45, 87, 94, 61, 49, 62, 68, 64, 58, 73, 58, 64, 74, 90, 91, 64, 80, 71, 82, 62, 75, 52, 87, 39, 97, 82, 59, 61, 78, 49, 59, 82, 90, 80, 81, 57, 63, 55, 54, 44, 88, 36, 67, 85, 88, 57, 70, 50, 100, 91, 69, 72, 74, 74, 64, 46, 67, 62, 61, 70, 98, 70, 67, 85, 77, 72, 81, 61, 82, 49, 94, 58, 72, 84, 75, 72, 66, 63, 78, 60, 62, 55, 81, 79, 57, 81, 86, 63, 62], \"yaxis\": \"y\"}],\n",
              "                        {\"barmode\": \"relative\", \"legend\": {\"tracegroupgap\": 0}, \"margin\": {\"t\": 60}, \"template\": {\"data\": {\"bar\": [{\"error_x\": {\"color\": \"#2a3f5f\"}, \"error_y\": {\"color\": \"#2a3f5f\"}, \"marker\": {\"line\": {\"color\": \"#E5ECF6\", \"width\": 0.5}}, \"type\": \"bar\"}], \"barpolar\": [{\"marker\": {\"line\": {\"color\": \"#E5ECF6\", \"width\": 0.5}}, \"type\": \"barpolar\"}], \"carpet\": [{\"aaxis\": {\"endlinecolor\": \"#2a3f5f\", \"gridcolor\": \"white\", \"linecolor\": \"white\", \"minorgridcolor\": \"white\", \"startlinecolor\": \"#2a3f5f\"}, \"baxis\": {\"endlinecolor\": \"#2a3f5f\", \"gridcolor\": \"white\", \"linecolor\": \"white\", \"minorgridcolor\": \"white\", \"startlinecolor\": \"#2a3f5f\"}, \"type\": \"carpet\"}], \"choropleth\": [{\"colorbar\": {\"outlinewidth\": 0, \"ticks\": \"\"}, \"type\": \"choropleth\"}], \"contour\": [{\"colorbar\": {\"outlinewidth\": 0, \"ticks\": \"\"}, \"colorscale\": [[0.0, \"#0d0887\"], [0.1111111111111111, \"#46039f\"], [0.2222222222222222, \"#7201a8\"], [0.3333333333333333, \"#9c179e\"], [0.4444444444444444, \"#bd3786\"], [0.5555555555555556, \"#d8576b\"], [0.6666666666666666, \"#ed7953\"], [0.7777777777777778, \"#fb9f3a\"], [0.8888888888888888, \"#fdca26\"], [1.0, \"#f0f921\"]], \"type\": \"contour\"}], \"contourcarpet\": [{\"colorbar\": {\"outlinewidth\": 0, \"ticks\": \"\"}, \"type\": \"contourcarpet\"}], \"heatmap\": [{\"colorbar\": {\"outlinewidth\": 0, \"ticks\": \"\"}, \"colorscale\": [[0.0, \"#0d0887\"], [0.1111111111111111, \"#46039f\"], [0.2222222222222222, \"#7201a8\"], [0.3333333333333333, \"#9c179e\"], [0.4444444444444444, \"#bd3786\"], [0.5555555555555556, \"#d8576b\"], [0.6666666666666666, \"#ed7953\"], [0.7777777777777778, \"#fb9f3a\"], [0.8888888888888888, \"#fdca26\"], [1.0, \"#f0f921\"]], \"type\": \"heatmap\"}], \"heatmapgl\": [{\"colorbar\": {\"outlinewidth\": 0, \"ticks\": \"\"}, \"colorscale\": [[0.0, \"#0d0887\"], [0.1111111111111111, \"#46039f\"], [0.2222222222222222, \"#7201a8\"], [0.3333333333333333, \"#9c179e\"], [0.4444444444444444, \"#bd3786\"], [0.5555555555555556, \"#d8576b\"], [0.6666666666666666, \"#ed7953\"], [0.7777777777777778, \"#fb9f3a\"], [0.8888888888888888, \"#fdca26\"], [1.0, \"#f0f921\"]], \"type\": \"heatmapgl\"}], \"histogram\": [{\"marker\": {\"colorbar\": {\"outlinewidth\": 0, \"ticks\": \"\"}}, \"type\": \"histogram\"}], \"histogram2d\": [{\"colorbar\": {\"outlinewidth\": 0, \"ticks\": \"\"}, \"colorscale\": [[0.0, \"#0d0887\"], [0.1111111111111111, \"#46039f\"], [0.2222222222222222, \"#7201a8\"], [0.3333333333333333, \"#9c179e\"], [0.4444444444444444, \"#bd3786\"], [0.5555555555555556, \"#d8576b\"], [0.6666666666666666, \"#ed7953\"], [0.7777777777777778, \"#fb9f3a\"], [0.8888888888888888, \"#fdca26\"], [1.0, \"#f0f921\"]], \"type\": \"histogram2d\"}], \"histogram2dcontour\": [{\"colorbar\": {\"outlinewidth\": 0, \"ticks\": \"\"}, \"colorscale\": [[0.0, \"#0d0887\"], [0.1111111111111111, \"#46039f\"], [0.2222222222222222, \"#7201a8\"], [0.3333333333333333, \"#9c179e\"], [0.4444444444444444, \"#bd3786\"], [0.5555555555555556, \"#d8576b\"], [0.6666666666666666, \"#ed7953\"], [0.7777777777777778, \"#fb9f3a\"], [0.8888888888888888, \"#fdca26\"], [1.0, \"#f0f921\"]], \"type\": \"histogram2dcontour\"}], \"mesh3d\": [{\"colorbar\": {\"outlinewidth\": 0, \"ticks\": \"\"}, \"type\": \"mesh3d\"}], \"parcoords\": [{\"line\": {\"colorbar\": {\"outlinewidth\": 0, \"ticks\": \"\"}}, \"type\": \"parcoords\"}], \"pie\": [{\"automargin\": true, \"type\": \"pie\"}], \"scatter\": [{\"marker\": {\"colorbar\": {\"outlinewidth\": 0, \"ticks\": \"\"}}, \"type\": \"scatter\"}], \"scatter3d\": [{\"line\": {\"colorbar\": {\"outlinewidth\": 0, \"ticks\": \"\"}}, \"marker\": {\"colorbar\": {\"outlinewidth\": 0, \"ticks\": \"\"}}, \"type\": \"scatter3d\"}], \"scattercarpet\": [{\"marker\": {\"colorbar\": {\"outlinewidth\": 0, \"ticks\": \"\"}}, \"type\": \"scattercarpet\"}], \"scattergeo\": [{\"marker\": {\"colorbar\": {\"outlinewidth\": 0, \"ticks\": \"\"}}, \"type\": \"scattergeo\"}], \"scattergl\": [{\"marker\": {\"colorbar\": {\"outlinewidth\": 0, \"ticks\": \"\"}}, \"type\": \"scattergl\"}], \"scattermapbox\": [{\"marker\": {\"colorbar\": {\"outlinewidth\": 0, \"ticks\": \"\"}}, \"type\": \"scattermapbox\"}], \"scatterpolar\": [{\"marker\": {\"colorbar\": {\"outlinewidth\": 0, \"ticks\": \"\"}}, \"type\": \"scatterpolar\"}], \"scatterpolargl\": [{\"marker\": {\"colorbar\": {\"outlinewidth\": 0, \"ticks\": \"\"}}, \"type\": \"scatterpolargl\"}], \"scatterternary\": [{\"marker\": {\"colorbar\": {\"outlinewidth\": 0, \"ticks\": \"\"}}, \"type\": \"scatterternary\"}], \"surface\": [{\"colorbar\": {\"outlinewidth\": 0, \"ticks\": \"\"}, \"colorscale\": [[0.0, \"#0d0887\"], [0.1111111111111111, \"#46039f\"], [0.2222222222222222, \"#7201a8\"], [0.3333333333333333, \"#9c179e\"], [0.4444444444444444, \"#bd3786\"], [0.5555555555555556, \"#d8576b\"], [0.6666666666666666, \"#ed7953\"], [0.7777777777777778, \"#fb9f3a\"], [0.8888888888888888, \"#fdca26\"], [1.0, \"#f0f921\"]], \"type\": \"surface\"}], \"table\": [{\"cells\": {\"fill\": {\"color\": \"#EBF0F8\"}, \"line\": {\"color\": \"white\"}}, \"header\": {\"fill\": {\"color\": \"#C8D4E3\"}, \"line\": {\"color\": \"white\"}}, \"type\": \"table\"}]}, \"layout\": {\"annotationdefaults\": {\"arrowcolor\": \"#2a3f5f\", \"arrowhead\": 0, \"arrowwidth\": 1}, \"coloraxis\": {\"colorbar\": {\"outlinewidth\": 0, \"ticks\": \"\"}}, \"colorscale\": {\"diverging\": [[0, \"#8e0152\"], [0.1, \"#c51b7d\"], [0.2, \"#de77ae\"], [0.3, \"#f1b6da\"], [0.4, \"#fde0ef\"], [0.5, \"#f7f7f7\"], [0.6, \"#e6f5d0\"], [0.7, \"#b8e186\"], [0.8, \"#7fbc41\"], [0.9, \"#4d9221\"], [1, \"#276419\"]], \"sequential\": [[0.0, \"#0d0887\"], [0.1111111111111111, \"#46039f\"], [0.2222222222222222, \"#7201a8\"], [0.3333333333333333, \"#9c179e\"], [0.4444444444444444, \"#bd3786\"], [0.5555555555555556, \"#d8576b\"], [0.6666666666666666, \"#ed7953\"], [0.7777777777777778, \"#fb9f3a\"], [0.8888888888888888, \"#fdca26\"], [1.0, \"#f0f921\"]], \"sequentialminus\": [[0.0, \"#0d0887\"], [0.1111111111111111, \"#46039f\"], [0.2222222222222222, \"#7201a8\"], [0.3333333333333333, \"#9c179e\"], [0.4444444444444444, \"#bd3786\"], [0.5555555555555556, \"#d8576b\"], [0.6666666666666666, \"#ed7953\"], [0.7777777777777778, \"#fb9f3a\"], [0.8888888888888888, \"#fdca26\"], [1.0, \"#f0f921\"]]}, \"colorway\": [\"#636efa\", \"#EF553B\", \"#00cc96\", \"#ab63fa\", \"#FFA15A\", \"#19d3f3\", \"#FF6692\", \"#B6E880\", \"#FF97FF\", \"#FECB52\"], \"font\": {\"color\": \"#2a3f5f\"}, \"geo\": {\"bgcolor\": \"white\", \"lakecolor\": \"white\", \"landcolor\": \"#E5ECF6\", \"showlakes\": true, \"showland\": true, \"subunitcolor\": \"white\"}, \"hoverlabel\": {\"align\": \"left\"}, \"hovermode\": \"closest\", \"mapbox\": {\"style\": \"light\"}, \"paper_bgcolor\": \"white\", \"plot_bgcolor\": \"#E5ECF6\", \"polar\": {\"angularaxis\": {\"gridcolor\": \"white\", \"linecolor\": \"white\", \"ticks\": \"\"}, \"bgcolor\": \"#E5ECF6\", \"radialaxis\": {\"gridcolor\": \"white\", \"linecolor\": \"white\", \"ticks\": \"\"}}, \"scene\": {\"xaxis\": {\"backgroundcolor\": \"#E5ECF6\", \"gridcolor\": \"white\", \"gridwidth\": 2, \"linecolor\": \"white\", \"showbackground\": true, \"ticks\": \"\", \"zerolinecolor\": \"white\"}, \"yaxis\": {\"backgroundcolor\": \"#E5ECF6\", \"gridcolor\": \"white\", \"gridwidth\": 2, \"linecolor\": \"white\", \"showbackground\": true, \"ticks\": \"\", \"zerolinecolor\": \"white\"}, \"zaxis\": {\"backgroundcolor\": \"#E5ECF6\", \"gridcolor\": \"white\", \"gridwidth\": 2, \"linecolor\": \"white\", \"showbackground\": true, \"ticks\": \"\", \"zerolinecolor\": \"white\"}}, \"shapedefaults\": {\"line\": {\"color\": \"#2a3f5f\"}}, \"ternary\": {\"aaxis\": {\"gridcolor\": \"white\", \"linecolor\": \"white\", \"ticks\": \"\"}, \"baxis\": {\"gridcolor\": \"white\", \"linecolor\": \"white\", \"ticks\": \"\"}, \"bgcolor\": \"#E5ECF6\", \"caxis\": {\"gridcolor\": \"white\", \"linecolor\": \"white\", \"ticks\": \"\"}}, \"title\": {\"x\": 0.05}, \"xaxis\": {\"automargin\": true, \"gridcolor\": \"white\", \"linecolor\": \"white\", \"ticks\": \"\", \"title\": {\"standoff\": 15}, \"zerolinecolor\": \"white\", \"zerolinewidth\": 2}, \"yaxis\": {\"automargin\": true, \"gridcolor\": \"white\", \"linecolor\": \"white\", \"ticks\": \"\", \"title\": {\"standoff\": 15}, \"zerolinecolor\": \"white\", \"zerolinewidth\": 2}}}, \"xaxis\": {\"anchor\": \"y\", \"domain\": [0.0, 1.0], \"title\": {\"text\": \"math score\"}}, \"yaxis\": {\"anchor\": \"x\", \"domain\": [0.0, 1.0], \"title\": {\"text\": \"count of math score\"}}},\n",
              "                        {\"responsive\": true}\n",
              "                    ).then(function(){\n",
              "                            \n",
              "var gd = document.getElementById('6e06f72d-ac56-4b8e-894a-fd2e99d847ff');\n",
              "var x = new MutationObserver(function (mutations, observer) {{\n",
              "        var display = window.getComputedStyle(gd).display;\n",
              "        if (!display || display === 'none') {{\n",
              "            console.log([gd, 'removed!']);\n",
              "            Plotly.purge(gd);\n",
              "            observer.disconnect();\n",
              "        }}\n",
              "}});\n",
              "\n",
              "// Listen for the removal of the full notebook cells\n",
              "var notebookContainer = gd.closest('#notebook-container');\n",
              "if (notebookContainer) {{\n",
              "    x.observe(notebookContainer, {childList: true});\n",
              "}}\n",
              "\n",
              "// Listen for the clearing of the current output cell\n",
              "var outputEl = gd.closest('.output');\n",
              "if (outputEl) {{\n",
              "    x.observe(outputEl, {childList: true});\n",
              "}}\n",
              "\n",
              "                        })\n",
              "                };\n",
              "                \n",
              "            </script>\n",
              "        </div>\n",
              "</body>\n",
              "</html>"
            ]
          },
          "metadata": {
            "tags": []
          }
        },
        {
          "output_type": "display_data",
          "data": {
            "text/html": [
              "<html>\n",
              "<head><meta charset=\"utf-8\" /></head>\n",
              "<body>\n",
              "    <div>\n",
              "            <script src=\"https://cdnjs.cloudflare.com/ajax/libs/mathjax/2.7.5/MathJax.js?config=TeX-AMS-MML_SVG\"></script><script type=\"text/javascript\">if (window.MathJax) {MathJax.Hub.Config({SVG: {font: \"STIX-Web\"}});}</script>\n",
              "                <script type=\"text/javascript\">window.PlotlyConfig = {MathJaxConfig: 'local'};</script>\n",
              "        <script src=\"https://cdn.plot.ly/plotly-latest.min.js\"></script>    \n",
              "            <div id=\"57d6011c-b331-4071-8998-c7ac86a1e38a\" class=\"plotly-graph-div\" style=\"height:525px; width:100%;\"></div>\n",
              "            <script type=\"text/javascript\">\n",
              "                \n",
              "                    window.PLOTLYENV=window.PLOTLYENV || {};\n",
              "                    \n",
              "                if (document.getElementById(\"57d6011c-b331-4071-8998-c7ac86a1e38a\")) {\n",
              "                    Plotly.newPlot(\n",
              "                        '57d6011c-b331-4071-8998-c7ac86a1e38a',\n",
              "                        [{\"alignmentgroup\": \"True\", \"bingroup\": \"x\", \"hoverlabel\": {\"namelength\": 0}, \"hovertemplate\": \"gender=female<br>math score=%{x}<br>count of math score=%{y}\", \"legendgroup\": \"gender=female\", \"marker\": {\"color\": \"#636efa\"}, \"name\": \"gender=female\", \"offsetgroup\": \"gender=female\", \"orientation\": \"v\", \"showlegend\": true, \"type\": \"histogram\", \"x\": [72, 69, 90, 71, 88, 38, 65, 50, 69, 18, 54, 65, 69, 67, 62, 69, 63, 56, 74, 50, 75, 58, 53, 50, 55, 66, 57, 71, 33, 82, 0, 69, 59, 60, 39, 58, 41, 61, 62, 47, 73, 76, 71, 58, 73, 65, 79, 63, 58, 65, 85, 58, 87, 52, 70, 77, 51, 99, 75, 78, 51, 55, 79, 88, 87, 51, 75, 59, 76, 59, 42, 22, 68, 59, 70, 66, 61, 75, 81, 96, 58, 68, 67, 79, 63, 43, 81, 46, 71, 52, 97, 46, 50, 65, 77, 66, 62, 69, 45, 78, 67, 65, 57, 74, 58, 42, 83, 34, 56, 55, 52, 45, 72, 88, 67, 64, 80, 56, 58, 65, 71, 60, 62, 64, 70, 65, 64, 44, 99, 63, 69, 88, 71, 47, 65, 85, 59, 65, 73, 70, 37, 67, 65, 67, 74, 53, 49, 73, 68, 59, 77, 56, 67, 75, 71, 43, 41, 82, 41, 83, 61, 24, 35, 61, 69, 72, 77, 52, 63, 46, 59, 61, 42, 80, 58, 52, 27, 44, 73, 45, 82, 59, 80, 85, 71, 80, 38, 38, 67, 64, 57, 62, 77, 65, 50, 85, 59, 49, 88, 54, 63, 82, 52, 70, 51, 82, 57, 47, 59, 62, 61, 47, 67, 78, 59, 73, 67, 64, 100, 65, 53, 79, 100, 71, 77, 84, 26, 77, 83, 63, 68, 59, 90, 71, 55, 52, 49, 60, 65, 64, 83, 81, 54, 54, 59, 66, 74, 94, 95, 40, 82, 86, 54, 77, 76, 74, 66, 66, 67, 91, 36, 29, 62, 68, 47, 79, 66, 51, 81, 82, 64, 92, 62, 40, 32, 55, 53, 74, 63, 63, 92, 61, 53, 50, 74, 81, 48, 53, 81, 77, 63, 73, 69, 65, 55, 44, 54, 48, 74, 92, 56, 69, 65, 54, 29, 76, 85, 40, 61, 58, 58, 65, 82, 60, 37, 35, 61, 44, 66, 75, 67, 80, 76, 74, 72, 74, 65, 59, 64, 50, 69, 68, 85, 65, 73, 62, 43, 55, 65, 50, 63, 77, 66, 69, 65, 69, 50, 73, 70, 67, 29, 94, 49, 73, 66, 77, 49, 79, 75, 59, 57, 79, 57, 63, 59, 42, 80, 98, 60, 76, 96, 76, 62, 74, 65, 73, 68, 87, 53, 53, 37, 81, 59, 50, 77, 84, 52, 53, 48, 62, 74, 58, 68, 52, 62, 49, 66, 35, 72, 46, 77, 76, 52, 32, 72, 19, 52, 48, 60, 42, 57, 70, 52, 87, 82, 73, 64, 41, 54, 72, 45, 60, 77, 85, 78, 71, 48, 56, 65, 69, 61, 74, 77, 60, 75, 66, 39, 23, 40, 59, 61, 87, 97, 65, 53, 81, 71, 70, 43, 59, 64, 71, 64, 51, 62, 93, 69, 86, 85, 50, 59, 32, 63, 65, 73, 34, 93, 67, 79, 67, 69, 52, 47, 46, 68, 44, 57, 35, 54, 65, 48, 57, 78, 58, 54, 49, 57, 75, 74, 62, 92, 45, 56, 48, 100, 65, 62, 68, 75, 89, 53, 49, 54, 64, 91, 8, 78, 74, 40, 44, 67, 65, 55, 62, 88, 59, 68, 77], \"xaxis\": \"x\", \"y\": [72, 69, 90, 71, 88, 38, 65, 50, 69, 18, 54, 65, 69, 67, 62, 69, 63, 56, 74, 50, 75, 58, 53, 50, 55, 66, 57, 71, 33, 82, 0, 69, 59, 60, 39, 58, 41, 61, 62, 47, 73, 76, 71, 58, 73, 65, 79, 63, 58, 65, 85, 58, 87, 52, 70, 77, 51, 99, 75, 78, 51, 55, 79, 88, 87, 51, 75, 59, 76, 59, 42, 22, 68, 59, 70, 66, 61, 75, 81, 96, 58, 68, 67, 79, 63, 43, 81, 46, 71, 52, 97, 46, 50, 65, 77, 66, 62, 69, 45, 78, 67, 65, 57, 74, 58, 42, 83, 34, 56, 55, 52, 45, 72, 88, 67, 64, 80, 56, 58, 65, 71, 60, 62, 64, 70, 65, 64, 44, 99, 63, 69, 88, 71, 47, 65, 85, 59, 65, 73, 70, 37, 67, 65, 67, 74, 53, 49, 73, 68, 59, 77, 56, 67, 75, 71, 43, 41, 82, 41, 83, 61, 24, 35, 61, 69, 72, 77, 52, 63, 46, 59, 61, 42, 80, 58, 52, 27, 44, 73, 45, 82, 59, 80, 85, 71, 80, 38, 38, 67, 64, 57, 62, 77, 65, 50, 85, 59, 49, 88, 54, 63, 82, 52, 70, 51, 82, 57, 47, 59, 62, 61, 47, 67, 78, 59, 73, 67, 64, 100, 65, 53, 79, 100, 71, 77, 84, 26, 77, 83, 63, 68, 59, 90, 71, 55, 52, 49, 60, 65, 64, 83, 81, 54, 54, 59, 66, 74, 94, 95, 40, 82, 86, 54, 77, 76, 74, 66, 66, 67, 91, 36, 29, 62, 68, 47, 79, 66, 51, 81, 82, 64, 92, 62, 40, 32, 55, 53, 74, 63, 63, 92, 61, 53, 50, 74, 81, 48, 53, 81, 77, 63, 73, 69, 65, 55, 44, 54, 48, 74, 92, 56, 69, 65, 54, 29, 76, 85, 40, 61, 58, 58, 65, 82, 60, 37, 35, 61, 44, 66, 75, 67, 80, 76, 74, 72, 74, 65, 59, 64, 50, 69, 68, 85, 65, 73, 62, 43, 55, 65, 50, 63, 77, 66, 69, 65, 69, 50, 73, 70, 67, 29, 94, 49, 73, 66, 77, 49, 79, 75, 59, 57, 79, 57, 63, 59, 42, 80, 98, 60, 76, 96, 76, 62, 74, 65, 73, 68, 87, 53, 53, 37, 81, 59, 50, 77, 84, 52, 53, 48, 62, 74, 58, 68, 52, 62, 49, 66, 35, 72, 46, 77, 76, 52, 32, 72, 19, 52, 48, 60, 42, 57, 70, 52, 87, 82, 73, 64, 41, 54, 72, 45, 60, 77, 85, 78, 71, 48, 56, 65, 69, 61, 74, 77, 60, 75, 66, 39, 23, 40, 59, 61, 87, 97, 65, 53, 81, 71, 70, 43, 59, 64, 71, 64, 51, 62, 93, 69, 86, 85, 50, 59, 32, 63, 65, 73, 34, 93, 67, 79, 67, 69, 52, 47, 46, 68, 44, 57, 35, 54, 65, 48, 57, 78, 58, 54, 49, 57, 75, 74, 62, 92, 45, 56, 48, 100, 65, 62, 68, 75, 89, 53, 49, 54, 64, 91, 8, 78, 74, 40, 44, 67, 65, 55, 62, 88, 59, 68, 77], \"yaxis\": \"y\"}, {\"alignmentgroup\": \"True\", \"bingroup\": \"x\", \"hoverlabel\": {\"namelength\": 0}, \"hovertemplate\": \"gender=male<br>math score=%{x}<br>count of math score=%{y}\", \"legendgroup\": \"gender=male\", \"marker\": {\"color\": \"#EF553B\"}, \"name\": \"gender=male\", \"offsetgroup\": \"gender=male\", \"orientation\": \"v\", \"showlegend\": true, \"type\": \"histogram\", \"x\": [47, 76, 40, 64, 58, 40, 78, 88, 46, 66, 44, 74, 73, 69, 70, 40, 97, 81, 57, 55, 59, 65, 82, 53, 77, 53, 88, 52, 58, 79, 39, 62, 67, 45, 61, 63, 61, 49, 44, 30, 80, 49, 50, 72, 42, 27, 71, 43, 78, 65, 79, 68, 60, 98, 66, 62, 54, 84, 91, 63, 83, 72, 65, 82, 89, 53, 87, 74, 58, 51, 70, 71, 57, 88, 88, 73, 100, 62, 77, 54, 62, 60, 66, 82, 49, 52, 53, 72, 94, 62, 45, 65, 80, 62, 48, 76, 77, 61, 59, 55, 69, 59, 74, 82, 81, 80, 35, 60, 87, 84, 66, 61, 87, 86, 57, 68, 76, 46, 92, 83, 80, 63, 54, 84, 73, 59, 75, 85, 89, 68, 47, 80, 54, 78, 79, 76, 59, 69, 58, 88, 83, 73, 53, 45, 81, 97, 88, 77, 76, 86, 63, 78, 67, 46, 71, 40, 90, 81, 56, 80, 69, 99, 51, 66, 67, 71, 83, 63, 61, 28, 82, 71, 47, 62, 90, 76, 49, 58, 67, 79, 62, 75, 87, 66, 63, 59, 85, 59, 49, 69, 61, 84, 74, 46, 66, 87, 79, 73, 73, 76, 57, 48, 74, 60, 53, 65, 87, 84, 71, 63, 84, 71, 74, 68, 57, 41, 86, 69, 65, 68, 64, 61, 73, 50, 75, 75, 70, 89, 79, 69, 86, 47, 81, 65, 37, 53, 72, 53, 54, 75, 72, 91, 76, 80, 76, 73, 68, 59, 70, 61, 64, 79, 68, 76, 63, 68, 55, 79, 76, 64, 62, 71, 69, 54, 53, 68, 56, 62, 73, 51, 85, 97, 75, 79, 78, 72, 79, 79, 87, 77, 53, 61, 73, 96, 48, 48, 63, 68, 71, 91, 40, 61, 58, 71, 68, 30, 53, 60, 84, 75, 69, 94, 88, 95, 65, 62, 58, 100, 100, 69, 61, 49, 67, 79, 84, 71, 86, 41, 70, 51, 77, 69, 90, 74, 73, 80, 73, 81, 52, 81, 63, 60, 62, 62, 85, 77, 53, 93, 66, 87, 62, 46, 66, 89, 93, 81, 73, 91, 55, 50, 47, 81, 68, 53, 55, 55, 67, 92, 81, 61, 80, 55, 72, 69, 69, 87, 71, 68, 79, 58, 55, 70, 69, 78, 60, 76, 58, 52, 75, 66, 94, 91, 68, 66, 89, 70, 69, 67, 76, 75, 90, 59, 51, 45, 87, 94, 61, 49, 62, 68, 64, 58, 73, 58, 64, 74, 90, 91, 64, 80, 71, 82, 62, 75, 52, 87, 39, 97, 82, 59, 61, 78, 49, 59, 82, 90, 80, 81, 57, 63, 55, 54, 44, 88, 36, 67, 85, 88, 57, 70, 50, 100, 91, 69, 72, 74, 74, 64, 46, 67, 62, 61, 70, 98, 70, 67, 85, 77, 72, 81, 61, 82, 49, 94, 58, 72, 84, 75, 72, 66, 63, 78, 60, 62, 55, 81, 79, 57, 81, 86, 63, 62], \"xaxis\": \"x\", \"y\": [47, 76, 40, 64, 58, 40, 78, 88, 46, 66, 44, 74, 73, 69, 70, 40, 97, 81, 57, 55, 59, 65, 82, 53, 77, 53, 88, 52, 58, 79, 39, 62, 67, 45, 61, 63, 61, 49, 44, 30, 80, 49, 50, 72, 42, 27, 71, 43, 78, 65, 79, 68, 60, 98, 66, 62, 54, 84, 91, 63, 83, 72, 65, 82, 89, 53, 87, 74, 58, 51, 70, 71, 57, 88, 88, 73, 100, 62, 77, 54, 62, 60, 66, 82, 49, 52, 53, 72, 94, 62, 45, 65, 80, 62, 48, 76, 77, 61, 59, 55, 69, 59, 74, 82, 81, 80, 35, 60, 87, 84, 66, 61, 87, 86, 57, 68, 76, 46, 92, 83, 80, 63, 54, 84, 73, 59, 75, 85, 89, 68, 47, 80, 54, 78, 79, 76, 59, 69, 58, 88, 83, 73, 53, 45, 81, 97, 88, 77, 76, 86, 63, 78, 67, 46, 71, 40, 90, 81, 56, 80, 69, 99, 51, 66, 67, 71, 83, 63, 61, 28, 82, 71, 47, 62, 90, 76, 49, 58, 67, 79, 62, 75, 87, 66, 63, 59, 85, 59, 49, 69, 61, 84, 74, 46, 66, 87, 79, 73, 73, 76, 57, 48, 74, 60, 53, 65, 87, 84, 71, 63, 84, 71, 74, 68, 57, 41, 86, 69, 65, 68, 64, 61, 73, 50, 75, 75, 70, 89, 79, 69, 86, 47, 81, 65, 37, 53, 72, 53, 54, 75, 72, 91, 76, 80, 76, 73, 68, 59, 70, 61, 64, 79, 68, 76, 63, 68, 55, 79, 76, 64, 62, 71, 69, 54, 53, 68, 56, 62, 73, 51, 85, 97, 75, 79, 78, 72, 79, 79, 87, 77, 53, 61, 73, 96, 48, 48, 63, 68, 71, 91, 40, 61, 58, 71, 68, 30, 53, 60, 84, 75, 69, 94, 88, 95, 65, 62, 58, 100, 100, 69, 61, 49, 67, 79, 84, 71, 86, 41, 70, 51, 77, 69, 90, 74, 73, 80, 73, 81, 52, 81, 63, 60, 62, 62, 85, 77, 53, 93, 66, 87, 62, 46, 66, 89, 93, 81, 73, 91, 55, 50, 47, 81, 68, 53, 55, 55, 67, 92, 81, 61, 80, 55, 72, 69, 69, 87, 71, 68, 79, 58, 55, 70, 69, 78, 60, 76, 58, 52, 75, 66, 94, 91, 68, 66, 89, 70, 69, 67, 76, 75, 90, 59, 51, 45, 87, 94, 61, 49, 62, 68, 64, 58, 73, 58, 64, 74, 90, 91, 64, 80, 71, 82, 62, 75, 52, 87, 39, 97, 82, 59, 61, 78, 49, 59, 82, 90, 80, 81, 57, 63, 55, 54, 44, 88, 36, 67, 85, 88, 57, 70, 50, 100, 91, 69, 72, 74, 74, 64, 46, 67, 62, 61, 70, 98, 70, 67, 85, 77, 72, 81, 61, 82, 49, 94, 58, 72, 84, 75, 72, 66, 63, 78, 60, 62, 55, 81, 79, 57, 81, 86, 63, 62], \"yaxis\": \"y\"}],\n",
              "                        {\"barmode\": \"group\", \"legend\": {\"tracegroupgap\": 0}, \"margin\": {\"t\": 60}, \"template\": {\"data\": {\"bar\": [{\"error_x\": {\"color\": \"#2a3f5f\"}, \"error_y\": {\"color\": \"#2a3f5f\"}, \"marker\": {\"line\": {\"color\": \"#E5ECF6\", \"width\": 0.5}}, \"type\": \"bar\"}], \"barpolar\": [{\"marker\": {\"line\": {\"color\": \"#E5ECF6\", \"width\": 0.5}}, \"type\": \"barpolar\"}], \"carpet\": [{\"aaxis\": {\"endlinecolor\": \"#2a3f5f\", \"gridcolor\": \"white\", \"linecolor\": \"white\", \"minorgridcolor\": \"white\", \"startlinecolor\": \"#2a3f5f\"}, \"baxis\": {\"endlinecolor\": \"#2a3f5f\", \"gridcolor\": \"white\", \"linecolor\": \"white\", \"minorgridcolor\": \"white\", \"startlinecolor\": \"#2a3f5f\"}, \"type\": \"carpet\"}], \"choropleth\": [{\"colorbar\": {\"outlinewidth\": 0, \"ticks\": \"\"}, \"type\": \"choropleth\"}], \"contour\": [{\"colorbar\": {\"outlinewidth\": 0, \"ticks\": \"\"}, \"colorscale\": [[0.0, \"#0d0887\"], [0.1111111111111111, \"#46039f\"], [0.2222222222222222, \"#7201a8\"], [0.3333333333333333, \"#9c179e\"], [0.4444444444444444, \"#bd3786\"], [0.5555555555555556, \"#d8576b\"], [0.6666666666666666, \"#ed7953\"], [0.7777777777777778, \"#fb9f3a\"], [0.8888888888888888, \"#fdca26\"], [1.0, \"#f0f921\"]], \"type\": \"contour\"}], \"contourcarpet\": [{\"colorbar\": {\"outlinewidth\": 0, \"ticks\": \"\"}, \"type\": \"contourcarpet\"}], \"heatmap\": [{\"colorbar\": {\"outlinewidth\": 0, \"ticks\": \"\"}, \"colorscale\": [[0.0, \"#0d0887\"], [0.1111111111111111, \"#46039f\"], [0.2222222222222222, \"#7201a8\"], [0.3333333333333333, \"#9c179e\"], [0.4444444444444444, \"#bd3786\"], [0.5555555555555556, \"#d8576b\"], [0.6666666666666666, \"#ed7953\"], [0.7777777777777778, \"#fb9f3a\"], [0.8888888888888888, \"#fdca26\"], [1.0, \"#f0f921\"]], \"type\": \"heatmap\"}], \"heatmapgl\": [{\"colorbar\": {\"outlinewidth\": 0, \"ticks\": \"\"}, \"colorscale\": [[0.0, \"#0d0887\"], [0.1111111111111111, \"#46039f\"], [0.2222222222222222, \"#7201a8\"], [0.3333333333333333, \"#9c179e\"], [0.4444444444444444, \"#bd3786\"], [0.5555555555555556, \"#d8576b\"], [0.6666666666666666, \"#ed7953\"], [0.7777777777777778, \"#fb9f3a\"], [0.8888888888888888, \"#fdca26\"], [1.0, \"#f0f921\"]], \"type\": \"heatmapgl\"}], \"histogram\": [{\"marker\": {\"colorbar\": {\"outlinewidth\": 0, \"ticks\": \"\"}}, \"type\": \"histogram\"}], \"histogram2d\": [{\"colorbar\": {\"outlinewidth\": 0, \"ticks\": \"\"}, \"colorscale\": [[0.0, \"#0d0887\"], [0.1111111111111111, \"#46039f\"], [0.2222222222222222, \"#7201a8\"], [0.3333333333333333, \"#9c179e\"], [0.4444444444444444, \"#bd3786\"], [0.5555555555555556, \"#d8576b\"], [0.6666666666666666, \"#ed7953\"], [0.7777777777777778, \"#fb9f3a\"], [0.8888888888888888, \"#fdca26\"], [1.0, \"#f0f921\"]], \"type\": \"histogram2d\"}], \"histogram2dcontour\": [{\"colorbar\": {\"outlinewidth\": 0, \"ticks\": \"\"}, \"colorscale\": [[0.0, \"#0d0887\"], [0.1111111111111111, \"#46039f\"], [0.2222222222222222, \"#7201a8\"], [0.3333333333333333, \"#9c179e\"], [0.4444444444444444, \"#bd3786\"], [0.5555555555555556, \"#d8576b\"], [0.6666666666666666, \"#ed7953\"], [0.7777777777777778, \"#fb9f3a\"], [0.8888888888888888, \"#fdca26\"], [1.0, \"#f0f921\"]], \"type\": \"histogram2dcontour\"}], \"mesh3d\": [{\"colorbar\": {\"outlinewidth\": 0, \"ticks\": \"\"}, \"type\": \"mesh3d\"}], \"parcoords\": [{\"line\": {\"colorbar\": {\"outlinewidth\": 0, \"ticks\": \"\"}}, \"type\": \"parcoords\"}], \"pie\": [{\"automargin\": true, \"type\": \"pie\"}], \"scatter\": [{\"marker\": {\"colorbar\": {\"outlinewidth\": 0, \"ticks\": \"\"}}, \"type\": \"scatter\"}], \"scatter3d\": [{\"line\": {\"colorbar\": {\"outlinewidth\": 0, \"ticks\": \"\"}}, \"marker\": {\"colorbar\": {\"outlinewidth\": 0, \"ticks\": \"\"}}, \"type\": \"scatter3d\"}], \"scattercarpet\": [{\"marker\": {\"colorbar\": {\"outlinewidth\": 0, \"ticks\": \"\"}}, \"type\": \"scattercarpet\"}], \"scattergeo\": [{\"marker\": {\"colorbar\": {\"outlinewidth\": 0, \"ticks\": \"\"}}, \"type\": \"scattergeo\"}], \"scattergl\": [{\"marker\": {\"colorbar\": {\"outlinewidth\": 0, \"ticks\": \"\"}}, \"type\": \"scattergl\"}], \"scattermapbox\": [{\"marker\": {\"colorbar\": {\"outlinewidth\": 0, \"ticks\": \"\"}}, \"type\": \"scattermapbox\"}], \"scatterpolar\": [{\"marker\": {\"colorbar\": {\"outlinewidth\": 0, \"ticks\": \"\"}}, \"type\": \"scatterpolar\"}], \"scatterpolargl\": [{\"marker\": {\"colorbar\": {\"outlinewidth\": 0, \"ticks\": \"\"}}, \"type\": \"scatterpolargl\"}], \"scatterternary\": [{\"marker\": {\"colorbar\": {\"outlinewidth\": 0, \"ticks\": \"\"}}, \"type\": \"scatterternary\"}], \"surface\": [{\"colorbar\": {\"outlinewidth\": 0, \"ticks\": \"\"}, \"colorscale\": [[0.0, \"#0d0887\"], [0.1111111111111111, \"#46039f\"], [0.2222222222222222, \"#7201a8\"], [0.3333333333333333, \"#9c179e\"], [0.4444444444444444, \"#bd3786\"], [0.5555555555555556, \"#d8576b\"], [0.6666666666666666, \"#ed7953\"], [0.7777777777777778, \"#fb9f3a\"], [0.8888888888888888, \"#fdca26\"], [1.0, \"#f0f921\"]], \"type\": \"surface\"}], \"table\": [{\"cells\": {\"fill\": {\"color\": \"#EBF0F8\"}, \"line\": {\"color\": \"white\"}}, \"header\": {\"fill\": {\"color\": \"#C8D4E3\"}, \"line\": {\"color\": \"white\"}}, \"type\": \"table\"}]}, \"layout\": {\"annotationdefaults\": {\"arrowcolor\": \"#2a3f5f\", \"arrowhead\": 0, \"arrowwidth\": 1}, \"coloraxis\": {\"colorbar\": {\"outlinewidth\": 0, \"ticks\": \"\"}}, \"colorscale\": {\"diverging\": [[0, \"#8e0152\"], [0.1, \"#c51b7d\"], [0.2, \"#de77ae\"], [0.3, \"#f1b6da\"], [0.4, \"#fde0ef\"], [0.5, \"#f7f7f7\"], [0.6, \"#e6f5d0\"], [0.7, \"#b8e186\"], [0.8, \"#7fbc41\"], [0.9, \"#4d9221\"], [1, \"#276419\"]], \"sequential\": [[0.0, \"#0d0887\"], [0.1111111111111111, \"#46039f\"], [0.2222222222222222, \"#7201a8\"], [0.3333333333333333, \"#9c179e\"], [0.4444444444444444, \"#bd3786\"], [0.5555555555555556, \"#d8576b\"], [0.6666666666666666, \"#ed7953\"], [0.7777777777777778, \"#fb9f3a\"], [0.8888888888888888, \"#fdca26\"], [1.0, \"#f0f921\"]], \"sequentialminus\": [[0.0, \"#0d0887\"], [0.1111111111111111, \"#46039f\"], [0.2222222222222222, \"#7201a8\"], [0.3333333333333333, \"#9c179e\"], [0.4444444444444444, \"#bd3786\"], [0.5555555555555556, \"#d8576b\"], [0.6666666666666666, \"#ed7953\"], [0.7777777777777778, \"#fb9f3a\"], [0.8888888888888888, \"#fdca26\"], [1.0, \"#f0f921\"]]}, \"colorway\": [\"#636efa\", \"#EF553B\", \"#00cc96\", \"#ab63fa\", \"#FFA15A\", \"#19d3f3\", \"#FF6692\", \"#B6E880\", \"#FF97FF\", \"#FECB52\"], \"font\": {\"color\": \"#2a3f5f\"}, \"geo\": {\"bgcolor\": \"white\", \"lakecolor\": \"white\", \"landcolor\": \"#E5ECF6\", \"showlakes\": true, \"showland\": true, \"subunitcolor\": \"white\"}, \"hoverlabel\": {\"align\": \"left\"}, \"hovermode\": \"closest\", \"mapbox\": {\"style\": \"light\"}, \"paper_bgcolor\": \"white\", \"plot_bgcolor\": \"#E5ECF6\", \"polar\": {\"angularaxis\": {\"gridcolor\": \"white\", \"linecolor\": \"white\", \"ticks\": \"\"}, \"bgcolor\": \"#E5ECF6\", \"radialaxis\": {\"gridcolor\": \"white\", \"linecolor\": \"white\", \"ticks\": \"\"}}, \"scene\": {\"xaxis\": {\"backgroundcolor\": \"#E5ECF6\", \"gridcolor\": \"white\", \"gridwidth\": 2, \"linecolor\": \"white\", \"showbackground\": true, \"ticks\": \"\", \"zerolinecolor\": \"white\"}, \"yaxis\": {\"backgroundcolor\": \"#E5ECF6\", \"gridcolor\": \"white\", \"gridwidth\": 2, \"linecolor\": \"white\", \"showbackground\": true, \"ticks\": \"\", \"zerolinecolor\": \"white\"}, \"zaxis\": {\"backgroundcolor\": \"#E5ECF6\", \"gridcolor\": \"white\", \"gridwidth\": 2, \"linecolor\": \"white\", \"showbackground\": true, \"ticks\": \"\", \"zerolinecolor\": \"white\"}}, \"shapedefaults\": {\"line\": {\"color\": \"#2a3f5f\"}}, \"ternary\": {\"aaxis\": {\"gridcolor\": \"white\", \"linecolor\": \"white\", \"ticks\": \"\"}, \"baxis\": {\"gridcolor\": \"white\", \"linecolor\": \"white\", \"ticks\": \"\"}, \"bgcolor\": \"#E5ECF6\", \"caxis\": {\"gridcolor\": \"white\", \"linecolor\": \"white\", \"ticks\": \"\"}}, \"title\": {\"x\": 0.05}, \"xaxis\": {\"automargin\": true, \"gridcolor\": \"white\", \"linecolor\": \"white\", \"ticks\": \"\", \"title\": {\"standoff\": 15}, \"zerolinecolor\": \"white\", \"zerolinewidth\": 2}, \"yaxis\": {\"automargin\": true, \"gridcolor\": \"white\", \"linecolor\": \"white\", \"ticks\": \"\", \"title\": {\"standoff\": 15}, \"zerolinecolor\": \"white\", \"zerolinewidth\": 2}}}, \"xaxis\": {\"anchor\": \"y\", \"domain\": [0.0, 1.0], \"title\": {\"text\": \"math score\"}}, \"yaxis\": {\"anchor\": \"x\", \"domain\": [0.0, 1.0], \"title\": {\"text\": \"count of math score\"}}},\n",
              "                        {\"responsive\": true}\n",
              "                    ).then(function(){\n",
              "                            \n",
              "var gd = document.getElementById('57d6011c-b331-4071-8998-c7ac86a1e38a');\n",
              "var x = new MutationObserver(function (mutations, observer) {{\n",
              "        var display = window.getComputedStyle(gd).display;\n",
              "        if (!display || display === 'none') {{\n",
              "            console.log([gd, 'removed!']);\n",
              "            Plotly.purge(gd);\n",
              "            observer.disconnect();\n",
              "        }}\n",
              "}});\n",
              "\n",
              "// Listen for the removal of the full notebook cells\n",
              "var notebookContainer = gd.closest('#notebook-container');\n",
              "if (notebookContainer) {{\n",
              "    x.observe(notebookContainer, {childList: true});\n",
              "}}\n",
              "\n",
              "// Listen for the clearing of the current output cell\n",
              "var outputEl = gd.closest('.output');\n",
              "if (outputEl) {{\n",
              "    x.observe(outputEl, {childList: true});\n",
              "}}\n",
              "\n",
              "                        })\n",
              "                };\n",
              "                \n",
              "            </script>\n",
              "        </div>\n",
              "</body>\n",
              "</html>"
            ]
          },
          "metadata": {
            "tags": []
          }
        }
      ]
    },
    {
      "cell_type": "code",
      "metadata": {
        "id": "kw5NskSBraEx"
      },
      "source": [
        ""
      ],
      "execution_count": null,
      "outputs": []
    }
  ]
}