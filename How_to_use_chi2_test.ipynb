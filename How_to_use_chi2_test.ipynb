{
  "nbformat": 4,
  "nbformat_minor": 0,
  "metadata": {
    "colab": {
      "name": "How_to_use_chi2_test.ipynb",
      "provenance": [],
      "authorship_tag": "ABX9TyNffqCt2MT2PCWpHjd4OuQG",
      "include_colab_link": true
    },
    "kernelspec": {
      "name": "python3",
      "display_name": "Python 3"
    }
  },
  "cells": [
    {
      "cell_type": "markdown",
      "metadata": {
        "id": "view-in-github",
        "colab_type": "text"
      },
      "source": [
        "<a href=\"https://colab.research.google.com/github/rushikeshnaik779/EDA/blob/master/How_to_use_chi2_test.ipynb\" target=\"_parent\"><img src=\"https://colab.research.google.com/assets/colab-badge.svg\" alt=\"Open In Colab\"/></a>"
      ]
    },
    {
      "cell_type": "code",
      "metadata": {
        "id": "IcdS7_RzwJ7G"
      },
      "source": [
        "import numpy as np\n",
        "import pandas as pd\n",
        "import scipy.stats as stats"
      ],
      "execution_count": 1,
      "outputs": []
    },
    {
      "cell_type": "code",
      "metadata": {
        "id": "xctQ3A0zwQh5"
      },
      "source": [
        "national = pd.DataFrame([\"white\"]*100000 + [\"hispanic\"]*60000 +\\\n",
        "                        [\"black\"]*50000 + [\"asian\"]*15000 + [\"other\"]*35000)\n",
        "           \n",
        "\n",
        "minnesota = pd.DataFrame([\"white\"]*600 + [\"hispanic\"]*300 + \\\n",
        "                         [\"black\"]*250 +[\"asian\"]*75 + [\"other\"]*150)"
      ],
      "execution_count": 2,
      "outputs": []
    },
    {
      "cell_type": "code",
      "metadata": {
        "colab": {
          "base_uri": "https://localhost:8080/"
        },
        "id": "L5WHKNE4wXp4",
        "outputId": "bce74ddc-7463-47f5-dc5d-be4d98ae9b4c"
      },
      "source": [
        "national.value_counts()"
      ],
      "execution_count": 4,
      "outputs": [
        {
          "output_type": "execute_result",
          "data": {
            "text/plain": [
              "white       100000\n",
              "hispanic     60000\n",
              "black        50000\n",
              "other        35000\n",
              "asian        15000\n",
              "dtype: int64"
            ]
          },
          "metadata": {
            "tags": []
          },
          "execution_count": 4
        }
      ]
    },
    {
      "cell_type": "code",
      "metadata": {
        "colab": {
          "base_uri": "https://localhost:8080/"
        },
        "id": "4B9bgrA9wZOe",
        "outputId": "ed36d25d-eeb0-4241-bdf5-d3dcc25a88da"
      },
      "source": [
        "minnesota.value_counts()"
      ],
      "execution_count": 5,
      "outputs": [
        {
          "output_type": "execute_result",
          "data": {
            "text/plain": [
              "white       600\n",
              "hispanic    300\n",
              "black       250\n",
              "other       150\n",
              "asian        75\n",
              "dtype: int64"
            ]
          },
          "metadata": {
            "tags": []
          },
          "execution_count": 5
        }
      ]
    },
    {
      "cell_type": "markdown",
      "metadata": {
        "id": "Ts-QTXutxiJ5"
      },
      "source": [
        "## Chi-Squared Goodness-Of-Fit Test"
      ]
    },
    {
      "cell_type": "code",
      "metadata": {
        "colab": {
          "base_uri": "https://localhost:8080/"
        },
        "id": "cAqFBRe_weTO",
        "outputId": "1f0a93da-8ff8-40b7-eb27-475ecb16a6e7"
      },
      "source": [
        "national_table = pd.crosstab(index=national[0], columns=\"count\")\n",
        "minnesota_table = pd.crosstab(index=minnesota[0], columns=\"count\")\n",
        "\n",
        "print( \"National\")\n",
        "print(national_table)\n",
        "print(\" \")\n",
        "print( \"Minnesota\")\n",
        "print(minnesota_table)"
      ],
      "execution_count": 6,
      "outputs": [
        {
          "output_type": "stream",
          "text": [
            "National\n",
            "col_0      count\n",
            "0               \n",
            "asian      15000\n",
            "black      50000\n",
            "hispanic   60000\n",
            "other      35000\n",
            "white     100000\n",
            " \n",
            "Minnesota\n",
            "col_0     count\n",
            "0              \n",
            "asian        75\n",
            "black       250\n",
            "hispanic    300\n",
            "other       150\n",
            "white       600\n"
          ],
          "name": "stdout"
        }
      ]
    },
    {
      "cell_type": "markdown",
      "metadata": {
        "id": "V6tqyI5lwo3v"
      },
      "source": [
        "Chi-squared tests are based on the so-called chi-squared statistic. You calculate the chi-squared statistic with the following formula:\n",
        "\n",
        "sum((observed−expected)2expected)\n",
        " \n",
        "In the formula, observed is the actual observed count for each category and expected is the expected count based on the distribution of the population for the corresponding category. Let's calculate the chi-squared statistic for our data to illustrate"
      ]
    },
    {
      "cell_type": "code",
      "metadata": {
        "colab": {
          "base_uri": "https://localhost:8080/"
        },
        "id": "7mX1TUHtwjhh",
        "outputId": "b8ff97f0-6245-4e66-9b34-aa83d5432b36"
      },
      "source": [
        "observed = minnesota_table\n",
        "\n",
        "national_ratios = national_table/len(national)  # Get population ratios\n",
        "\n",
        "expected = national_ratios * len(minnesota)   # Get expected counts\n",
        "\n",
        "chi_squared_stat = (((observed-expected)**2)/expected).sum()\n",
        "\n",
        "print(chi_squared_stat)"
      ],
      "execution_count": 7,
      "outputs": [
        {
          "output_type": "stream",
          "text": [
            "col_0\n",
            "count    18.194805\n",
            "dtype: float64\n"
          ],
          "name": "stdout"
        }
      ]
    },
    {
      "cell_type": "markdown",
      "metadata": {
        "id": "owc_Er0exIbz"
      },
      "source": [
        "Note: The chi-squared test assumes none of the expected counts are less than 5.\n",
        "\n",
        "Similar to the t-test where we compared the t-test statistic to a critical value based on the t-distribution to determine whether the result is significant, in the chi-square test we compare the chi-square test statistic to a critical value based on the chi-square distribution. The scipy library shorthand for the chi-square distribution is chi2. Let's use this knowledge to find the critical value for 95% confidence level and check the p-value of our result:"
      ]
    },
    {
      "cell_type": "code",
      "metadata": {
        "colab": {
          "base_uri": "https://localhost:8080/"
        },
        "id": "uwLZ0_oXwwJk",
        "outputId": "526228b6-3a69-40ec-da7f-8b4f9a271cea"
      },
      "source": [
        "crit = stats.chi2.ppf(q = 0.95, # Find the critical value for 95% confidence*\n",
        "                      df = 4)   # Df = number of variable categories - 1\n",
        "\n",
        "print(\"Critical value\")\n",
        "print(crit)\n",
        "\n",
        "p_value = 1 - stats.chi2.cdf(x=chi_squared_stat,  # Find the p-value\n",
        "                             df=4)\n",
        "print(\"P value\")\n",
        "print(p_value)"
      ],
      "execution_count": 8,
      "outputs": [
        {
          "output_type": "stream",
          "text": [
            "Critical value\n",
            "9.487729036781154\n",
            "P value\n",
            "[0.00113047]\n"
          ],
          "name": "stdout"
        }
      ]
    },
    {
      "cell_type": "code",
      "metadata": {
        "colab": {
          "base_uri": "https://localhost:8080/"
        },
        "id": "_wCoZlDFxRyG",
        "outputId": "35331a80-d739-487d-9fbf-fdddf1aaeafd"
      },
      "source": [
        "stats.chisquare(f_obs= observed,   # Array of observed counts\n",
        "                f_exp= expected)   # Array of expected counts"
      ],
      "execution_count": 9,
      "outputs": [
        {
          "output_type": "execute_result",
          "data": {
            "text/plain": [
              "Power_divergenceResult(statistic=array([18.19480519]), pvalue=array([0.00113047]))"
            ]
          },
          "metadata": {
            "tags": []
          },
          "execution_count": 9
        }
      ]
    },
    {
      "cell_type": "code",
      "metadata": {
        "id": "FoBsJm0dxa4T"
      },
      "source": [
        ""
      ],
      "execution_count": null,
      "outputs": []
    },
    {
      "cell_type": "markdown",
      "metadata": {
        "id": "-ZvQK6puxkOU"
      },
      "source": [
        "## Chi-Squared Test of Independence"
      ]
    },
    {
      "cell_type": "markdown",
      "metadata": {
        "id": "MkgtWb-px29I"
      },
      "source": [
        "- (Independence) is a key concept in probability that describes a situation where knowing the value of one variable tells you nothing about the value of another. For instance, the month you were born probably doesn't tell you anything about which web browser you use, so we'd expect birth month and browser preference to be independent. On the other hand, your month of birth might be related to whether you excelled at sports in school, so month of birth and sports performance might not be independent.\n",
        "\n",
        "- The chi-squared test of independence tests whether two categorical variables are independent. The test of independence is commonly used to determine whether variables like education, political views and other preferences vary based on demographic factors like gender, race and religion. Let's generate some fake voter polling data and perform a test of independence:"
      ]
    },
    {
      "cell_type": "code",
      "metadata": {
        "colab": {
          "base_uri": "https://localhost:8080/",
          "height": 235
        },
        "id": "WTTGKAi4xnj4",
        "outputId": "83c8ba48-81c4-40d0-e15e-a2947fd6ac5c"
      },
      "source": [
        "np.random.seed(10)\n",
        "\n",
        "# Sample data randomly at fixed probabilities\n",
        "voter_race = np.random.choice(a= [\"asian\",\"black\",\"hispanic\",\"other\",\"white\"],\n",
        "                              p = [0.05, 0.15 ,0.25, 0.05, 0.5],\n",
        "                              size=1000)\n",
        "\n",
        "# Sample data randomly at fixed probabilities\n",
        "voter_party = np.random.choice(a= [\"democrat\",\"independent\",\"republican\"],\n",
        "                              p = [0.4, 0.2, 0.4],\n",
        "                              size=1000)\n",
        "\n",
        "voters = pd.DataFrame({\"race\":voter_race, \n",
        "                       \"party\":voter_party})\n",
        "\n",
        "voter_tab = pd.crosstab(voters.race, voters.party, margins = True)\n",
        "\n",
        "voter_tab.columns = [\"democrat\",\"independent\",\"republican\",\"row_totals\"]\n",
        "\n",
        "voter_tab.index = [\"asian\",\"black\",\"hispanic\",\"other\",\"white\",\"col_totals\"]\n",
        "\n",
        "observed = voter_tab.iloc[0:5,0:3]   # Get table without totals for later use\n",
        "voter_tab"
      ],
      "execution_count": 10,
      "outputs": [
        {
          "output_type": "execute_result",
          "data": {
            "text/html": [
              "<div>\n",
              "<style scoped>\n",
              "    .dataframe tbody tr th:only-of-type {\n",
              "        vertical-align: middle;\n",
              "    }\n",
              "\n",
              "    .dataframe tbody tr th {\n",
              "        vertical-align: top;\n",
              "    }\n",
              "\n",
              "    .dataframe thead th {\n",
              "        text-align: right;\n",
              "    }\n",
              "</style>\n",
              "<table border=\"1\" class=\"dataframe\">\n",
              "  <thead>\n",
              "    <tr style=\"text-align: right;\">\n",
              "      <th></th>\n",
              "      <th>democrat</th>\n",
              "      <th>independent</th>\n",
              "      <th>republican</th>\n",
              "      <th>row_totals</th>\n",
              "    </tr>\n",
              "  </thead>\n",
              "  <tbody>\n",
              "    <tr>\n",
              "      <th>asian</th>\n",
              "      <td>21</td>\n",
              "      <td>7</td>\n",
              "      <td>32</td>\n",
              "      <td>60</td>\n",
              "    </tr>\n",
              "    <tr>\n",
              "      <th>black</th>\n",
              "      <td>65</td>\n",
              "      <td>25</td>\n",
              "      <td>64</td>\n",
              "      <td>154</td>\n",
              "    </tr>\n",
              "    <tr>\n",
              "      <th>hispanic</th>\n",
              "      <td>107</td>\n",
              "      <td>50</td>\n",
              "      <td>94</td>\n",
              "      <td>251</td>\n",
              "    </tr>\n",
              "    <tr>\n",
              "      <th>other</th>\n",
              "      <td>15</td>\n",
              "      <td>8</td>\n",
              "      <td>15</td>\n",
              "      <td>38</td>\n",
              "    </tr>\n",
              "    <tr>\n",
              "      <th>white</th>\n",
              "      <td>189</td>\n",
              "      <td>96</td>\n",
              "      <td>212</td>\n",
              "      <td>497</td>\n",
              "    </tr>\n",
              "    <tr>\n",
              "      <th>col_totals</th>\n",
              "      <td>397</td>\n",
              "      <td>186</td>\n",
              "      <td>417</td>\n",
              "      <td>1000</td>\n",
              "    </tr>\n",
              "  </tbody>\n",
              "</table>\n",
              "</div>"
            ],
            "text/plain": [
              "            democrat  independent  republican  row_totals\n",
              "asian             21            7          32          60\n",
              "black             65           25          64         154\n",
              "hispanic         107           50          94         251\n",
              "other             15            8          15          38\n",
              "white            189           96         212         497\n",
              "col_totals       397          186         417        1000"
            ]
          },
          "metadata": {
            "tags": []
          },
          "execution_count": 10
        }
      ]
    },
    {
      "cell_type": "markdown",
      "metadata": {
        "id": "_WAikA1xygTD"
      },
      "source": [
        "### Note that we did not use the race data to inform our generation of the party data so the variables are independent.\n",
        "\n",
        "- For a test of independence, we use the same chi-squared formula that we used for the goodness-of-fit test. The main difference is we have to calculate the expected counts of each cell in a 2-dimensional table instead of a 1-dimensional table. To get the expected count for a cell, multiply the row total for that cell by the column total for that cell and then divide by the total number of observations. We can quickly get the expected counts for all cells in the table by taking the row totals and column totals of the table, performing an outer product on them with the np.outer() function and dividing by the number of observations:"
      ]
    },
    {
      "cell_type": "code",
      "metadata": {
        "colab": {
          "base_uri": "https://localhost:8080/",
          "height": 204
        },
        "id": "_6AGrvI1yNBl",
        "outputId": "a53bb729-2ee0-461a-ce0c-55f23299e028"
      },
      "source": [
        "expected =  np.outer(voter_tab[\"row_totals\"][0:5],\n",
        "                     voter_tab.loc[\"col_totals\"][0:3]) / 1000\n",
        "\n",
        "expected = pd.DataFrame(expected)\n",
        "\n",
        "expected.columns = [\"democrat\",\"independent\",\"republican\"]\n",
        "expected.index = [\"asian\",\"black\",\"hispanic\",\"other\",\"white\"]\n",
        "\n",
        "expected"
      ],
      "execution_count": 11,
      "outputs": [
        {
          "output_type": "execute_result",
          "data": {
            "text/html": [
              "<div>\n",
              "<style scoped>\n",
              "    .dataframe tbody tr th:only-of-type {\n",
              "        vertical-align: middle;\n",
              "    }\n",
              "\n",
              "    .dataframe tbody tr th {\n",
              "        vertical-align: top;\n",
              "    }\n",
              "\n",
              "    .dataframe thead th {\n",
              "        text-align: right;\n",
              "    }\n",
              "</style>\n",
              "<table border=\"1\" class=\"dataframe\">\n",
              "  <thead>\n",
              "    <tr style=\"text-align: right;\">\n",
              "      <th></th>\n",
              "      <th>democrat</th>\n",
              "      <th>independent</th>\n",
              "      <th>republican</th>\n",
              "    </tr>\n",
              "  </thead>\n",
              "  <tbody>\n",
              "    <tr>\n",
              "      <th>asian</th>\n",
              "      <td>23.820</td>\n",
              "      <td>11.160</td>\n",
              "      <td>25.020</td>\n",
              "    </tr>\n",
              "    <tr>\n",
              "      <th>black</th>\n",
              "      <td>61.138</td>\n",
              "      <td>28.644</td>\n",
              "      <td>64.218</td>\n",
              "    </tr>\n",
              "    <tr>\n",
              "      <th>hispanic</th>\n",
              "      <td>99.647</td>\n",
              "      <td>46.686</td>\n",
              "      <td>104.667</td>\n",
              "    </tr>\n",
              "    <tr>\n",
              "      <th>other</th>\n",
              "      <td>15.086</td>\n",
              "      <td>7.068</td>\n",
              "      <td>15.846</td>\n",
              "    </tr>\n",
              "    <tr>\n",
              "      <th>white</th>\n",
              "      <td>197.309</td>\n",
              "      <td>92.442</td>\n",
              "      <td>207.249</td>\n",
              "    </tr>\n",
              "  </tbody>\n",
              "</table>\n",
              "</div>"
            ],
            "text/plain": [
              "          democrat  independent  republican\n",
              "asian       23.820       11.160      25.020\n",
              "black       61.138       28.644      64.218\n",
              "hispanic    99.647       46.686     104.667\n",
              "other       15.086        7.068      15.846\n",
              "white      197.309       92.442     207.249"
            ]
          },
          "metadata": {
            "tags": []
          },
          "execution_count": 11
        }
      ]
    },
    {
      "cell_type": "code",
      "metadata": {
        "colab": {
          "base_uri": "https://localhost:8080/"
        },
        "id": "QImabzIayyuh",
        "outputId": "bac30da5-a31b-40d5-adee-d7195c719f65"
      },
      "source": [
        "chi_squared_stat = (((observed-expected)**2)/expected).sum().sum()\n",
        "\n",
        "print(chi_squared_stat)"
      ],
      "execution_count": 13,
      "outputs": [
        {
          "output_type": "stream",
          "text": [
            "7.169321280162059\n"
          ],
          "name": "stdout"
        }
      ]
    },
    {
      "cell_type": "code",
      "metadata": {
        "id": "2Up2nPK6y-ec"
      },
      "source": [
        "#Note: We call .sum() twice: once\n",
        "# to get the column sums and a second time to add the column sums together, returning the sum of the entire 2D table."
      ],
      "execution_count": 15,
      "outputs": []
    },
    {
      "cell_type": "code",
      "metadata": {
        "colab": {
          "base_uri": "https://localhost:8080/"
        },
        "id": "er_GiBDQzEz1",
        "outputId": "7a9feebc-78d2-4ef4-8b1a-db6edadb9f87"
      },
      "source": [
        "crit = stats.chi2.ppf(q = 0.95, # Find the critical value for 95% confidence*\n",
        "                      df = 8)   # *\n",
        "\n",
        "print(\"Critical value\")\n",
        "print(crit)\n",
        "\n",
        "p_value = 1 - stats.chi2.cdf(x=chi_squared_stat,  # Find the p-value\n",
        "                             df=8)\n",
        "print(\"P value\")\n",
        "print(p_value)"
      ],
      "execution_count": 16,
      "outputs": [
        {
          "output_type": "stream",
          "text": [
            "Critical value\n",
            "15.50731305586545\n",
            "P value\n",
            "0.518479392948842\n"
          ],
          "name": "stdout"
        }
      ]
    },
    {
      "cell_type": "markdown",
      "metadata": {
        "id": "NR07nhu3zaNh"
      },
      "source": [
        "* Note: The degrees of freedom for a test of independence equals the product of the number of categories in each variable minus 1. In this case we have a 5x3 table so df = 4x2 = 8.\n",
        "\n",
        "* As with the goodness-of-fit test, we can use scipy to conduct a test of independence quickly. Use stats.chi2_contingency() function to conduct a test of independence automatically given a frequency table of observed counts:"
      ]
    },
    {
      "cell_type": "code",
      "metadata": {
        "colab": {
          "base_uri": "https://localhost:8080/"
        },
        "id": "XEQQMiNFzJrm",
        "outputId": "280b239a-c457-45f6-93be-21ebfe7015cb"
      },
      "source": [
        "stats.chi2_contingency(observed= observed)\n"
      ],
      "execution_count": 17,
      "outputs": [
        {
          "output_type": "execute_result",
          "data": {
            "text/plain": [
              "(7.169321280162059, 0.518479392948842, 8, array([[ 23.82 ,  11.16 ,  25.02 ],\n",
              "        [ 61.138,  28.644,  64.218],\n",
              "        [ 99.647,  46.686, 104.667],\n",
              "        [ 15.086,   7.068,  15.846],\n",
              "        [197.309,  92.442, 207.249]]))"
            ]
          },
          "metadata": {
            "tags": []
          },
          "execution_count": 17
        }
      ]
    },
    {
      "cell_type": "markdown",
      "metadata": {
        "id": "RNvCFMjQz3qW"
      },
      "source": [
        "- The output shows the chi-square statistic, the p-value and the degrees of freedom followed by the expected counts.\n",
        "\n",
        "As expected, given the high p-value, the test result does not detect a significant relationship between the variables."
      ]
    },
    {
      "cell_type": "code",
      "metadata": {
        "id": "RF4GB93Xzeaw"
      },
      "source": [
        ""
      ],
      "execution_count": null,
      "outputs": []
    }
  ]
}