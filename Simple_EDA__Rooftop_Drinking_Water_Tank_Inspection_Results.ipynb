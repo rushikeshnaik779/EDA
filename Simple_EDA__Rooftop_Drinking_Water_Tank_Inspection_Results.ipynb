{
  "nbformat": 4,
  "nbformat_minor": 0,
  "metadata": {
    "colab": {
      "name": "Simple_EDA _Rooftop_Drinking_Water_Tank_Inspection_Results.ipynb",
      "provenance": [],
      "authorship_tag": "ABX9TyNtKCV8UeQO3HLjTgPUtjlt",
      "include_colab_link": true
    },
    "kernelspec": {
      "name": "python3",
      "display_name": "Python 3"
    }
  },
  "cells": [
    {
      "cell_type": "markdown",
      "metadata": {
        "id": "view-in-github",
        "colab_type": "text"
      },
      "source": [
        "<a href=\"https://colab.research.google.com/github/rushikeshnaik779/EDA/blob/master/Simple_EDA__Rooftop_Drinking_Water_Tank_Inspection_Results.ipynb\" target=\"_parent\"><img src=\"https://colab.research.google.com/assets/colab-badge.svg\" alt=\"Open In Colab\"/></a>"
      ]
    },
    {
      "cell_type": "markdown",
      "metadata": {
        "id": "0HGDSvhDg-8N"
      },
      "source": [
        "## Steps to perform EDA (by srikanth bhaiyya) \n",
        "\n",
        "\n",
        "1. Univariate Data Analysis :\n",
        "   -  numercial - check Distribution, plot : boxplot and Histogram, find missing values.\n",
        "   - categorical - Check freq_distribution and plot : bar chart and pie chart.\n",
        "   - dates - feature extraction i.e. [hr, day, (week, month[plot:line graph]) &  qtr plot : hist]\n",
        "   - Find missing values \n",
        "   - outliers \n",
        "   constant values = only one values i.e dataset will be of 99% with one value but with due to some error 1 % will be another data\n",
        "\n",
        "2. Multivariate Analysis :\n",
        "   - numerical vs numerical : plot = scatter plot  \n",
        "   - categorical vs categorical : plot =  cluster plot or bar chart\n",
        "   - numerical vs categorical and categorical vs numerical: plot = x-axis [box plot]\n",
        "\n",
        "3. Sometimes you may need to convert numerical data to categorical data i.e ( in this we will create bins and freq of the data will contain the bin value and will plot as histogram) \n",
        "\n",
        "\n",
        "4. Relationships and distributions \n",
        "    - if two numericals are present then use corr() or scatterplot \n",
        "    - if two categoricals are present the ues association - chi square test \n",
        "\n",
        "- distributions \n",
        "-  outliers \n",
        "\n",
        "- check for type 1 error \n",
        "- check for type 2 error\n",
        "\n",
        "\n",
        "(to read about supply & demand concept), \n",
        "( out of control factors )  "
      ]
    },
    {
      "cell_type": "code",
      "metadata": {
        "colab": {
          "resources": {
            "http://localhost:8080/nbextensions/google.colab/files.js": {
              "data": "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",
              "ok": true,
              "headers": [
                [
                  "content-type",
                  "application/javascript"
                ]
              ],
              "status": 200,
              "status_text": ""
            }
          },
          "base_uri": "https://localhost:8080/",
          "height": 72
        },
        "id": "JLt89HX9gyWq",
        "outputId": "d61c5c55-1175-445a-edc2-06c402a9cdac"
      },
      "source": [
        "from google.colab import files \n",
        "uploaded = files.upload()\n",
        "import io"
      ],
      "execution_count": 1,
      "outputs": [
        {
          "output_type": "display_data",
          "data": {
            "text/html": [
              "\n",
              "     <input type=\"file\" id=\"files-35eeebe0-267d-4d79-87f8-41912ad92676\" name=\"files[]\" multiple disabled\n",
              "        style=\"border:none\" />\n",
              "     <output id=\"result-35eeebe0-267d-4d79-87f8-41912ad92676\">\n",
              "      Upload widget is only available when the cell has been executed in the\n",
              "      current browser session. Please rerun this cell to enable.\n",
              "      </output>\n",
              "      <script src=\"/nbextensions/google.colab/files.js\"></script> "
            ],
            "text/plain": [
              "<IPython.core.display.HTML object>"
            ]
          },
          "metadata": {
            "tags": []
          }
        },
        {
          "output_type": "stream",
          "text": [
            "Saving rooftop-drinking-water-tank-inspection-results-1.csv to rooftop-drinking-water-tank-inspection-results-1.csv\n"
          ],
          "name": "stdout"
        }
      ]
    },
    {
      "cell_type": "code",
      "metadata": {
        "id": "szHUZWWkloa_"
      },
      "source": [
        "# importing libraries required for data manipulation and data visualization\n",
        "import pandas as pd \n",
        "import seaborn as sns\n",
        "import matplotlib.pyplot as plt\n",
        "import numpy as np \n"
      ],
      "execution_count": 3,
      "outputs": []
    },
    {
      "cell_type": "code",
      "metadata": {
        "id": "-LneTUcyl5MH"
      },
      "source": [
        "data = pd.read_csv(io.BytesIO(uploaded['rooftop-drinking-water-tank-inspection-results-1.csv']))\n"
      ],
      "execution_count": 4,
      "outputs": []
    },
    {
      "cell_type": "markdown",
      "metadata": {
        "id": "jjzqIBUps6aj"
      },
      "source": [
        "### Rooftop Drinking Water Tank Inspection Results\n",
        "- NYC Health Code requires that building drinking water storage tanks be inspected annually and that the results of these inspections be reported to the Health Department (NYC DOHMH). To report specific inspection findings related to public safety and sanitary conditions, owners or their representatives fill out a questionnaire provided by DOHMH. This dataset is the non-administrative subset of owner-reported information. Reported data have not been verified by a City Agency"
      ]
    },
    {
      "cell_type": "code",
      "metadata": {
        "colab": {
          "base_uri": "https://localhost:8080/",
          "height": 462
        },
        "id": "DwO1TDpkm0Ez",
        "outputId": "4f2f08a3-8836-4524-cdb6-2576ffdeeaf6"
      },
      "source": [
        "# glimpse of the data \n",
        "data.head()"
      ],
      "execution_count": 5,
      "outputs": [
        {
          "output_type": "execute_result",
          "data": {
            "text/html": [
              "<div>\n",
              "<style scoped>\n",
              "    .dataframe tbody tr th:only-of-type {\n",
              "        vertical-align: middle;\n",
              "    }\n",
              "\n",
              "    .dataframe tbody tr th {\n",
              "        vertical-align: top;\n",
              "    }\n",
              "\n",
              "    .dataframe thead th {\n",
              "        text-align: right;\n",
              "    }\n",
              "</style>\n",
              "<table border=\"1\" class=\"dataframe\">\n",
              "  <thead>\n",
              "    <tr style=\"text-align: right;\">\n",
              "      <th></th>\n",
              "      <th>BIN</th>\n",
              "      <th>BOROUGH</th>\n",
              "      <th>ZIP</th>\n",
              "      <th>HOUSE_NUM</th>\n",
              "      <th>STREET_NAME</th>\n",
              "      <th>BLOCK</th>\n",
              "      <th>LOT</th>\n",
              "      <th>CONFIRMATION_NUM</th>\n",
              "      <th>REPORTING_YEAR</th>\n",
              "      <th>TANK_NUM</th>\n",
              "      <th>INSPECTION_BY_FIRM</th>\n",
              "      <th>INSPECTION_PERFORMED</th>\n",
              "      <th>INSPECTION_DATE</th>\n",
              "      <th>GI_REQ_INTERNAL_STRUCTURE</th>\n",
              "      <th>GI_RESULT_INTERNAL_STRUCTURE</th>\n",
              "      <th>GI_REQ_EXTERNAL_STRUCTURE</th>\n",
              "      <th>GI_RESULT_EXTERNAL_STRUCTURE</th>\n",
              "      <th>GI_REQ_OVERFLOW_PIPES</th>\n",
              "      <th>GI_RESULT_OVERFLOW_PIPES</th>\n",
              "      <th>GI_REQ_ACCESS_LADDERS</th>\n",
              "      <th>GI_RESULT_ACCESS_LADDERS</th>\n",
              "      <th>GI_REQ_AIR_VENTS</th>\n",
              "      <th>GI_RESULT_AIR_VENTS</th>\n",
              "      <th>GI_REQ_ROOF_ACCESS</th>\n",
              "      <th>GI_RESULT_ROOF_ACCESS</th>\n",
              "      <th>SI_REQ_SEDIMENT</th>\n",
              "      <th>SI_RESULT_SEDIMENT</th>\n",
              "      <th>SI_REQ_BIOLOGICAL_GROWTH</th>\n",
              "      <th>SI_RESULT_BIOLOGICAL_GROWTH</th>\n",
              "      <th>SI_REQ_DEBRIS_INSECTS</th>\n",
              "      <th>SI_RESULT_DEBRIS_INSECTS</th>\n",
              "      <th>SI_REQ_RODENT_BIRD</th>\n",
              "      <th>SI_RESULT_RODENT_BIRD</th>\n",
              "      <th>SAMPLE_COLLECTED</th>\n",
              "      <th>LAB_NAME</th>\n",
              "      <th>NYS_CERTIFIED</th>\n",
              "      <th>ANALYTES</th>\n",
              "      <th>COLIFORM</th>\n",
              "      <th>ECOLI</th>\n",
              "      <th>MEET_STANDARDS</th>\n",
              "      <th>LATITUDE</th>\n",
              "      <th>LONGITUDE</th>\n",
              "      <th>COMMUNITY_BOARD</th>\n",
              "      <th>COUNCIL_DISTRICT</th>\n",
              "      <th>CENSUS_TRACT</th>\n",
              "      <th>BBL</th>\n",
              "      <th>NTA</th>\n",
              "      <th>BATCH_DATE</th>\n",
              "    </tr>\n",
              "  </thead>\n",
              "  <tbody>\n",
              "    <tr>\n",
              "      <th>0</th>\n",
              "      <td>1034025</td>\n",
              "      <td>MANHATTAN</td>\n",
              "      <td>10024</td>\n",
              "      <td>320</td>\n",
              "      <td>WEST 89 STREET</td>\n",
              "      <td>1250</td>\n",
              "      <td>47</td>\n",
              "      <td>WTI9835953296</td>\n",
              "      <td>2015</td>\n",
              "      <td>1</td>\n",
              "      <td>ISSEKS BROS INC</td>\n",
              "      <td>Y</td>\n",
              "      <td>12/10/2015</td>\n",
              "      <td>Y</td>\n",
              "      <td>N</td>\n",
              "      <td>Y</td>\n",
              "      <td>N</td>\n",
              "      <td>Y</td>\n",
              "      <td>N</td>\n",
              "      <td>Y</td>\n",
              "      <td>N</td>\n",
              "      <td>Y</td>\n",
              "      <td>N</td>\n",
              "      <td>Y</td>\n",
              "      <td>N</td>\n",
              "      <td>Y</td>\n",
              "      <td>N</td>\n",
              "      <td>Y</td>\n",
              "      <td>N</td>\n",
              "      <td>Y</td>\n",
              "      <td>N</td>\n",
              "      <td>Y</td>\n",
              "      <td>N</td>\n",
              "      <td>Y</td>\n",
              "      <td>ENVIRONMENTAL BUILDING SOLUTIONS LLC</td>\n",
              "      <td>Y</td>\n",
              "      <td>B</td>\n",
              "      <td>A</td>\n",
              "      <td>A</td>\n",
              "      <td>NaN</td>\n",
              "      <td>40.791082</td>\n",
              "      <td>-73.977107</td>\n",
              "      <td>7.0</td>\n",
              "      <td>6.0</td>\n",
              "      <td>175.0</td>\n",
              "      <td>1.012500e+09</td>\n",
              "      <td>Upper West Side</td>\n",
              "      <td>05/11/2018 12:15:22 PM</td>\n",
              "    </tr>\n",
              "    <tr>\n",
              "      <th>1</th>\n",
              "      <td>1087485</td>\n",
              "      <td>MANHATTAN</td>\n",
              "      <td>10038</td>\n",
              "      <td>8</td>\n",
              "      <td>Spruce St.</td>\n",
              "      <td>100</td>\n",
              "      <td>7502</td>\n",
              "      <td>WTI5946705268</td>\n",
              "      <td>2015</td>\n",
              "      <td>2</td>\n",
              "      <td>Isseks Bros Inc</td>\n",
              "      <td>Y</td>\n",
              "      <td>06/24/2015</td>\n",
              "      <td>Y</td>\n",
              "      <td>N</td>\n",
              "      <td>Y</td>\n",
              "      <td>N</td>\n",
              "      <td>Y</td>\n",
              "      <td>N</td>\n",
              "      <td>Y</td>\n",
              "      <td>N</td>\n",
              "      <td>Y</td>\n",
              "      <td>N</td>\n",
              "      <td>Y</td>\n",
              "      <td>N</td>\n",
              "      <td>Y</td>\n",
              "      <td>N</td>\n",
              "      <td>Y</td>\n",
              "      <td>N</td>\n",
              "      <td>Y</td>\n",
              "      <td>N</td>\n",
              "      <td>Y</td>\n",
              "      <td>N</td>\n",
              "      <td>Y</td>\n",
              "      <td>Environmental Building Solutions</td>\n",
              "      <td>Y</td>\n",
              "      <td>B</td>\n",
              "      <td>A</td>\n",
              "      <td>A</td>\n",
              "      <td>NaN</td>\n",
              "      <td>40.711407</td>\n",
              "      <td>-74.005573</td>\n",
              "      <td>1.0</td>\n",
              "      <td>1.0</td>\n",
              "      <td>1501.0</td>\n",
              "      <td>1.001008e+09</td>\n",
              "      <td>Battery Park City-Lower Manhattan</td>\n",
              "      <td>05/11/2018 12:15:29 PM</td>\n",
              "    </tr>\n",
              "    <tr>\n",
              "      <th>2</th>\n",
              "      <td>1082711</td>\n",
              "      <td>MANHATTAN</td>\n",
              "      <td>10011</td>\n",
              "      <td>455</td>\n",
              "      <td>WEST 23 STREET</td>\n",
              "      <td>721</td>\n",
              "      <td>7</td>\n",
              "      <td>WTI8886837394</td>\n",
              "      <td>2017</td>\n",
              "      <td>1</td>\n",
              "      <td>ISSEKS BROS INC</td>\n",
              "      <td>Y</td>\n",
              "      <td>11/02/2017</td>\n",
              "      <td>Y</td>\n",
              "      <td>N</td>\n",
              "      <td>Y</td>\n",
              "      <td>N</td>\n",
              "      <td>Y</td>\n",
              "      <td>N</td>\n",
              "      <td>Y</td>\n",
              "      <td>N</td>\n",
              "      <td>Y</td>\n",
              "      <td>N</td>\n",
              "      <td>Y</td>\n",
              "      <td>N</td>\n",
              "      <td>Y</td>\n",
              "      <td>N</td>\n",
              "      <td>Y</td>\n",
              "      <td>N</td>\n",
              "      <td>Y</td>\n",
              "      <td>N</td>\n",
              "      <td>Y</td>\n",
              "      <td>N</td>\n",
              "      <td>Y</td>\n",
              "      <td>ENVIRONMENTAL BUILDING SOLUTIONS LLC</td>\n",
              "      <td>Y</td>\n",
              "      <td>B</td>\n",
              "      <td>A</td>\n",
              "      <td>A</td>\n",
              "      <td>NaN</td>\n",
              "      <td>40.747141</td>\n",
              "      <td>-74.002840</td>\n",
              "      <td>4.0</td>\n",
              "      <td>3.0</td>\n",
              "      <td>93.0</td>\n",
              "      <td>1.007210e+09</td>\n",
              "      <td>Hudson Yards-Chelsea-Flatiron-Union Square</td>\n",
              "      <td>05/11/2018 12:15:29 PM</td>\n",
              "    </tr>\n",
              "    <tr>\n",
              "      <th>3</th>\n",
              "      <td>1038647</td>\n",
              "      <td>MANHATTAN</td>\n",
              "      <td>10017</td>\n",
              "      <td>5</td>\n",
              "      <td>Tudor City Place</td>\n",
              "      <td>1333</td>\n",
              "      <td>23</td>\n",
              "      <td>WTI5707518714</td>\n",
              "      <td>2016</td>\n",
              "      <td>1</td>\n",
              "      <td>Isseks Bros. Inc.</td>\n",
              "      <td>Y</td>\n",
              "      <td>12/17/2016</td>\n",
              "      <td>Y</td>\n",
              "      <td>N</td>\n",
              "      <td>Y</td>\n",
              "      <td>N</td>\n",
              "      <td>Y</td>\n",
              "      <td>N</td>\n",
              "      <td>Y</td>\n",
              "      <td>N</td>\n",
              "      <td>Y</td>\n",
              "      <td>N</td>\n",
              "      <td>Y</td>\n",
              "      <td>N</td>\n",
              "      <td>Y</td>\n",
              "      <td>N</td>\n",
              "      <td>Y</td>\n",
              "      <td>N</td>\n",
              "      <td>Y</td>\n",
              "      <td>N</td>\n",
              "      <td>Y</td>\n",
              "      <td>N</td>\n",
              "      <td>Y</td>\n",
              "      <td>Environmental Building Solutions LLC</td>\n",
              "      <td>Y</td>\n",
              "      <td>B</td>\n",
              "      <td>A</td>\n",
              "      <td>A</td>\n",
              "      <td>NaN</td>\n",
              "      <td>40.748054</td>\n",
              "      <td>-73.971185</td>\n",
              "      <td>6.0</td>\n",
              "      <td>4.0</td>\n",
              "      <td>88.0</td>\n",
              "      <td>1.013330e+09</td>\n",
              "      <td>Turtle Bay-East Midtown</td>\n",
              "      <td>05/11/2018 12:15:23 PM</td>\n",
              "    </tr>\n",
              "    <tr>\n",
              "      <th>4</th>\n",
              "      <td>1088817</td>\n",
              "      <td>MANHATTAN</td>\n",
              "      <td>10022</td>\n",
              "      <td>432</td>\n",
              "      <td>Park Ave</td>\n",
              "      <td>1292</td>\n",
              "      <td>7502</td>\n",
              "      <td>WTI0290447370</td>\n",
              "      <td>2017</td>\n",
              "      <td>1</td>\n",
              "      <td>New York Plumbing</td>\n",
              "      <td>Y</td>\n",
              "      <td>12/08/2017</td>\n",
              "      <td>Y</td>\n",
              "      <td>N</td>\n",
              "      <td>Y</td>\n",
              "      <td>N</td>\n",
              "      <td>Y</td>\n",
              "      <td>N</td>\n",
              "      <td>Y</td>\n",
              "      <td>N</td>\n",
              "      <td>Y</td>\n",
              "      <td>N</td>\n",
              "      <td>Y</td>\n",
              "      <td>N</td>\n",
              "      <td>Y</td>\n",
              "      <td>N</td>\n",
              "      <td>Y</td>\n",
              "      <td>N</td>\n",
              "      <td>Y</td>\n",
              "      <td>N</td>\n",
              "      <td>Y</td>\n",
              "      <td>N</td>\n",
              "      <td>Y</td>\n",
              "      <td>Ambient Group</td>\n",
              "      <td>Y</td>\n",
              "      <td>B</td>\n",
              "      <td>A</td>\n",
              "      <td>A</td>\n",
              "      <td>NaN</td>\n",
              "      <td>40.761042</td>\n",
              "      <td>-73.971176</td>\n",
              "      <td>5.0</td>\n",
              "      <td>4.0</td>\n",
              "      <td>11202.0</td>\n",
              "      <td>1.012928e+09</td>\n",
              "      <td>Midtown-Midtown South</td>\n",
              "      <td>05/11/2018 12:15:27 PM</td>\n",
              "    </tr>\n",
              "  </tbody>\n",
              "</table>\n",
              "</div>"
            ],
            "text/plain": [
              "       BIN  ...              BATCH_DATE\n",
              "0  1034025  ...  05/11/2018 12:15:22 PM\n",
              "1  1087485  ...  05/11/2018 12:15:29 PM\n",
              "2  1082711  ...  05/11/2018 12:15:29 PM\n",
              "3  1038647  ...  05/11/2018 12:15:23 PM\n",
              "4  1088817  ...  05/11/2018 12:15:27 PM\n",
              "\n",
              "[5 rows x 48 columns]"
            ]
          },
          "metadata": {
            "tags": []
          },
          "execution_count": 5
        }
      ]
    },
    {
      "cell_type": "code",
      "metadata": {
        "colab": {
          "base_uri": "https://localhost:8080/"
        },
        "id": "N_NSXpzatG1E",
        "outputId": "7638882c-c80d-4bf5-916c-ab4218535539"
      },
      "source": [
        "print('The rows and columns present in the dataset are ', data.shape)"
      ],
      "execution_count": 12,
      "outputs": [
        {
          "output_type": "stream",
          "text": [
            "The rows and columns present in the dataset are  (13484, 48)\n"
          ],
          "name": "stdout"
        }
      ]
    },
    {
      "cell_type": "markdown",
      "metadata": {
        "id": "9_4ytQlVniV0"
      },
      "source": [
        "### Data Description :\n",
        "\n",
        "- BIN :Department of Buildings Building Identification Number\n",
        "- BOROUGH : Borough of Water tank location\n",
        "- ZIP : Zip of Water tank location\n",
        "- HOUSE_NUM\t: Number on street of water tank location\n",
        "- STREET_NAME : street of water tank location\n",
        "- BLOCK\t: DOB block number of water tank location\n",
        "- LOT : DOB lot number of water tank location\n",
        "- CONFIRMATION_NUM : Provided by DOHMH upon certification\n",
        "- REPORTING_YEAR : Reporting inspection year > 2000; < today\n",
        "- TANK_NUM : Serial listing for multiple tanks ('first' tank = 1, etc.)\n",
        "- INSPECTION_BY_FIRM = Name of professional inspecting firm\n",
        "- INSPECTION_PERFORMED=Certifying inspection performed\n",
        "- INSPECTION_DATE: date of inspection for results being reported\n",
        "- GI_REQ_INTERNAL_STRUCTURE\t: certifying inspection of tank internal structure\n",
        "- GI_RESULT_INTERNAL_STRUCTURE : Certifying fitness of tank internal structure. N = No Unsanitary Conditions; A = Corrective Action Taken\n",
        "- GI_REQ_EXTERNAL_STRUCTURE\t: certifying inspection of tank external structure\n",
        "\n",
        "- GI_RESULT_EXTERNAL_STRUCTURE\t: Certifying fitness of tank external structure. N = No Unsanitary Conditions; A = Corrective Action Taken\n",
        "\n",
        "- GI_REQ_OVERFLOW_PIPES\t: certifying inspection of connected pipes\n",
        "\n",
        "- GI_RESULT_OVERFLOW_PIPES\t: Certifying fitness of connected pipes. N = No Unsanitary Conditions. A = Corrective Action Taken\n",
        "\n",
        "- GI_REQ_ACCESS_LADDERS\t: certifying inspection of access ladders\n",
        "\n",
        "- GI_RESULT_ACCESS_LADDERS : Certifying fitness of access ladders. N = No Unsanitary Conditions; A = Corrective Action Taken\n",
        "\n",
        "- GI_REQ_AIR_VENTS : certifying inspection of air vents\n",
        "\n",
        "- GI_RESULT_AIR_VENTS : Certifying fitness of air vents. N = No Unsanitary Conditions; A = Corrective Action Taken\n",
        "\n",
        "- GI_REQ_ROOF_ACCESS : Certifying inspection of roof access\n",
        "\n",
        "- GI_RESULT_ROOF_ACCESS\t: Certifying roof access. N = No Unsanitary Conditions; A = Corrective Action Taken\n",
        "\n",
        "- SI_REQ_SEDIMENT:certifying inspection of tank for sediment\n",
        "\n",
        "- SI_RESULT_SEDIMENT : Certifying condition of sediment. N = No Unsanitary Conditions; A = Corrective Action Taken\n",
        "\n",
        "- SI_REQ_BIOLOGICAL_GROWTH\t: Certifying inspection for biological growth\n",
        "\n",
        "- SI_RESULT_BIOLOGICAL_GROWTH : Certifying condition of biological growth. N = No Unsanitary Conditions; A = Corrective Action Taken\n",
        "\n",
        "- SI_REQ_DEBRIS_INSECTS\t: certifying inspection for tank debris\n",
        "\n",
        "- SI_RESULT_DEBRIS_INSECTS : Certifying condition re tank debris. N = No Unsanitary Conditions; A = Corrective Action Taken\n",
        "\n",
        "- SI_REQ_RODENT_BIRD : certifying inspection of evidence of rodents or birds\n",
        "\n",
        "- SI_RESULT_RODENT_BIRD\t: Certifying condition for rodents or birds. N = No Unsanitary Conditions; A = Corrective Action Taken\n",
        "\n",
        "- SAMPLE_COLLECTED : certifying water sample was collected\n",
        "\n",
        "- LAB_NAME : Lab analyzing sample for this inspection\n",
        "\n",
        "- NYS_CERTIFIED\t: Confirming lab certifications\n",
        "\n",
        "- ANALYTES : describing analysis performed. B = Bacterial; O=Other\n",
        "\n",
        "- COLIFORM : Certifying lab analysis results for total coliform: A = Absent/None Detected; P = Present\n",
        "\n",
        "- ECOLI\t: Certifying lab analysis results for Ecoli: A = Absent/None Detected; P = Present\n",
        "\n",
        "- MEET_STANDARDS : Certifying other analysis meets health standards.\n",
        "\n",
        "- DELETED\t\n",
        "- LATITUDE\t: Latitude of the water tank. Values calculated by DOHMH based on information provided in certification\n",
        "\n",
        "- LONGITUDE\t: Longitude of the water tank. Values calculated by DOHMH based on information provided in certification\n",
        "\n",
        "- COMMUNITY_BOARD : The Community Board field indicates the New York City Community District where the water tank is located. Values calculated by DOHMH based on information provided in certification\n",
        "\n",
        "- COUNCIL_DISTRICT\t: The Council District field indicates the New York City Council District where the water tank is located. Values calculated by DOHMH based on information provided in certification\n",
        "\n",
        "- CENSUS_TRACT : The Census Tract field indicates the U.S. Census Tract where the water tank is located. Values calculated by DOHMH based on information provided in certification\n",
        "\n",
        "- BBL : The BBL (Borough, Block, and Lot) is a unique identifier for each tax lot in the City. Values calculated by DOHMH based on information provided in certification\n",
        "\n",
        "- NTA : The Neighborhood Tabulation Area field indicates the New York City Neighborhood area where the water tank is located. Values calculated by DOHMH based on information provided in certification\n",
        "\n",
        "- BATCH_DATE : Values calculated by DOHMH based on information provided in certification\n",
        "Date & Time\n"
      ]
    },
    {
      "cell_type": "code",
      "metadata": {
        "colab": {
          "base_uri": "https://localhost:8080/",
          "height": 317
        },
        "id": "IVxBsXLam30p",
        "outputId": "596c4493-407d-4d56-e544-8e2f064de0f4"
      },
      "source": [
        "# let's see the description of the dataset \n",
        "data.describe()"
      ],
      "execution_count": 9,
      "outputs": [
        {
          "output_type": "execute_result",
          "data": {
            "text/html": [
              "<div>\n",
              "<style scoped>\n",
              "    .dataframe tbody tr th:only-of-type {\n",
              "        vertical-align: middle;\n",
              "    }\n",
              "\n",
              "    .dataframe tbody tr th {\n",
              "        vertical-align: top;\n",
              "    }\n",
              "\n",
              "    .dataframe thead th {\n",
              "        text-align: right;\n",
              "    }\n",
              "</style>\n",
              "<table border=\"1\" class=\"dataframe\">\n",
              "  <thead>\n",
              "    <tr style=\"text-align: right;\">\n",
              "      <th></th>\n",
              "      <th>BIN</th>\n",
              "      <th>ZIP</th>\n",
              "      <th>BLOCK</th>\n",
              "      <th>LOT</th>\n",
              "      <th>REPORTING_YEAR</th>\n",
              "      <th>TANK_NUM</th>\n",
              "      <th>LATITUDE</th>\n",
              "      <th>LONGITUDE</th>\n",
              "      <th>COMMUNITY_BOARD</th>\n",
              "      <th>COUNCIL_DISTRICT</th>\n",
              "      <th>CENSUS_TRACT</th>\n",
              "      <th>BBL</th>\n",
              "    </tr>\n",
              "  </thead>\n",
              "  <tbody>\n",
              "    <tr>\n",
              "      <th>count</th>\n",
              "      <td>1.348400e+04</td>\n",
              "      <td>13484.000000</td>\n",
              "      <td>13484.000000</td>\n",
              "      <td>13484.000000</td>\n",
              "      <td>13484.000000</td>\n",
              "      <td>13484.000000</td>\n",
              "      <td>13425.000000</td>\n",
              "      <td>13425.000000</td>\n",
              "      <td>13425.000000</td>\n",
              "      <td>13425.000000</td>\n",
              "      <td>13425.000000</td>\n",
              "      <td>1.342400e+04</td>\n",
              "    </tr>\n",
              "    <tr>\n",
              "      <th>mean</th>\n",
              "      <td>1.313438e+06</td>\n",
              "      <td>10156.861391</td>\n",
              "      <td>1400.702907</td>\n",
              "      <td>1308.553026</td>\n",
              "      <td>2016.011569</td>\n",
              "      <td>1.270320</td>\n",
              "      <td>40.756632</td>\n",
              "      <td>-73.969617</td>\n",
              "      <td>5.805661</td>\n",
              "      <td>6.894227</td>\n",
              "      <td>3292.247598</td>\n",
              "      <td>1.270498e+09</td>\n",
              "    </tr>\n",
              "    <tr>\n",
              "      <th>std</th>\n",
              "      <td>7.700247e+05</td>\n",
              "      <td>360.171788</td>\n",
              "      <td>1419.690313</td>\n",
              "      <td>2817.246492</td>\n",
              "      <td>0.837727</td>\n",
              "      <td>0.831573</td>\n",
              "      <td>0.040509</td>\n",
              "      <td>0.036316</td>\n",
              "      <td>2.856156</td>\n",
              "      <td>8.856212</td>\n",
              "      <td>11076.726650</td>\n",
              "      <td>7.290274e+08</td>\n",
              "    </tr>\n",
              "    <tr>\n",
              "      <th>min</th>\n",
              "      <td>1.000000e+06</td>\n",
              "      <td>10001.000000</td>\n",
              "      <td>0.000000</td>\n",
              "      <td>0.000000</td>\n",
              "      <td>2014.000000</td>\n",
              "      <td>1.000000</td>\n",
              "      <td>40.572169</td>\n",
              "      <td>-74.171260</td>\n",
              "      <td>1.000000</td>\n",
              "      <td>1.000000</td>\n",
              "      <td>1.000000</td>\n",
              "      <td>0.000000e+00</td>\n",
              "    </tr>\n",
              "    <tr>\n",
              "      <th>25%</th>\n",
              "      <td>1.019876e+06</td>\n",
              "      <td>10016.000000</td>\n",
              "      <td>828.000000</td>\n",
              "      <td>11.000000</td>\n",
              "      <td>2015.000000</td>\n",
              "      <td>1.000000</td>\n",
              "      <td>40.739606</td>\n",
              "      <td>-73.989108</td>\n",
              "      <td>5.000000</td>\n",
              "      <td>3.000000</td>\n",
              "      <td>80.000000</td>\n",
              "      <td>1.008430e+09</td>\n",
              "    </tr>\n",
              "    <tr>\n",
              "      <th>50%</th>\n",
              "      <td>1.041088e+06</td>\n",
              "      <td>10022.000000</td>\n",
              "      <td>1231.000000</td>\n",
              "      <td>32.000000</td>\n",
              "      <td>2016.000000</td>\n",
              "      <td>1.000000</td>\n",
              "      <td>40.756924</td>\n",
              "      <td>-73.977582</td>\n",
              "      <td>6.000000</td>\n",
              "      <td>4.000000</td>\n",
              "      <td>124.000000</td>\n",
              "      <td>1.012600e+09</td>\n",
              "    </tr>\n",
              "    <tr>\n",
              "      <th>75%</th>\n",
              "      <td>1.079908e+06</td>\n",
              "      <td>10038.000000</td>\n",
              "      <td>1471.000000</td>\n",
              "      <td>67.000000</td>\n",
              "      <td>2017.000000</td>\n",
              "      <td>1.000000</td>\n",
              "      <td>40.776022</td>\n",
              "      <td>-73.961966</td>\n",
              "      <td>8.000000</td>\n",
              "      <td>6.000000</td>\n",
              "      <td>194.000000</td>\n",
              "      <td>1.015083e+09</td>\n",
              "    </tr>\n",
              "    <tr>\n",
              "      <th>max</th>\n",
              "      <td>5.157402e+06</td>\n",
              "      <td>11694.000000</td>\n",
              "      <td>16177.000000</td>\n",
              "      <td>9078.000000</td>\n",
              "      <td>2018.000000</td>\n",
              "      <td>13.000000</td>\n",
              "      <td>40.908632</td>\n",
              "      <td>-73.713627</td>\n",
              "      <td>81.000000</td>\n",
              "      <td>49.000000</td>\n",
              "      <td>155101.000000</td>\n",
              "      <td>5.028298e+09</td>\n",
              "    </tr>\n",
              "  </tbody>\n",
              "</table>\n",
              "</div>"
            ],
            "text/plain": [
              "                BIN           ZIP  ...   CENSUS_TRACT           BBL\n",
              "count  1.348400e+04  13484.000000  ...   13425.000000  1.342400e+04\n",
              "mean   1.313438e+06  10156.861391  ...    3292.247598  1.270498e+09\n",
              "std    7.700247e+05    360.171788  ...   11076.726650  7.290274e+08\n",
              "min    1.000000e+06  10001.000000  ...       1.000000  0.000000e+00\n",
              "25%    1.019876e+06  10016.000000  ...      80.000000  1.008430e+09\n",
              "50%    1.041088e+06  10022.000000  ...     124.000000  1.012600e+09\n",
              "75%    1.079908e+06  10038.000000  ...     194.000000  1.015083e+09\n",
              "max    5.157402e+06  11694.000000  ...  155101.000000  5.028298e+09\n",
              "\n",
              "[8 rows x 12 columns]"
            ]
          },
          "metadata": {
            "tags": []
          },
          "execution_count": 9
        }
      ]
    },
    {
      "cell_type": "code",
      "metadata": {
        "colab": {
          "base_uri": "https://localhost:8080/"
        },
        "id": "ER9YX2cfsIc9",
        "outputId": "ae988966-834f-4aba-db9f-a7a1375be8ab"
      },
      "source": [
        "data.info()"
      ],
      "execution_count": 10,
      "outputs": [
        {
          "output_type": "stream",
          "text": [
            "<class 'pandas.core.frame.DataFrame'>\n",
            "RangeIndex: 13484 entries, 0 to 13483\n",
            "Data columns (total 48 columns):\n",
            " #   Column                        Non-Null Count  Dtype  \n",
            "---  ------                        --------------  -----  \n",
            " 0   BIN                           13484 non-null  int64  \n",
            " 1   BOROUGH                       13484 non-null  object \n",
            " 2   ZIP                           13484 non-null  int64  \n",
            " 3   HOUSE_NUM                     13484 non-null  object \n",
            " 4   STREET_NAME                   13484 non-null  object \n",
            " 5   BLOCK                         13484 non-null  int64  \n",
            " 6   LOT                           13484 non-null  int64  \n",
            " 7   CONFIRMATION_NUM              13484 non-null  object \n",
            " 8   REPORTING_YEAR                13484 non-null  int64  \n",
            " 9   TANK_NUM                      13484 non-null  int64  \n",
            " 10  INSPECTION_BY_FIRM            13482 non-null  object \n",
            " 11  INSPECTION_PERFORMED          13484 non-null  object \n",
            " 12  INSPECTION_DATE               13483 non-null  object \n",
            " 13  GI_REQ_INTERNAL_STRUCTURE     13484 non-null  object \n",
            " 14  GI_RESULT_INTERNAL_STRUCTURE  13481 non-null  object \n",
            " 15  GI_REQ_EXTERNAL_STRUCTURE     13484 non-null  object \n",
            " 16  GI_RESULT_EXTERNAL_STRUCTURE  13481 non-null  object \n",
            " 17  GI_REQ_OVERFLOW_PIPES         13484 non-null  object \n",
            " 18  GI_RESULT_OVERFLOW_PIPES      13479 non-null  object \n",
            " 19  GI_REQ_ACCESS_LADDERS         13484 non-null  object \n",
            " 20  GI_RESULT_ACCESS_LADDERS      13478 non-null  object \n",
            " 21  GI_REQ_AIR_VENTS              13484 non-null  object \n",
            " 22  GI_RESULT_AIR_VENTS           13479 non-null  object \n",
            " 23  GI_REQ_ROOF_ACCESS            13484 non-null  object \n",
            " 24  GI_RESULT_ROOF_ACCESS         13472 non-null  object \n",
            " 25  SI_REQ_SEDIMENT               13484 non-null  object \n",
            " 26  SI_RESULT_SEDIMENT            13481 non-null  object \n",
            " 27  SI_REQ_BIOLOGICAL_GROWTH      13484 non-null  object \n",
            " 28  SI_RESULT_BIOLOGICAL_GROWTH   13478 non-null  object \n",
            " 29  SI_REQ_DEBRIS_INSECTS         13484 non-null  object \n",
            " 30  SI_RESULT_DEBRIS_INSECTS      13478 non-null  object \n",
            " 31  SI_REQ_RODENT_BIRD            13484 non-null  object \n",
            " 32  SI_RESULT_RODENT_BIRD         13478 non-null  object \n",
            " 33  SAMPLE_COLLECTED              13484 non-null  object \n",
            " 34  LAB_NAME                      13465 non-null  object \n",
            " 35  NYS_CERTIFIED                 13466 non-null  object \n",
            " 36  ANALYTES                      13456 non-null  object \n",
            " 37  COLIFORM                      13456 non-null  object \n",
            " 38  ECOLI                         13456 non-null  object \n",
            " 39  MEET_STANDARDS                3717 non-null   object \n",
            " 40  LATITUDE                      13425 non-null  float64\n",
            " 41  LONGITUDE                     13425 non-null  float64\n",
            " 42  COMMUNITY_BOARD               13425 non-null  float64\n",
            " 43  COUNCIL_DISTRICT              13425 non-null  float64\n",
            " 44  CENSUS_TRACT                  13425 non-null  float64\n",
            " 45  BBL                           13424 non-null  float64\n",
            " 46  NTA                           13425 non-null  object \n",
            " 47  BATCH_DATE                    13484 non-null  object \n",
            "dtypes: float64(6), int64(6), object(36)\n",
            "memory usage: 4.9+ MB\n"
          ],
          "name": "stdout"
        }
      ]
    },
    {
      "cell_type": "code",
      "metadata": {
        "colab": {
          "base_uri": "https://localhost:8080/"
        },
        "id": "JnJTMkRXsZ8Z",
        "outputId": "909128bd-cc44-423e-a18e-ed4efd68932a"
      },
      "source": [
        "# let's check the frequency of dtypes \n",
        "\n",
        "data.dtypes.value_counts()"
      ],
      "execution_count": 11,
      "outputs": [
        {
          "output_type": "execute_result",
          "data": {
            "text/plain": [
              "object     36\n",
              "int64       6\n",
              "float64     6\n",
              "dtype: int64"
            ]
          },
          "metadata": {
            "tags": []
          },
          "execution_count": 11
        }
      ]
    },
    {
      "cell_type": "markdown",
      "metadata": {
        "id": "LU16B3wPspfu"
      },
      "source": [
        "- here we can see the 12 numerical columns and 36 categorical/text columns are present \n",
        "\n",
        "\n",
        "### Let's explore the dataset"
      ]
    },
    {
      "cell_type": "code",
      "metadata": {
        "colab": {
          "base_uri": "https://localhost:8080/"
        },
        "id": "K-ZD1GXuskt-",
        "outputId": "52958b02-a727-4018-b485-3baf6c8e8ab2"
      },
      "source": [
        "# let's check if the null values are present ? \n",
        "print(data.isnull().sum(), '\\n\\n')\n",
        "print('So it is visible that null values are present. with exploring every \\\n",
        "variable we will also deal with the null values')"
      ],
      "execution_count": 16,
      "outputs": [
        {
          "output_type": "stream",
          "text": [
            "BIN                                0\n",
            "BOROUGH                            0\n",
            "ZIP                                0\n",
            "HOUSE_NUM                          0\n",
            "STREET_NAME                        0\n",
            "BLOCK                              0\n",
            "LOT                                0\n",
            "CONFIRMATION_NUM                   0\n",
            "REPORTING_YEAR                     0\n",
            "TANK_NUM                           0\n",
            "INSPECTION_BY_FIRM                 2\n",
            "INSPECTION_PERFORMED               0\n",
            "INSPECTION_DATE                    1\n",
            "GI_REQ_INTERNAL_STRUCTURE          0\n",
            "GI_RESULT_INTERNAL_STRUCTURE       3\n",
            "GI_REQ_EXTERNAL_STRUCTURE          0\n",
            "GI_RESULT_EXTERNAL_STRUCTURE       3\n",
            "GI_REQ_OVERFLOW_PIPES              0\n",
            "GI_RESULT_OVERFLOW_PIPES           5\n",
            "GI_REQ_ACCESS_LADDERS              0\n",
            "GI_RESULT_ACCESS_LADDERS           6\n",
            "GI_REQ_AIR_VENTS                   0\n",
            "GI_RESULT_AIR_VENTS                5\n",
            "GI_REQ_ROOF_ACCESS                 0\n",
            "GI_RESULT_ROOF_ACCESS             12\n",
            "SI_REQ_SEDIMENT                    0\n",
            "SI_RESULT_SEDIMENT                 3\n",
            "SI_REQ_BIOLOGICAL_GROWTH           0\n",
            "SI_RESULT_BIOLOGICAL_GROWTH        6\n",
            "SI_REQ_DEBRIS_INSECTS              0\n",
            "SI_RESULT_DEBRIS_INSECTS           6\n",
            "SI_REQ_RODENT_BIRD                 0\n",
            "SI_RESULT_RODENT_BIRD              6\n",
            "SAMPLE_COLLECTED                   0\n",
            "LAB_NAME                          19\n",
            "NYS_CERTIFIED                     18\n",
            "ANALYTES                          28\n",
            "COLIFORM                          28\n",
            "ECOLI                             28\n",
            "MEET_STANDARDS                  9767\n",
            "LATITUDE                          59\n",
            "LONGITUDE                         59\n",
            "COMMUNITY_BOARD                   59\n",
            "COUNCIL_DISTRICT                  59\n",
            "CENSUS_TRACT                      59\n",
            "BBL                               60\n",
            "NTA                               59\n",
            "BATCH_DATE                         0\n",
            "dtype: int64 \n",
            "\n",
            "\n",
            "So it is visible that null values are present. with exploring every variable we will also deal with the null values\n"
          ],
          "name": "stdout"
        }
      ]
    },
    {
      "cell_type": "markdown",
      "metadata": {
        "id": "YW44JRf3xYrd"
      },
      "source": [
        "#### UNIVARIATE ANALYSIS OF CATEGORICAL VARIABLES "
      ]
    },
    {
      "cell_type": "code",
      "metadata": {
        "colab": {
          "base_uri": "https://localhost:8080/"
        },
        "id": "1Owvv0mmuWZv",
        "outputId": "342d9e67-ebfb-46db-f908-e1b0ad03983f"
      },
      "source": [
        "#BOROUGH : Borough of Water tank location\n",
        "data['BOROUGH'].value_counts()"
      ],
      "execution_count": 17,
      "outputs": [
        {
          "output_type": "execute_result",
          "data": {
            "text/plain": [
              "MANHATTAN        11722\n",
              "BROOKLYN           704\n",
              "BRONX              570\n",
              "QUEENS             478\n",
              "STATEN ISLAND       10\n",
              "Name: BOROUGH, dtype: int64"
            ]
          },
          "metadata": {
            "tags": []
          },
          "execution_count": 17
        }
      ]
    },
    {
      "cell_type": "code",
      "metadata": {
        "colab": {
          "base_uri": "https://localhost:8080/",
          "height": 567
        },
        "id": "bZN5vODxvKOD",
        "outputId": "de3a7776-fce4-4558-d9a6-6043a9f66ff1"
      },
      "source": [
        "f, ax = plt.subplots(1, 2, figsize=(18, 8))\n",
        "data['BOROUGH'].value_counts().plot.pie( autopct = '%1.1f%%',\n",
        "                                         ax=ax[0], shadow=True)\n",
        "ax[0].set_title('BOROUGH')\n",
        "ax[0].set_ylabel('')\n",
        "sns.countplot('BOROUGH', data=data, ax=ax[1])\n",
        "ax[1].set_title('BOROUGH')\n",
        "plt.show()"
      ],
      "execution_count": 25,
      "outputs": [
        {
          "output_type": "stream",
          "text": [
            "/usr/local/lib/python3.6/dist-packages/seaborn/_decorators.py:43: FutureWarning: Pass the following variable as a keyword arg: x. From version 0.12, the only valid positional argument will be `data`, and passing other arguments without an explicit keyword will result in an error or misinterpretation.\n",
            "  FutureWarning\n"
          ],
          "name": "stderr"
        },
        {
          "output_type": "display_data",
          "data": {
            "image/png": "[encoded data removed]",
            "text/plain": [
              "<Figure size 1296x576 with 2 Axes>"
            ]
          },
          "metadata": {
            "tags": [],
            "needs_background": "light"
          }
        }
      ]
    },
    {
      "cell_type": "markdown",
      "metadata": {
        "id": "-KDKiGirw72O"
      },
      "source": [
        "- The Manhattan is dominating with 86.7% for presence\n",
        "- while STATEN ISLAND is only of 0.1% "
      ]
    },
    {
      "cell_type": "code",
      "metadata": {
        "colab": {
          "base_uri": "https://localhost:8080/"
        },
        "id": "rs6ZVi9Bvaxo",
        "outputId": "51bd2299-fe41-420a-a237-5f8610948b9d"
      },
      "source": [
        "# exploring : \n",
        "\n",
        "print(data.INSPECTION_BY_FIRM.value_counts())\n",
        "print(\"\\n\\nFrom the value_counts we can see the because of typos there are repeation of the firms now have to change it to the single name\")"
      ],
      "execution_count": 35,
      "outputs": [
        {
          "output_type": "stream",
          "text": [
            "ROSENWACH TANK CO. LLC                  5883\n",
            "ISSEKS BROS INC                         2826\n",
            "ISSEKS BROS. INC.                       1230\n",
            "AMERICAN PIPE & TANK                     923\n",
            "ISSEKS BROS., INC.                       235\n",
            "                                        ... \n",
            "ISSEKS  BROS. INC                          1\n",
            "CHEM AQUA                                  1\n",
            "AMERICAN PIEP & TANK LINING CO., INC       1\n",
            "ROCKROSE DEVELOPMENT                       1\n",
            "FORD TANK MAINTENANCE CO                   1\n",
            "Name: INSPECTION_BY_FIRM, Length: 326, dtype: int64\n",
            "\n",
            "\n",
            "From the value_counts we can see the because of typos there are repeation of the firms now have to change it to the single name\n"
          ],
          "name": "stdout"
        }
      ]
    },
    {
      "cell_type": "code",
      "metadata": {
        "colab": {
          "base_uri": "https://localhost:8080/"
        },
        "id": "TZh2dMJAxuzZ",
        "outputId": "71383749-a879-460c-d554-fed6b10ad838"
      },
      "source": [
        ""
      ],
      "execution_count": 70,
      "outputs": [
        {
          "output_type": "execute_result",
          "data": {
            "text/plain": [
              "ISSEKS BROS INC          2826\n",
              "ISSEKS BROS. INC.        1230\n",
              "ISSEKS BROS., INC.        235\n",
              "ISSEKS BROS. INC           76\n",
              "ISSEKS BROTHERS, INC.      62\n",
              "ISSEKS BROTHERS            62\n",
              "ISSEKS BROS                56\n",
              "ISSEKS BROS INC.           47\n",
              "ISSEKS                     42\n",
              "ISSEKS BROTHERS INC.       36\n",
              "ISSEKS BROS.               33\n",
              "ISSEKS BROTHERS INC        21\n",
              "ISSEKS BROTHERS, INC        9\n",
              "ISSEKS BROS.INC.            4\n",
              "ISSEKS BROS, INC            4\n",
              "ISSEKS BROS. INCL           3\n",
              "ISSEKS BROS, INC.           2\n",
              "ISSEKS BROS. INC,           2\n",
              "ISSEKS.COM                  1\n",
              "ISSEKS BROS INC,            1\n",
              "ISSEKS BORS. INC.           1\n",
              "ISSEKS BROS.COM             1\n",
              "ISSEKS BROS. CO.            1\n",
              "ISSEKS  BROS. INC.          1\n",
              "ISSEKS  BROS. INC           1\n",
              "ISSEKS BROTHERS. INC.       1\n",
              "ISSEKS  INC.                1\n",
              "ISSEKS BROTHER INC          1\n",
              "ISSEKS BROS.INC             1\n",
              "ISSEKS BROTHERS IN.         1\n",
              "ISSEKS BROS. IN.            1\n",
              "ISSEKS BOS. INC.            1\n",
              "ISSEKS BROS  INC            1\n",
              "ISSEKS BROTHERES            1\n",
              "ISSEKS BROS., INC           1\n",
              "ISSEKS BROTHER              1\n",
              "ISSEKS BORS                 1\n",
              "Name: INSPECTION_BY_FIRM, dtype: int64"
            ]
          },
          "metadata": {
            "tags": []
          },
          "execution_count": 70
        }
      ]
    },
    {
      "cell_type": "code",
      "metadata": {
        "colab": {
          "base_uri": "https://localhost:8080/"
        },
        "id": "v6TibiDqzuxX",
        "outputId": "0a005352-bd70-4d6a-e203-66e0c0d15304"
      },
      "source": [
        "print(data.INSPECTION_BY_FIRM.value_counts())"
      ],
      "execution_count": 56,
      "outputs": [
        {
          "output_type": "stream",
          "text": [
            "ROSENWACH TANK CO. LLC                  5883\n",
            "ISSEKS BROS INC                         2826\n",
            "ISSEKS BROS. INC.                       1230\n",
            "AMERICAN PIPE & TANK                     923\n",
            "ISSEKS BROS., INC.                       235\n",
            "                                        ... \n",
            "ISSEKS  BROS. INC                          1\n",
            "CHEM AQUA                                  1\n",
            "AMERICAN PIEP & TANK LINING CO., INC       1\n",
            "ROCKROSE DEVELOPMENT                       1\n",
            "FORD TANK MAINTENANCE CO                   1\n",
            "Name: INSPECTION_BY_FIRM, Length: 326, dtype: int64\n"
          ],
          "name": "stdout"
        }
      ]
    },
    {
      "cell_type": "code",
      "metadata": {
        "colab": {
          "base_uri": "https://localhost:8080/"
        },
        "id": "e81HhIIn4MRO",
        "outputId": "d81d9237-3a6e-4481-8d53-1f6eaf33cc62"
      },
      "source": [
        ""
      ],
      "execution_count": 61,
      "outputs": [
        {
          "output_type": "stream",
          "text": [
            "/usr/local/lib/python3.6/dist-packages/pandas/core/indexing.py:1763: SettingWithCopyWarning: \n",
            "A value is trying to be set on a copy of a slice from a DataFrame.\n",
            "Try using .loc[row_indexer,col_indexer] = value instead\n",
            "\n",
            "See the caveats in the documentation: https://pandas.pydata.org/pandas-docs/stable/user_guide/indexing.html#returning-a-view-versus-a-copy\n",
            "  isetter(loc, value)\n"
          ],
          "name": "stderr"
        }
      ]
    },
    {
      "cell_type": "code",
      "metadata": {
        "colab": {
          "base_uri": "https://localhost:8080/",
          "height": 130
        },
        "id": "HW5Go4AM44ph",
        "outputId": "276a1c23-cb27-4fa7-e07a-6f00a0ad825a"
      },
      "source": [
        ""
      ],
      "execution_count": 68,
      "outputs": [
        {
          "output_type": "error",
          "ename": "SyntaxError",
          "evalue": "ignored",
          "traceback": [
            "\u001b[0;36m  File \u001b[0;32m\"<ipython-input-68-3ad0075940af>\"\u001b[0;36m, line \u001b[0;32m1\u001b[0m\n\u001b[0;31m    data['INSPECTION_BY_FIRM'].apply(lambda x : x = 'ISSEKS BROS INC' if x.upper().contains('ISSEKS', na=False) == True)\u001b[0m\n\u001b[0m                                                                                                                       ^\u001b[0m\n\u001b[0;31mSyntaxError\u001b[0m\u001b[0;31m:\u001b[0m invalid syntax\n"
          ]
        }
      ]
    },
    {
      "cell_type": "code",
      "metadata": {
        "colab": {
          "base_uri": "https://localhost:8080/",
          "height": 429
        },
        "id": "gs0HJxey9-00",
        "outputId": "72da509b-fce3-42a7-fbf4-0b67919194a8"
      },
      "source": [
        "#CONFIRMATION_NUM\n",
        "f, ax = plt.subplots(1, 2, figsize=(18, 8))\n",
        "data['CONFIRMATION_NUM'].value_counts().plot.pie( autopct = '%1.1f%%',\n",
        "                                         ax=ax[0], shadow=True)\n",
        "ax[0].set_title('CONFIRMATION_NUM')\n",
        "ax[0].set_ylabel('')\n",
        "sns.countplot('CONFIRMATION_NUM', data=data, ax=ax[1])\n",
        "ax[1].set_title('CONFIRMATION_NUM')\n",
        "plt.show()"
      ],
      "execution_count": 71,
      "outputs": [
        {
          "output_type": "stream",
          "text": [
            "/usr/local/lib/python3.6/dist-packages/seaborn/_decorators.py:43: FutureWarning: Pass the following variable as a keyword arg: x. From version 0.12, the only valid positional argument will be `data`, and passing other arguments without an explicit keyword will result in an error or misinterpretation.\n",
            "  FutureWarning\n"
          ],
          "name": "stderr"
        },
        {
          "output_type": "error",
          "ename": "KeyboardInterrupt",
          "evalue": "ignored",
          "traceback": [
            "\u001b[0;31m---------------------------------------------------------------------------\u001b[0m",
            "\u001b[0;31mKeyboardInterrupt\u001b[0m                         Traceback (most recent call last)",
            "\u001b[0;32m<ipython-input-71-3db8f1b6ad96>\u001b[0m in \u001b[0;36m<module>\u001b[0;34m()\u001b[0m\n\u001b[1;32m      7\u001b[0m \u001b[0msns\u001b[0m\u001b[0;34m.\u001b[0m\u001b[0mcountplot\u001b[0m\u001b[0;34m(\u001b[0m\u001b[0;34m'CONFIRMATION_NUM'\u001b[0m\u001b[0;34m,\u001b[0m \u001b[0mdata\u001b[0m\u001b[0;34m=\u001b[0m\u001b[0mdata\u001b[0m\u001b[0;34m,\u001b[0m \u001b[0max\u001b[0m\u001b[0;34m=\u001b[0m\u001b[0max\u001b[0m\u001b[0;34m[\u001b[0m\u001b[0;36m1\u001b[0m\u001b[0;34m]\u001b[0m\u001b[0;34m)\u001b[0m\u001b[0;34m\u001b[0m\u001b[0;34m\u001b[0m\u001b[0m\n\u001b[1;32m      8\u001b[0m \u001b[0max\u001b[0m\u001b[0;34m[\u001b[0m\u001b[0;36m1\u001b[0m\u001b[0;34m]\u001b[0m\u001b[0;34m.\u001b[0m\u001b[0mset_title\u001b[0m\u001b[0;34m(\u001b[0m\u001b[0;34m'CONFIRMATION_NUM'\u001b[0m\u001b[0;34m)\u001b[0m\u001b[0;34m\u001b[0m\u001b[0;34m\u001b[0m\u001b[0m\n\u001b[0;32m----> 9\u001b[0;31m \u001b[0mplt\u001b[0m\u001b[0;34m.\u001b[0m\u001b[0mshow\u001b[0m\u001b[0;34m(\u001b[0m\u001b[0;34m)\u001b[0m\u001b[0;34m\u001b[0m\u001b[0;34m\u001b[0m\u001b[0m\n\u001b[0m",
            "\u001b[0;32m/usr/local/lib/python3.6/dist-packages/matplotlib/pyplot.py\u001b[0m in \u001b[0;36mshow\u001b[0;34m(*args, **kw)\u001b[0m\n\u001b[1;32m    270\u001b[0m     \"\"\"\n\u001b[1;32m    271\u001b[0m     \u001b[0;32mglobal\u001b[0m \u001b[0m_show\u001b[0m\u001b[0;34m\u001b[0m\u001b[0;34m\u001b[0m\u001b[0m\n\u001b[0;32m--> 272\u001b[0;31m     \u001b[0;32mreturn\u001b[0m \u001b[0m_show\u001b[0m\u001b[0;34m(\u001b[0m\u001b[0;34m*\u001b[0m\u001b[0margs\u001b[0m\u001b[0;34m,\u001b[0m \u001b[0;34m**\u001b[0m\u001b[0mkw\u001b[0m\u001b[0;34m)\u001b[0m\u001b[0;34m\u001b[0m\u001b[0;34m\u001b[0m\u001b[0m\n\u001b[0m\u001b[1;32m    273\u001b[0m \u001b[0;34m\u001b[0m\u001b[0m\n\u001b[1;32m    274\u001b[0m \u001b[0;34m\u001b[0m\u001b[0m\n",
            "\u001b[0;32m/usr/local/lib/python3.6/dist-packages/ipykernel/pylab/backend_inline.py\u001b[0m in \u001b[0;36mshow\u001b[0;34m(close, block)\u001b[0m\n\u001b[1;32m     37\u001b[0m             display(\n\u001b[1;32m     38\u001b[0m                 \u001b[0mfigure_manager\u001b[0m\u001b[0;34m.\u001b[0m\u001b[0mcanvas\u001b[0m\u001b[0;34m.\u001b[0m\u001b[0mfigure\u001b[0m\u001b[0;34m,\u001b[0m\u001b[0;34m\u001b[0m\u001b[0;34m\u001b[0m\u001b[0m\n\u001b[0;32m---> 39\u001b[0;31m                 \u001b[0mmetadata\u001b[0m\u001b[0;34m=\u001b[0m\u001b[0m_fetch_figure_metadata\u001b[0m\u001b[0;34m(\u001b[0m\u001b[0mfigure_manager\u001b[0m\u001b[0;34m.\u001b[0m\u001b[0mcanvas\u001b[0m\u001b[0;34m.\u001b[0m\u001b[0mfigure\u001b[0m\u001b[0;34m)\u001b[0m\u001b[0;34m\u001b[0m\u001b[0;34m\u001b[0m\u001b[0m\n\u001b[0m\u001b[1;32m     40\u001b[0m             )\n\u001b[1;32m     41\u001b[0m     \u001b[0;32mfinally\u001b[0m\u001b[0;34m:\u001b[0m\u001b[0;34m\u001b[0m\u001b[0;34m\u001b[0m\u001b[0m\n",
            "\u001b[0;32m/usr/local/lib/python3.6/dist-packages/IPython/core/display.py\u001b[0m in \u001b[0;36mdisplay\u001b[0;34m(*objs, **kwargs)\u001b[0m\n\u001b[1;32m    304\u001b[0m             \u001b[0mpublish_display_data\u001b[0m\u001b[0;34m(\u001b[0m\u001b[0mdata\u001b[0m\u001b[0;34m=\u001b[0m\u001b[0mobj\u001b[0m\u001b[0;34m,\u001b[0m \u001b[0mmetadata\u001b[0m\u001b[0;34m=\u001b[0m\u001b[0mmetadata\u001b[0m\u001b[0;34m,\u001b[0m \u001b[0;34m**\u001b[0m\u001b[0mkwargs\u001b[0m\u001b[0;34m)\u001b[0m\u001b[0;34m\u001b[0m\u001b[0;34m\u001b[0m\u001b[0m\n\u001b[1;32m    305\u001b[0m         \u001b[0;32melse\u001b[0m\u001b[0;34m:\u001b[0m\u001b[0;34m\u001b[0m\u001b[0;34m\u001b[0m\u001b[0m\n\u001b[0;32m--> 306\u001b[0;31m             \u001b[0mformat_dict\u001b[0m\u001b[0;34m,\u001b[0m \u001b[0mmd_dict\u001b[0m \u001b[0;34m=\u001b[0m \u001b[0mformat\u001b[0m\u001b[0;34m(\u001b[0m\u001b[0mobj\u001b[0m\u001b[0;34m,\u001b[0m \u001b[0minclude\u001b[0m\u001b[0;34m=\u001b[0m\u001b[0minclude\u001b[0m\u001b[0;34m,\u001b[0m \u001b[0mexclude\u001b[0m\u001b[0;34m=\u001b[0m\u001b[0mexclude\u001b[0m\u001b[0;34m)\u001b[0m\u001b[0;34m\u001b[0m\u001b[0;34m\u001b[0m\u001b[0m\n\u001b[0m\u001b[1;32m    307\u001b[0m             \u001b[0;32mif\u001b[0m \u001b[0;32mnot\u001b[0m \u001b[0mformat_dict\u001b[0m\u001b[0;34m:\u001b[0m\u001b[0;34m\u001b[0m\u001b[0;34m\u001b[0m\u001b[0m\n\u001b[1;32m    308\u001b[0m                 \u001b[0;31m# nothing to display (e.g. _ipython_display_ took over)\u001b[0m\u001b[0;34m\u001b[0m\u001b[0;34m\u001b[0m\u001b[0;34m\u001b[0m\u001b[0m\n",
            "\u001b[0;32m/usr/local/lib/python3.6/dist-packages/IPython/core/formatters.py\u001b[0m in \u001b[0;36mformat\u001b[0;34m(self, obj, include, exclude)\u001b[0m\n\u001b[1;32m    171\u001b[0m             \u001b[0mmd\u001b[0m \u001b[0;34m=\u001b[0m \u001b[0;32mNone\u001b[0m\u001b[0;34m\u001b[0m\u001b[0;34m\u001b[0m\u001b[0m\n\u001b[1;32m    172\u001b[0m             \u001b[0;32mtry\u001b[0m\u001b[0;34m:\u001b[0m\u001b[0;34m\u001b[0m\u001b[0;34m\u001b[0m\u001b[0m\n\u001b[0;32m--> 173\u001b[0;31m                 \u001b[0mdata\u001b[0m \u001b[0;34m=\u001b[0m \u001b[0mformatter\u001b[0m\u001b[0;34m(\u001b[0m\u001b[0mobj\u001b[0m\u001b[0;34m)\u001b[0m\u001b[0;34m\u001b[0m\u001b[0;34m\u001b[0m\u001b[0m\n\u001b[0m\u001b[1;32m    174\u001b[0m             \u001b[0;32mexcept\u001b[0m\u001b[0;34m:\u001b[0m\u001b[0;34m\u001b[0m\u001b[0;34m\u001b[0m\u001b[0m\n\u001b[1;32m    175\u001b[0m                 \u001b[0;31m# FIXME: log the exception\u001b[0m\u001b[0;34m\u001b[0m\u001b[0;34m\u001b[0m\u001b[0;34m\u001b[0m\u001b[0m\n",
            "\u001b[0;32m<decorator-gen-9>\u001b[0m in \u001b[0;36m__call__\u001b[0;34m(self, obj)\u001b[0m\n",
            "\u001b[0;32m/usr/local/lib/python3.6/dist-packages/IPython/core/formatters.py\u001b[0m in \u001b[0;36mcatch_format_error\u001b[0;34m(method, self, *args, **kwargs)\u001b[0m\n\u001b[1;32m    215\u001b[0m     \u001b[0;34m\"\"\"show traceback on failed format call\"\"\"\u001b[0m\u001b[0;34m\u001b[0m\u001b[0;34m\u001b[0m\u001b[0m\n\u001b[1;32m    216\u001b[0m     \u001b[0;32mtry\u001b[0m\u001b[0;34m:\u001b[0m\u001b[0;34m\u001b[0m\u001b[0;34m\u001b[0m\u001b[0m\n\u001b[0;32m--> 217\u001b[0;31m         \u001b[0mr\u001b[0m \u001b[0;34m=\u001b[0m \u001b[0mmethod\u001b[0m\u001b[0;34m(\u001b[0m\u001b[0mself\u001b[0m\u001b[0;34m,\u001b[0m \u001b[0;34m*\u001b[0m\u001b[0margs\u001b[0m\u001b[0;34m,\u001b[0m \u001b[0;34m**\u001b[0m\u001b[0mkwargs\u001b[0m\u001b[0;34m)\u001b[0m\u001b[0;34m\u001b[0m\u001b[0;34m\u001b[0m\u001b[0m\n\u001b[0m\u001b[1;32m    218\u001b[0m     \u001b[0;32mexcept\u001b[0m \u001b[0mNotImplementedError\u001b[0m\u001b[0;34m:\u001b[0m\u001b[0;34m\u001b[0m\u001b[0;34m\u001b[0m\u001b[0m\n\u001b[1;32m    219\u001b[0m         \u001b[0;31m# don't warn on NotImplementedErrors\u001b[0m\u001b[0;34m\u001b[0m\u001b[0;34m\u001b[0m\u001b[0;34m\u001b[0m\u001b[0m\n",
            "\u001b[0;32m/usr/local/lib/python3.6/dist-packages/IPython/core/formatters.py\u001b[0m in \u001b[0;36m__call__\u001b[0;34m(self, obj)\u001b[0m\n\u001b[1;32m    332\u001b[0m                 \u001b[0;32mpass\u001b[0m\u001b[0;34m\u001b[0m\u001b[0;34m\u001b[0m\u001b[0m\n\u001b[1;32m    333\u001b[0m             \u001b[0;32melse\u001b[0m\u001b[0;34m:\u001b[0m\u001b[0;34m\u001b[0m\u001b[0;34m\u001b[0m\u001b[0m\n\u001b[0;32m--> 334\u001b[0;31m                 \u001b[0;32mreturn\u001b[0m \u001b[0mprinter\u001b[0m\u001b[0;34m(\u001b[0m\u001b[0mobj\u001b[0m\u001b[0;34m)\u001b[0m\u001b[0;34m\u001b[0m\u001b[0;34m\u001b[0m\u001b[0m\n\u001b[0m\u001b[1;32m    335\u001b[0m             \u001b[0;31m# Finally look for special method names\u001b[0m\u001b[0;34m\u001b[0m\u001b[0;34m\u001b[0m\u001b[0;34m\u001b[0m\u001b[0m\n\u001b[1;32m    336\u001b[0m             \u001b[0mmethod\u001b[0m \u001b[0;34m=\u001b[0m \u001b[0mget_real_method\u001b[0m\u001b[0;34m(\u001b[0m\u001b[0mobj\u001b[0m\u001b[0;34m,\u001b[0m \u001b[0mself\u001b[0m\u001b[0;34m.\u001b[0m\u001b[0mprint_method\u001b[0m\u001b[0;34m)\u001b[0m\u001b[0;34m\u001b[0m\u001b[0;34m\u001b[0m\u001b[0m\n",
            "\u001b[0;32m/usr/local/lib/python3.6/dist-packages/IPython/core/pylabtools.py\u001b[0m in \u001b[0;36m<lambda>\u001b[0;34m(fig)\u001b[0m\n\u001b[1;32m    239\u001b[0m \u001b[0;34m\u001b[0m\u001b[0m\n\u001b[1;32m    240\u001b[0m     \u001b[0;32mif\u001b[0m \u001b[0;34m'png'\u001b[0m \u001b[0;32min\u001b[0m \u001b[0mformats\u001b[0m\u001b[0;34m:\u001b[0m\u001b[0;34m\u001b[0m\u001b[0;34m\u001b[0m\u001b[0m\n\u001b[0;32m--> 241\u001b[0;31m         \u001b[0mpng_formatter\u001b[0m\u001b[0;34m.\u001b[0m\u001b[0mfor_type\u001b[0m\u001b[0;34m(\u001b[0m\u001b[0mFigure\u001b[0m\u001b[0;34m,\u001b[0m \u001b[0;32mlambda\u001b[0m \u001b[0mfig\u001b[0m\u001b[0;34m:\u001b[0m \u001b[0mprint_figure\u001b[0m\u001b[0;34m(\u001b[0m\u001b[0mfig\u001b[0m\u001b[0;34m,\u001b[0m \u001b[0;34m'png'\u001b[0m\u001b[0;34m,\u001b[0m \u001b[0;34m**\u001b[0m\u001b[0mkwargs\u001b[0m\u001b[0;34m)\u001b[0m\u001b[0;34m)\u001b[0m\u001b[0;34m\u001b[0m\u001b[0;34m\u001b[0m\u001b[0m\n\u001b[0m\u001b[1;32m    242\u001b[0m     \u001b[0;32mif\u001b[0m \u001b[0;34m'retina'\u001b[0m \u001b[0;32min\u001b[0m \u001b[0mformats\u001b[0m \u001b[0;32mor\u001b[0m \u001b[0;34m'png2x'\u001b[0m \u001b[0;32min\u001b[0m \u001b[0mformats\u001b[0m\u001b[0;34m:\u001b[0m\u001b[0;34m\u001b[0m\u001b[0;34m\u001b[0m\u001b[0m\n\u001b[1;32m    243\u001b[0m         \u001b[0mpng_formatter\u001b[0m\u001b[0;34m.\u001b[0m\u001b[0mfor_type\u001b[0m\u001b[0;34m(\u001b[0m\u001b[0mFigure\u001b[0m\u001b[0;34m,\u001b[0m \u001b[0;32mlambda\u001b[0m \u001b[0mfig\u001b[0m\u001b[0;34m:\u001b[0m \u001b[0mretina_figure\u001b[0m\u001b[0;34m(\u001b[0m\u001b[0mfig\u001b[0m\u001b[0;34m,\u001b[0m \u001b[0;34m**\u001b[0m\u001b[0mkwargs\u001b[0m\u001b[0;34m)\u001b[0m\u001b[0;34m)\u001b[0m\u001b[0;34m\u001b[0m\u001b[0;34m\u001b[0m\u001b[0m\n",
            "\u001b[0;32m/usr/local/lib/python3.6/dist-packages/IPython/core/pylabtools.py\u001b[0m in \u001b[0;36mprint_figure\u001b[0;34m(fig, fmt, bbox_inches, **kwargs)\u001b[0m\n\u001b[1;32m    123\u001b[0m \u001b[0;34m\u001b[0m\u001b[0m\n\u001b[1;32m    124\u001b[0m     \u001b[0mbytes_io\u001b[0m \u001b[0;34m=\u001b[0m \u001b[0mBytesIO\u001b[0m\u001b[0;34m(\u001b[0m\u001b[0;34m)\u001b[0m\u001b[0;34m\u001b[0m\u001b[0;34m\u001b[0m\u001b[0m\n\u001b[0;32m--> 125\u001b[0;31m     \u001b[0mfig\u001b[0m\u001b[0;34m.\u001b[0m\u001b[0mcanvas\u001b[0m\u001b[0;34m.\u001b[0m\u001b[0mprint_figure\u001b[0m\u001b[0;34m(\u001b[0m\u001b[0mbytes_io\u001b[0m\u001b[0;34m,\u001b[0m \u001b[0;34m**\u001b[0m\u001b[0mkw\u001b[0m\u001b[0;34m)\u001b[0m\u001b[0;34m\u001b[0m\u001b[0;34m\u001b[0m\u001b[0m\n\u001b[0m\u001b[1;32m    126\u001b[0m     \u001b[0mdata\u001b[0m \u001b[0;34m=\u001b[0m \u001b[0mbytes_io\u001b[0m\u001b[0;34m.\u001b[0m\u001b[0mgetvalue\u001b[0m\u001b[0;34m(\u001b[0m\u001b[0;34m)\u001b[0m\u001b[0;34m\u001b[0m\u001b[0;34m\u001b[0m\u001b[0m\n\u001b[1;32m    127\u001b[0m     \u001b[0;32mif\u001b[0m \u001b[0mfmt\u001b[0m \u001b[0;34m==\u001b[0m \u001b[0;34m'svg'\u001b[0m\u001b[0;34m:\u001b[0m\u001b[0;34m\u001b[0m\u001b[0;34m\u001b[0m\u001b[0m\n",
            "\u001b[0;32m/usr/local/lib/python3.6/dist-packages/matplotlib/backend_bases.py\u001b[0m in \u001b[0;36mprint_figure\u001b[0;34m(self, filename, dpi, facecolor, edgecolor, orientation, format, bbox_inches, **kwargs)\u001b[0m\n\u001b[1;32m   2101\u001b[0m                     \u001b[0mbbox_artists\u001b[0m \u001b[0;34m=\u001b[0m \u001b[0mkwargs\u001b[0m\u001b[0;34m.\u001b[0m\u001b[0mpop\u001b[0m\u001b[0;34m(\u001b[0m\u001b[0;34m\"bbox_extra_artists\"\u001b[0m\u001b[0;34m,\u001b[0m \u001b[0;32mNone\u001b[0m\u001b[0;34m)\u001b[0m\u001b[0;34m\u001b[0m\u001b[0;34m\u001b[0m\u001b[0m\n\u001b[1;32m   2102\u001b[0m                     bbox_inches = self.figure.get_tightbbox(renderer,\n\u001b[0;32m-> 2103\u001b[0;31m                             bbox_extra_artists=bbox_artists)\n\u001b[0m\u001b[1;32m   2104\u001b[0m                     \u001b[0mpad\u001b[0m \u001b[0;34m=\u001b[0m \u001b[0mkwargs\u001b[0m\u001b[0;34m.\u001b[0m\u001b[0mpop\u001b[0m\u001b[0;34m(\u001b[0m\u001b[0;34m\"pad_inches\"\u001b[0m\u001b[0;34m,\u001b[0m \u001b[0;32mNone\u001b[0m\u001b[0;34m)\u001b[0m\u001b[0;34m\u001b[0m\u001b[0;34m\u001b[0m\u001b[0m\n\u001b[1;32m   2105\u001b[0m                     \u001b[0;32mif\u001b[0m \u001b[0mpad\u001b[0m \u001b[0;32mis\u001b[0m \u001b[0;32mNone\u001b[0m\u001b[0;34m:\u001b[0m\u001b[0;34m\u001b[0m\u001b[0;34m\u001b[0m\u001b[0m\n",
            "\u001b[0;32m/usr/local/lib/python3.6/dist-packages/matplotlib/figure.py\u001b[0m in \u001b[0;36mget_tightbbox\u001b[0;34m(self, renderer, bbox_extra_artists)\u001b[0m\n\u001b[1;32m   2383\u001b[0m \u001b[0;34m\u001b[0m\u001b[0m\n\u001b[1;32m   2384\u001b[0m         \u001b[0;32mfor\u001b[0m \u001b[0ma\u001b[0m \u001b[0;32min\u001b[0m \u001b[0martists\u001b[0m\u001b[0;34m:\u001b[0m\u001b[0;34m\u001b[0m\u001b[0;34m\u001b[0m\u001b[0m\n\u001b[0;32m-> 2385\u001b[0;31m             \u001b[0mbbox\u001b[0m \u001b[0;34m=\u001b[0m \u001b[0ma\u001b[0m\u001b[0;34m.\u001b[0m\u001b[0mget_tightbbox\u001b[0m\u001b[0;34m(\u001b[0m\u001b[0mrenderer\u001b[0m\u001b[0;34m)\u001b[0m\u001b[0;34m\u001b[0m\u001b[0;34m\u001b[0m\u001b[0m\n\u001b[0m\u001b[1;32m   2386\u001b[0m             \u001b[0;32mif\u001b[0m \u001b[0mbbox\u001b[0m \u001b[0;32mis\u001b[0m \u001b[0;32mnot\u001b[0m \u001b[0;32mNone\u001b[0m \u001b[0;32mand\u001b[0m \u001b[0;34m(\u001b[0m\u001b[0mbbox\u001b[0m\u001b[0;34m.\u001b[0m\u001b[0mwidth\u001b[0m \u001b[0;34m!=\u001b[0m \u001b[0;36m0\u001b[0m \u001b[0;32mor\u001b[0m \u001b[0mbbox\u001b[0m\u001b[0;34m.\u001b[0m\u001b[0mheight\u001b[0m \u001b[0;34m!=\u001b[0m \u001b[0;36m0\u001b[0m\u001b[0;34m)\u001b[0m\u001b[0;34m:\u001b[0m\u001b[0;34m\u001b[0m\u001b[0;34m\u001b[0m\u001b[0m\n\u001b[1;32m   2387\u001b[0m                 \u001b[0mbb\u001b[0m\u001b[0;34m.\u001b[0m\u001b[0mappend\u001b[0m\u001b[0;34m(\u001b[0m\u001b[0mbbox\u001b[0m\u001b[0;34m)\u001b[0m\u001b[0;34m\u001b[0m\u001b[0;34m\u001b[0m\u001b[0m\n",
            "\u001b[0;32m/usr/local/lib/python3.6/dist-packages/matplotlib/axis.py\u001b[0m in \u001b[0;36mget_tightbbox\u001b[0;34m(self, renderer)\u001b[0m\n\u001b[1;32m   1186\u001b[0m         \u001b[0mticks_to_draw\u001b[0m \u001b[0;34m=\u001b[0m \u001b[0mself\u001b[0m\u001b[0;34m.\u001b[0m\u001b[0m_update_ticks\u001b[0m\u001b[0;34m(\u001b[0m\u001b[0;34m)\u001b[0m\u001b[0;34m\u001b[0m\u001b[0;34m\u001b[0m\u001b[0m\n\u001b[1;32m   1187\u001b[0m \u001b[0;34m\u001b[0m\u001b[0m\n\u001b[0;32m-> 1188\u001b[0;31m         \u001b[0mself\u001b[0m\u001b[0;34m.\u001b[0m\u001b[0m_update_label_position\u001b[0m\u001b[0;34m(\u001b[0m\u001b[0mrenderer\u001b[0m\u001b[0;34m)\u001b[0m\u001b[0;34m\u001b[0m\u001b[0;34m\u001b[0m\u001b[0m\n\u001b[0m\u001b[1;32m   1189\u001b[0m \u001b[0;34m\u001b[0m\u001b[0m\n\u001b[1;32m   1190\u001b[0m         \u001b[0;31m# go back to just this axis's tick labels\u001b[0m\u001b[0;34m\u001b[0m\u001b[0;34m\u001b[0m\u001b[0;34m\u001b[0m\u001b[0m\n",
            "\u001b[0;32m/usr/local/lib/python3.6/dist-packages/matplotlib/axis.py\u001b[0m in \u001b[0;36m_update_label_position\u001b[0;34m(self, renderer)\u001b[0m\n\u001b[1;32m   2019\u001b[0m         \u001b[0;31m# get bounding boxes for this axis and any siblings\u001b[0m\u001b[0;34m\u001b[0m\u001b[0;34m\u001b[0m\u001b[0;34m\u001b[0m\u001b[0m\n\u001b[1;32m   2020\u001b[0m         \u001b[0;31m# that have been set by `fig.align_xlabels()`\u001b[0m\u001b[0;34m\u001b[0m\u001b[0;34m\u001b[0m\u001b[0;34m\u001b[0m\u001b[0m\n\u001b[0;32m-> 2021\u001b[0;31m         \u001b[0mbboxes\u001b[0m\u001b[0;34m,\u001b[0m \u001b[0mbboxes2\u001b[0m \u001b[0;34m=\u001b[0m \u001b[0mself\u001b[0m\u001b[0;34m.\u001b[0m\u001b[0m_get_tick_boxes_siblings\u001b[0m\u001b[0;34m(\u001b[0m\u001b[0mrenderer\u001b[0m\u001b[0;34m=\u001b[0m\u001b[0mrenderer\u001b[0m\u001b[0;34m)\u001b[0m\u001b[0;34m\u001b[0m\u001b[0;34m\u001b[0m\u001b[0m\n\u001b[0m\u001b[1;32m   2022\u001b[0m \u001b[0;34m\u001b[0m\u001b[0m\n\u001b[1;32m   2023\u001b[0m         \u001b[0mx\u001b[0m\u001b[0;34m,\u001b[0m \u001b[0my\u001b[0m \u001b[0;34m=\u001b[0m \u001b[0mself\u001b[0m\u001b[0;34m.\u001b[0m\u001b[0mlabel\u001b[0m\u001b[0;34m.\u001b[0m\u001b[0mget_position\u001b[0m\u001b[0;34m(\u001b[0m\u001b[0;34m)\u001b[0m\u001b[0;34m\u001b[0m\u001b[0;34m\u001b[0m\u001b[0m\n",
            "\u001b[0;32m/usr/local/lib/python3.6/dist-packages/matplotlib/axis.py\u001b[0m in \u001b[0;36m_get_tick_boxes_siblings\u001b[0;34m(self, renderer)\u001b[0m\n\u001b[1;32m   2004\u001b[0m         \u001b[0;32mfor\u001b[0m \u001b[0mnn\u001b[0m\u001b[0;34m,\u001b[0m \u001b[0maxx\u001b[0m \u001b[0;32min\u001b[0m \u001b[0menumerate\u001b[0m\u001b[0;34m(\u001b[0m\u001b[0mgrp\u001b[0m\u001b[0;34m.\u001b[0m\u001b[0mget_siblings\u001b[0m\u001b[0;34m(\u001b[0m\u001b[0mself\u001b[0m\u001b[0;34m.\u001b[0m\u001b[0maxes\u001b[0m\u001b[0;34m)\u001b[0m\u001b[0;34m)\u001b[0m\u001b[0;34m:\u001b[0m\u001b[0;34m\u001b[0m\u001b[0;34m\u001b[0m\u001b[0m\n\u001b[1;32m   2005\u001b[0m             \u001b[0mticks_to_draw\u001b[0m \u001b[0;34m=\u001b[0m \u001b[0maxx\u001b[0m\u001b[0;34m.\u001b[0m\u001b[0mxaxis\u001b[0m\u001b[0;34m.\u001b[0m\u001b[0m_update_ticks\u001b[0m\u001b[0;34m(\u001b[0m\u001b[0;34m)\u001b[0m\u001b[0;34m\u001b[0m\u001b[0;34m\u001b[0m\u001b[0m\n\u001b[0;32m-> 2006\u001b[0;31m             \u001b[0mtlb\u001b[0m\u001b[0;34m,\u001b[0m \u001b[0mtlb2\u001b[0m \u001b[0;34m=\u001b[0m \u001b[0maxx\u001b[0m\u001b[0;34m.\u001b[0m\u001b[0mxaxis\u001b[0m\u001b[0;34m.\u001b[0m\u001b[0m_get_tick_bboxes\u001b[0m\u001b[0;34m(\u001b[0m\u001b[0mticks_to_draw\u001b[0m\u001b[0;34m,\u001b[0m \u001b[0mrenderer\u001b[0m\u001b[0;34m)\u001b[0m\u001b[0;34m\u001b[0m\u001b[0;34m\u001b[0m\u001b[0m\n\u001b[0m\u001b[1;32m   2007\u001b[0m             \u001b[0mbboxes\u001b[0m\u001b[0;34m.\u001b[0m\u001b[0mextend\u001b[0m\u001b[0;34m(\u001b[0m\u001b[0mtlb\u001b[0m\u001b[0;34m)\u001b[0m\u001b[0;34m\u001b[0m\u001b[0;34m\u001b[0m\u001b[0m\n\u001b[1;32m   2008\u001b[0m             \u001b[0mbboxes2\u001b[0m\u001b[0;34m.\u001b[0m\u001b[0mextend\u001b[0m\u001b[0;34m(\u001b[0m\u001b[0mtlb2\u001b[0m\u001b[0;34m)\u001b[0m\u001b[0;34m\u001b[0m\u001b[0;34m\u001b[0m\u001b[0m\n",
            "\u001b[0;32m/usr/local/lib/python3.6/dist-packages/matplotlib/axis.py\u001b[0m in \u001b[0;36m_get_tick_bboxes\u001b[0;34m(self, ticks, renderer)\u001b[0m\n\u001b[1;32m   1172\u001b[0m         \u001b[0;34m\"\"\"Return lists of bboxes for ticks' label1's and label2's.\"\"\"\u001b[0m\u001b[0;34m\u001b[0m\u001b[0;34m\u001b[0m\u001b[0m\n\u001b[1;32m   1173\u001b[0m         return ([tick.label1.get_window_extent(renderer)\n\u001b[0;32m-> 1174\u001b[0;31m                  for tick in ticks if tick.label1.get_visible()],\n\u001b[0m\u001b[1;32m   1175\u001b[0m                 [tick.label2.get_window_extent(renderer)\n\u001b[1;32m   1176\u001b[0m                  for tick in ticks if tick.label2.get_visible()])\n",
            "\u001b[0;32m/usr/local/lib/python3.6/dist-packages/matplotlib/axis.py\u001b[0m in \u001b[0;36m<listcomp>\u001b[0;34m(.0)\u001b[0m\n\u001b[1;32m   1172\u001b[0m         \u001b[0;34m\"\"\"Return lists of bboxes for ticks' label1's and label2's.\"\"\"\u001b[0m\u001b[0;34m\u001b[0m\u001b[0;34m\u001b[0m\u001b[0m\n\u001b[1;32m   1173\u001b[0m         return ([tick.label1.get_window_extent(renderer)\n\u001b[0;32m-> 1174\u001b[0;31m                  for tick in ticks if tick.label1.get_visible()],\n\u001b[0m\u001b[1;32m   1175\u001b[0m                 [tick.label2.get_window_extent(renderer)\n\u001b[1;32m   1176\u001b[0m                  for tick in ticks if tick.label2.get_visible()])\n",
            "\u001b[0;32m/usr/local/lib/python3.6/dist-packages/matplotlib/text.py\u001b[0m in \u001b[0;36mget_window_extent\u001b[0;34m(self, renderer, dpi)\u001b[0m\n\u001b[1;32m    903\u001b[0m             \u001b[0;32mraise\u001b[0m \u001b[0mRuntimeError\u001b[0m\u001b[0;34m(\u001b[0m\u001b[0;34m'Cannot get window extent w/o renderer'\u001b[0m\u001b[0;34m)\u001b[0m\u001b[0;34m\u001b[0m\u001b[0;34m\u001b[0m\u001b[0m\n\u001b[1;32m    904\u001b[0m \u001b[0;34m\u001b[0m\u001b[0m\n\u001b[0;32m--> 905\u001b[0;31m         \u001b[0mbbox\u001b[0m\u001b[0;34m,\u001b[0m \u001b[0minfo\u001b[0m\u001b[0;34m,\u001b[0m \u001b[0mdescent\u001b[0m \u001b[0;34m=\u001b[0m \u001b[0mself\u001b[0m\u001b[0;34m.\u001b[0m\u001b[0m_get_layout\u001b[0m\u001b[0;34m(\u001b[0m\u001b[0mself\u001b[0m\u001b[0;34m.\u001b[0m\u001b[0m_renderer\u001b[0m\u001b[0;34m)\u001b[0m\u001b[0;34m\u001b[0m\u001b[0;34m\u001b[0m\u001b[0m\n\u001b[0m\u001b[1;32m    906\u001b[0m         \u001b[0mx\u001b[0m\u001b[0;34m,\u001b[0m \u001b[0my\u001b[0m \u001b[0;34m=\u001b[0m \u001b[0mself\u001b[0m\u001b[0;34m.\u001b[0m\u001b[0mget_unitless_position\u001b[0m\u001b[0;34m(\u001b[0m\u001b[0;34m)\u001b[0m\u001b[0;34m\u001b[0m\u001b[0;34m\u001b[0m\u001b[0m\n\u001b[1;32m    907\u001b[0m         \u001b[0mx\u001b[0m\u001b[0;34m,\u001b[0m \u001b[0my\u001b[0m \u001b[0;34m=\u001b[0m \u001b[0mself\u001b[0m\u001b[0;34m.\u001b[0m\u001b[0mget_transform\u001b[0m\u001b[0;34m(\u001b[0m\u001b[0;34m)\u001b[0m\u001b[0;34m.\u001b[0m\u001b[0mtransform\u001b[0m\u001b[0;34m(\u001b[0m\u001b[0;34m(\u001b[0m\u001b[0mx\u001b[0m\u001b[0;34m,\u001b[0m \u001b[0my\u001b[0m\u001b[0;34m)\u001b[0m\u001b[0;34m)\u001b[0m\u001b[0;34m\u001b[0m\u001b[0;34m\u001b[0m\u001b[0m\n",
            "\u001b[0;32m/usr/local/lib/python3.6/dist-packages/matplotlib/text.py\u001b[0m in \u001b[0;36m_get_layout\u001b[0;34m(self, renderer)\u001b[0m\n\u001b[1;32m    298\u001b[0m             \u001b[0;32mif\u001b[0m \u001b[0mclean_line\u001b[0m\u001b[0;34m:\u001b[0m\u001b[0;34m\u001b[0m\u001b[0;34m\u001b[0m\u001b[0m\n\u001b[1;32m    299\u001b[0m                 w, h, d = renderer.get_text_width_height_descent(\n\u001b[0;32m--> 300\u001b[0;31m                     clean_line, self._fontproperties, ismath=ismath)\n\u001b[0m\u001b[1;32m    301\u001b[0m             \u001b[0;32melse\u001b[0m\u001b[0;34m:\u001b[0m\u001b[0;34m\u001b[0m\u001b[0;34m\u001b[0m\u001b[0m\n\u001b[1;32m    302\u001b[0m                 \u001b[0mw\u001b[0m \u001b[0;34m=\u001b[0m \u001b[0mh\u001b[0m \u001b[0;34m=\u001b[0m \u001b[0md\u001b[0m \u001b[0;34m=\u001b[0m \u001b[0;36m0\u001b[0m\u001b[0;34m\u001b[0m\u001b[0;34m\u001b[0m\u001b[0m\n",
            "\u001b[0;32m/usr/local/lib/python3.6/dist-packages/matplotlib/backends/backend_agg.py\u001b[0m in \u001b[0;36mget_text_width_height_descent\u001b[0;34m(self, s, prop, ismath)\u001b[0m\n\u001b[1;32m    212\u001b[0m         \u001b[0mflags\u001b[0m \u001b[0;34m=\u001b[0m \u001b[0mget_hinting_flag\u001b[0m\u001b[0;34m(\u001b[0m\u001b[0;34m)\u001b[0m\u001b[0;34m\u001b[0m\u001b[0;34m\u001b[0m\u001b[0m\n\u001b[1;32m    213\u001b[0m         \u001b[0mfont\u001b[0m \u001b[0;34m=\u001b[0m \u001b[0mself\u001b[0m\u001b[0;34m.\u001b[0m\u001b[0m_get_agg_font\u001b[0m\u001b[0;34m(\u001b[0m\u001b[0mprop\u001b[0m\u001b[0;34m)\u001b[0m\u001b[0;34m\u001b[0m\u001b[0;34m\u001b[0m\u001b[0m\n\u001b[0;32m--> 214\u001b[0;31m         \u001b[0mfont\u001b[0m\u001b[0;34m.\u001b[0m\u001b[0mset_text\u001b[0m\u001b[0;34m(\u001b[0m\u001b[0ms\u001b[0m\u001b[0;34m,\u001b[0m \u001b[0;36m0.0\u001b[0m\u001b[0;34m,\u001b[0m \u001b[0mflags\u001b[0m\u001b[0;34m=\u001b[0m\u001b[0mflags\u001b[0m\u001b[0;34m)\u001b[0m\u001b[0;34m\u001b[0m\u001b[0;34m\u001b[0m\u001b[0m\n\u001b[0m\u001b[1;32m    215\u001b[0m         \u001b[0mw\u001b[0m\u001b[0;34m,\u001b[0m \u001b[0mh\u001b[0m \u001b[0;34m=\u001b[0m \u001b[0mfont\u001b[0m\u001b[0;34m.\u001b[0m\u001b[0mget_width_height\u001b[0m\u001b[0;34m(\u001b[0m\u001b[0;34m)\u001b[0m  \u001b[0;31m# width and height of unrotated string\u001b[0m\u001b[0;34m\u001b[0m\u001b[0;34m\u001b[0m\u001b[0m\n\u001b[1;32m    216\u001b[0m         \u001b[0md\u001b[0m \u001b[0;34m=\u001b[0m \u001b[0mfont\u001b[0m\u001b[0;34m.\u001b[0m\u001b[0mget_descent\u001b[0m\u001b[0;34m(\u001b[0m\u001b[0;34m)\u001b[0m\u001b[0;34m\u001b[0m\u001b[0;34m\u001b[0m\u001b[0m\n",
            "\u001b[0;31mKeyboardInterrupt\u001b[0m: "
          ]
        }
      ]
    },
    {
      "cell_type": "code",
      "metadata": {
        "id": "FJENL13LA9q1"
      },
      "source": [
        ""
      ],
      "execution_count": null,
      "outputs": []
    }
  ]
}